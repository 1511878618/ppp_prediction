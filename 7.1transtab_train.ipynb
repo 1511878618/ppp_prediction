{
 "cells": [
  {
   "cell_type": "markdown",
   "metadata": {},
   "source": [
    "## train the model "
   ]
  },
  {
   "cell_type": "code",
   "execution_count": 1,
   "metadata": {},
   "outputs": [],
   "source": [
    "import pickle\n",
    "from ppp_prediction import transtab\n",
    "import pandas as pd\n",
    "\n",
    "total_save_dict = pickle.load(open(\"result/dl/transtab/data/ALL/total.pkl\", \"rb\"))\n",
    "\n",
    "allset = total_save_dict[\"allset\"]\n",
    "trainset = total_save_dict[\"trainset\"]\n",
    "valset = total_save_dict[\"valset\"]\n",
    "testset = total_save_dict[\"testset\"]\n",
    "cat_cols = total_save_dict[\"cat_cols\"]\n",
    "num_cols = total_save_dict[\"num_cols\"]\n",
    "bin_cols = total_save_dict[\"bin_cols\"]"
   ]
  },
  {
   "cell_type": "code",
   "execution_count": null,
   "metadata": {},
   "outputs": [],
   "source": []
  },
  {
   "cell_type": "code",
   "execution_count": 2,
   "metadata": {},
   "outputs": [
    {
     "name": "stdout",
     "output_type": "stream",
     "text": [
      "{0: 0.5293663628344605, 1: 9.013141426783479}\n"
     ]
    }
   ],
   "source": [
    "from torch.utils.data import WeightedRandomSampler\n",
    "from sklearn.utils import class_weight\n",
    "import numpy as np\n",
    "\n",
    "\n",
    "def createWeightedSampler(labels, class_num=2):\n",
    "\n",
    "    if isinstance(labels, pd.Series):\n",
    "        labels = labels.values\n",
    "\n",
    "    class_weights = dict(\n",
    "        enumerate(\n",
    "            class_weight.compute_class_weight(\n",
    "                \"balanced\",\n",
    "                classes=np.arange(class_num),\n",
    "                y=labels,\n",
    "            )\n",
    "        )\n",
    "    )\n",
    "    print(class_weights)\n",
    "    train_class_weights = [class_weights[i] for i in labels]\n",
    "    sampler = WeightedRandomSampler(\n",
    "        train_class_weights, len(train_class_weights), replacement=True\n",
    "    )\n",
    "    return sampler\n",
    "\n",
    "\n",
    "sampler = createWeightedSampler(trainset[1])"
   ]
  },
  {
   "cell_type": "code",
   "execution_count": 3,
   "metadata": {},
   "outputs": [
    {
     "name": "stderr",
     "output_type": "stream",
     "text": [
      "/home/xutingfeng/miniforge3/envs/rapids-24.02/lib/python3.10/site-packages/torch/nn/modules/transformer.py:286: UserWarning: enable_nested_tensor is True, but self.use_nested_tensor is False because encoder_layer was not TransformerEncoderLayer\n",
      "  warnings.warn(f\"enable_nested_tensor is True, but self.use_nested_tensor is False because {why_not_sparsity_fast_path}\")\n"
     ]
    }
   ],
   "source": [
    "model = transtab.build_classifier(cat_cols, num_cols, bin_cols)\n",
    "\n",
    "# specify training arguments, take validation loss for early stopping\n",
    "training_arguments = {\n",
    "    \"num_epoch\": 100,\n",
    "    \"eval_metric\": \"val_loss\",\n",
    "    \"eval_less_is_better\": True,\n",
    "    \"output_dir\": \"result/dl/transtab/model/ProteinRS\",\n",
    "    \"sampler\": sampler,\n",
    "}"
   ]
  },
  {
   "cell_type": "code",
   "execution_count": 4,
   "metadata": {},
   "outputs": [
    {
     "data": {
      "application/vnd.jupyter.widget-view+json": {
       "model_id": "42fe86fd57bb4aa38af5b0a6161af64c",
       "version_major": 2,
       "version_minor": 0
      },
      "text/plain": [
       "Epoch:   0%|          | 0/100 [00:00<?, ?it/s]"
      ]
     },
     "metadata": {},
     "output_type": "display_data"
    },
    {
     "data": {
      "application/vnd.jupyter.widget-view+json": {
       "model_id": "4eb2c4ea6c6c429b81b3471121d16d75",
       "version_major": 2,
       "version_minor": 0
      },
      "text/plain": [
       "Output()"
      ]
     },
     "metadata": {},
     "output_type": "display_data"
    },
    {
     "name": "stderr",
     "output_type": "stream",
     "text": [
      "/home/xutingfeng/ukb/project/ppp_prediction/ppp_prediction/transtab/trainer.py:114: TqdmExperimentalWarning: rich is experimental/alpha\n",
      "  for data in tqdm(self.trainloader_list[dataindex]):\n"
     ]
    }
   ],
   "source": [
    "transtab.train(model, trainset, valset, **training_arguments)"
   ]
  },
  {
   "cell_type": "code",
   "execution_count": 5,
   "metadata": {},
   "outputs": [],
   "source": [
    "import torch\n",
    "import numpy as np\n",
    "\n",
    "\n",
    "def predict(\n",
    "    clf,\n",
    "    x_test,\n",
    "    y_test=None,\n",
    "    return_loss=False,\n",
    "    eval_batch_size=256,\n",
    "):\n",
    "    \"\"\"Make predictions by TransTabClassifier.\n",
    "\n",
    "    Parameters\n",
    "    ----------\n",
    "    clf: TransTabClassifier\n",
    "        the classifier model to make predictions.\n",
    "\n",
    "    x_test: pd.DataFrame\n",
    "            input tabular data.\n",
    "\n",
    "    y_test: pd.Series\n",
    "        target labels for input x_test. will be ignored if ``return_loss=False``.\n",
    "\n",
    "    return_loss: bool\n",
    "        set True will return the loss if y_test is given.\n",
    "\n",
    "    eval_batch_size: int\n",
    "        the batch size for inference.\n",
    "\n",
    "    Returns\n",
    "    -------\n",
    "    pred_all: np.array\n",
    "        if ``return_loss=False``, return the predictions made by TransTabClassifier.\n",
    "\n",
    "    avg_loss: float\n",
    "        if ``return_loss=True``, return the mean loss of the predictions made by TransTabClassifier.\n",
    "\n",
    "    \"\"\"\n",
    "    clf.eval()\n",
    "    pred_list, loss_list = [], []\n",
    "    for i in range(0, len(x_test), eval_batch_size):\n",
    "        bs_x_test = x_test.iloc[i : i + eval_batch_size]\n",
    "        if y_test is not None:\n",
    "            bs_y_test = y_test.iloc[i : i + eval_batch_size]\n",
    "        with torch.no_grad():\n",
    "            if y_test is not None:\n",
    "                logits, loss = clf(bs_x_test, bs_y_test)\n",
    "            else:\n",
    "                logits, loss = clf(bs_x_test)\n",
    "\n",
    "        if loss is not None:\n",
    "            loss_list.append(loss.item())\n",
    "        if logits.shape[-1] == 1:  # binary classification\n",
    "            pred_list.append(logits.sigmoid().detach().cpu().numpy())\n",
    "        else:  # multi-class classification\n",
    "            pred_list.append(torch.softmax(logits, -1).detach().cpu().numpy())\n",
    "    pred_all = np.concatenate(pred_list, 0)\n",
    "    if logits.shape[-1] == 1:\n",
    "        pred_all = pred_all.flatten()\n",
    "\n",
    "    if return_loss:\n",
    "        avg_loss = np.mean(loss_list)\n",
    "        return avg_loss\n",
    "    else:\n",
    "        return pred_all"
   ]
  },
  {
   "cell_type": "code",
   "execution_count": 6,
   "metadata": {},
   "outputs": [
    {
     "ename": "RuntimeError",
     "evalue": "Error(s) in loading state_dict for TransTabClassifier:\n\tsize mismatch for input_encoder.feature_processor.word_embedding.word_embeddings.weight: copying a param with shape torch.Size([2916, 128]) from checkpoint, the shape in current model is torch.Size([2919, 128]).",
     "output_type": "error",
     "traceback": [
      "\u001b[0;31m---------------------------------------------------------------------------\u001b[0m",
      "\u001b[0;31mRuntimeError\u001b[0m                              Traceback (most recent call last)",
      "Cell \u001b[0;32mIn[6], line 1\u001b[0m\n\u001b[0;32m----> 1\u001b[0m \u001b[43mmodel\u001b[49m\u001b[38;5;241;43m.\u001b[39;49m\u001b[43mload\u001b[49m\u001b[43m(\u001b[49m\u001b[38;5;124;43m\"\u001b[39;49m\u001b[38;5;124;43m./checkpoint\u001b[39;49m\u001b[38;5;124;43m\"\u001b[39;49m\u001b[43m)\u001b[49m\n\u001b[1;32m      3\u001b[0m x_test, y_test \u001b[38;5;241m=\u001b[39m testset\n\u001b[1;32m      5\u001b[0m y_pred \u001b[38;5;241m=\u001b[39m predict(model, x_test)\n",
      "File \u001b[0;32m~/ukb/project/ppp_prediction/ppp_prediction/transtab/modeling_transtab.py:778\u001b[0m, in \u001b[0;36mTransTabModel.load\u001b[0;34m(self, ckpt_dir)\u001b[0m\n\u001b[1;32m    776\u001b[0m model_name \u001b[38;5;241m=\u001b[39m os\u001b[38;5;241m.\u001b[39mpath\u001b[38;5;241m.\u001b[39mjoin(ckpt_dir, constants\u001b[38;5;241m.\u001b[39mWEIGHTS_NAME)\n\u001b[1;32m    777\u001b[0m state_dict \u001b[38;5;241m=\u001b[39m torch\u001b[38;5;241m.\u001b[39mload(model_name, map_location\u001b[38;5;241m=\u001b[39m\u001b[38;5;124m'\u001b[39m\u001b[38;5;124mcpu\u001b[39m\u001b[38;5;124m'\u001b[39m)\n\u001b[0;32m--> 778\u001b[0m missing_keys, unexpected_keys \u001b[38;5;241m=\u001b[39m \u001b[38;5;28;43mself\u001b[39;49m\u001b[38;5;241;43m.\u001b[39;49m\u001b[43mload_state_dict\u001b[49m\u001b[43m(\u001b[49m\u001b[43mstate_dict\u001b[49m\u001b[43m,\u001b[49m\u001b[43m \u001b[49m\u001b[43mstrict\u001b[49m\u001b[38;5;241;43m=\u001b[39;49m\u001b[38;5;28;43;01mFalse\u001b[39;49;00m\u001b[43m)\u001b[49m\n\u001b[1;32m    779\u001b[0m logger\u001b[38;5;241m.\u001b[39minfo(\u001b[38;5;124mf\u001b[39m\u001b[38;5;124m'\u001b[39m\u001b[38;5;124mmissing keys: \u001b[39m\u001b[38;5;132;01m{\u001b[39;00mmissing_keys\u001b[38;5;132;01m}\u001b[39;00m\u001b[38;5;124m'\u001b[39m)\n\u001b[1;32m    780\u001b[0m logger\u001b[38;5;241m.\u001b[39minfo(\u001b[38;5;124mf\u001b[39m\u001b[38;5;124m'\u001b[39m\u001b[38;5;124munexpected keys: \u001b[39m\u001b[38;5;132;01m{\u001b[39;00munexpected_keys\u001b[38;5;132;01m}\u001b[39;00m\u001b[38;5;124m'\u001b[39m)\n",
      "File \u001b[0;32m~/miniforge3/envs/rapids-24.02/lib/python3.10/site-packages/torch/nn/modules/module.py:2153\u001b[0m, in \u001b[0;36mModule.load_state_dict\u001b[0;34m(self, state_dict, strict, assign)\u001b[0m\n\u001b[1;32m   2148\u001b[0m         error_msgs\u001b[38;5;241m.\u001b[39minsert(\n\u001b[1;32m   2149\u001b[0m             \u001b[38;5;241m0\u001b[39m, \u001b[38;5;124m'\u001b[39m\u001b[38;5;124mMissing key(s) in state_dict: \u001b[39m\u001b[38;5;132;01m{}\u001b[39;00m\u001b[38;5;124m. \u001b[39m\u001b[38;5;124m'\u001b[39m\u001b[38;5;241m.\u001b[39mformat(\n\u001b[1;32m   2150\u001b[0m                 \u001b[38;5;124m'\u001b[39m\u001b[38;5;124m, \u001b[39m\u001b[38;5;124m'\u001b[39m\u001b[38;5;241m.\u001b[39mjoin(\u001b[38;5;124mf\u001b[39m\u001b[38;5;124m'\u001b[39m\u001b[38;5;124m\"\u001b[39m\u001b[38;5;132;01m{\u001b[39;00mk\u001b[38;5;132;01m}\u001b[39;00m\u001b[38;5;124m\"\u001b[39m\u001b[38;5;124m'\u001b[39m \u001b[38;5;28;01mfor\u001b[39;00m k \u001b[38;5;129;01min\u001b[39;00m missing_keys)))\n\u001b[1;32m   2152\u001b[0m \u001b[38;5;28;01mif\u001b[39;00m \u001b[38;5;28mlen\u001b[39m(error_msgs) \u001b[38;5;241m>\u001b[39m \u001b[38;5;241m0\u001b[39m:\n\u001b[0;32m-> 2153\u001b[0m     \u001b[38;5;28;01mraise\u001b[39;00m \u001b[38;5;167;01mRuntimeError\u001b[39;00m(\u001b[38;5;124m'\u001b[39m\u001b[38;5;124mError(s) in loading state_dict for \u001b[39m\u001b[38;5;132;01m{}\u001b[39;00m\u001b[38;5;124m:\u001b[39m\u001b[38;5;130;01m\\n\u001b[39;00m\u001b[38;5;130;01m\\t\u001b[39;00m\u001b[38;5;132;01m{}\u001b[39;00m\u001b[38;5;124m'\u001b[39m\u001b[38;5;241m.\u001b[39mformat(\n\u001b[1;32m   2154\u001b[0m                        \u001b[38;5;28mself\u001b[39m\u001b[38;5;241m.\u001b[39m\u001b[38;5;18m__class__\u001b[39m\u001b[38;5;241m.\u001b[39m\u001b[38;5;18m__name__\u001b[39m, \u001b[38;5;124m\"\u001b[39m\u001b[38;5;130;01m\\n\u001b[39;00m\u001b[38;5;130;01m\\t\u001b[39;00m\u001b[38;5;124m\"\u001b[39m\u001b[38;5;241m.\u001b[39mjoin(error_msgs)))\n\u001b[1;32m   2155\u001b[0m \u001b[38;5;28;01mreturn\u001b[39;00m _IncompatibleKeys(missing_keys, unexpected_keys)\n",
      "\u001b[0;31mRuntimeError\u001b[0m: Error(s) in loading state_dict for TransTabClassifier:\n\tsize mismatch for input_encoder.feature_processor.word_embedding.word_embeddings.weight: copying a param with shape torch.Size([2916, 128]) from checkpoint, the shape in current model is torch.Size([2919, 128])."
     ]
    },
    {
     "ename": "",
     "evalue": "",
     "output_type": "error",
     "traceback": [
      "\u001b[1;31m在当前单元格或上一个单元格中执行代码时 Kernel 崩溃。\n",
      "\u001b[1;31m请查看单元格中的代码，以确定故障的可能原因。\n",
      "\u001b[1;31m单击<a href='https://aka.ms/vscodeJupyterKernelCrash'>此处</a>了解详细信息。\n",
      "\u001b[1;31m有关更多详细信息，请查看 Jupyter <a href='command:jupyter.viewOutput'>log</a>。"
     ]
    }
   ],
   "source": [
    "model.load(\"./checkpoint\")\n",
    "\n",
    "x_test, y_test = testset\n",
    "\n",
    "y_pred = predict(model, x_test)"
   ]
  },
  {
   "cell_type": "code",
   "execution_count": null,
   "metadata": {},
   "outputs": [
    {
     "data": {
      "text/plain": [
       "{'AUC': 0.7551839093465423,\n",
       " 'ACC': 0.6991561457447505,\n",
       " 'Macro_F1': 0.5052694028348362,\n",
       " 'Sensitivity': 0.6787878787878788,\n",
       " 'Specificity': 0.7003872216844143,\n",
       " 'APR': 0.15471036197104648}"
      ]
     },
     "metadata": {},
     "output_type": "display_data"
    },
    {
     "data": {
      "image/png": "[encoded data removed]",
      "text/plain": [
       "<Figure size 432x288 with 1 Axes>"
      ]
     },
     "metadata": {},
     "output_type": "display_data"
    }
   ],
   "source": [
    "import pandas as pd\n",
    "import seaborn as sns\n",
    "\n",
    "sns.kdeplot(\n",
    "    pd.DataFrame({\"y_pred\": y_pred, \"y_test\": y_test}),\n",
    "    x=\"y_pred\",\n",
    "    hue=\"y_test\",\n",
    "    common_norm=False,\n",
    ")\n",
    "from ppp_prediction.corr import cal_binary_metrics\n",
    "\n",
    "cal_binary_metrics(y_test.values, y_pred)"
   ]
  },
  {
   "cell_type": "code",
   "execution_count": null,
   "metadata": {},
   "outputs": [
    {
     "data": {
      "text/plain": [
       "array([0.0096304 , 0.01932999, 0.04352001, ..., 0.03718373, 0.08343857,\n",
       "       0.01284842], dtype=float32)"
      ]
     },
     "metadata": {},
     "output_type": "display_data"
    }
   ],
   "source": [
    "y_pred"
   ]
  },
  {
   "cell_type": "code",
   "execution_count": null,
   "metadata": {},
   "outputs": [
    {
     "data": {
      "text/plain": [
       "{'AUC': 0.7486046248775498,\n",
       " 'ACC': 0.6524812766850984,\n",
       " 'Macro_F1': 0.4835577752550346,\n",
       " 'Sensitivity': 0.726813880126183,\n",
       " 'Specificity': 0.6481529512023416,\n",
       " 'APR': 0.14372086625106173}"
      ]
     },
     "metadata": {},
     "output_type": "display_data"
    }
   ],
   "source": []
  }
 ],
 "metadata": {
  "kernelspec": {
   "display_name": "rapids-24.02",
   "language": "python",
   "name": "python3"
  },
  "language_info": {
   "codemirror_mode": {
    "name": "ipython",
    "version": 3
   },
   "file_extension": ".py",
   "mimetype": "text/x-python",
   "name": "python",
   "nbconvert_exporter": "python",
   "pygments_lexer": "ipython3",
   "version": "3.10.14"
  }
 },
 "nbformat": 4,
 "nbformat_minor": 2
}
