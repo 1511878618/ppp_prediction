{
 "cells": [
  {
   "cell_type": "markdown",
   "metadata": {},
   "source": [
    "两种策略：\n",
    "(N_protein, embedding_dim) \n",
    "1. Logit Regression\n",
    "    1.  (N_pretein,)\n",
    "    2. (embedding_dim)\n",
    "\n",
    "1. mean and FC \n",
    "\n",
    "1. Conv or Attention"
   ]
  },
  {
   "cell_type": "code",
   "execution_count": 1,
   "metadata": {},
   "outputs": [],
   "source": [
    "import datasets\n",
    "\n",
    "file_dir = \"tmp/\""
   ]
  },
  {
   "cell_type": "code",
   "execution_count": 2,
   "metadata": {},
   "outputs": [],
   "source": [
    "import numpy as np\n",
    "\n",
    "# axis =1, mean pooling for each example; axis = 0, mean pooling for each protein\n",
    "\n",
    "\n",
    "def parse_embedding(examples, axis=1):\n",
    "    embedding = np.array(examples[\"embeddings\"])\n",
    "\n",
    "    mean_embedding = embedding.mean(axis=axis)\n",
    "\n",
    "    examples[\"mean_embedding\"] = mean_embedding\n",
    "\n",
    "    return examples"
   ]
  },
  {
   "cell_type": "code",
   "execution_count": 3,
   "metadata": {},
   "outputs": [],
   "source": [
    "def expanding_list_to_featuers(examples):\n",
    "    features = examples[\"mean_embedding\"]\n",
    "    for i, feature in enumerate(features):\n",
    "        examples[f\"feature_{i}\"] = feature\n",
    "    return examples"
   ]
  },
  {
   "cell_type": "code",
   "execution_count": 23,
   "metadata": {},
   "outputs": [
    {
     "data": {
      "application/vnd.jupyter.widget-view+json": {
       "model_id": "b28f7e37240549f58fa363755ff8b299",
       "version_major": 2,
       "version_minor": 0
      },
      "text/plain": [
       "Map (num_proc=4):   0%|          | 0/15432 [00:00<?, ? examples/s]"
      ]
     },
     "metadata": {},
     "output_type": "display_data"
    },
    {
     "name": "stdout",
     "output_type": "stream",
     "text": [
      "(1024, 256)\n",
      "(1024, 256)\n",
      "(1024, 256)\n",
      "(1024, 256)\n",
      "(1024, 256)\n",
      "(1024, 256)\n",
      "(1024, 256)\n",
      "(1024, 256)\n",
      "(1024, 256)\n",
      "(1024, 256)\n",
      "(1024, 256)\n",
      "(1024, 256)\n",
      "(786, 256)\n",
      "(786, 256)\n",
      "(786, 256)\n",
      "(786, 256)\n"
     ]
    },
    {
     "data": {
      "application/vnd.jupyter.widget-view+json": {
       "model_id": "822d6ebaa4cf4127ac2b085bfaf1b7a1",
       "version_major": 2,
       "version_minor": 0
      },
      "text/plain": [
       "Map (num_proc=4):   0%|          | 0/15432 [00:00<?, ? examples/s]"
      ]
     },
     "metadata": {},
     "output_type": "display_data"
    }
   ],
   "source": [
    "train = datasets.load_from_disk(f\"{file_dir}/imputed_200/train\")\n",
    "\n",
    "\n",
    "train = train.map(\n",
    "    lambda x: parse_embedding(x, axis=1), batched=True, batch_size=1024, num_proc=4\n",
    ")\n",
    "train_df = (\n",
    "    train.select_columns([\"eid\", \"incident_cad\", \"mean_embedding\"])\n",
    "    .map(expanding_list_to_featuers, num_proc=4, remove_columns=[\"mean_embedding\"])\n",
    "    .to_pandas()\n",
    ")\n",
    "train_df.to_pickle(f\"{file_dir}/train_geneformer_features.pkl\")\n",
    "\n",
    "test = datasets.load_from_disk(f\"{file_dir}/imputed_200/test\")\n",
    "\n",
    "test = test.map(\n",
    "    lambda x: parse_embedding(x, axis=1), batched=True, batch_size=1024, num_proc=4\n",
    ")\n",
    "test_df = (\n",
    "    test.select_columns([\"eid\", \"incident_cad\", \"mean_embedding\"])\n",
    "    .map(expanding_list_to_featuers, num_proc=4, remove_columns=[\"mean_embedding\"])\n",
    "    .to_pandas()\n",
    ")\n",
    "test_df.to_pickle(f\"{file_dir}/test_geneformer_features.pkl\")"
   ]
  },
  {
   "cell_type": "code",
   "execution_count": 4,
   "metadata": {},
   "outputs": [],
   "source": [
    "train = datasets.load_from_disk(f\"{file_dir}/imputed_200/train\")"
   ]
  },
  {
   "cell_type": "code",
   "execution_count": null,
   "metadata": {},
   "outputs": [],
   "source": []
  },
  {
   "cell_type": "code",
   "execution_count": 8,
   "metadata": {},
   "outputs": [
    {
     "data": {
      "application/vnd.jupyter.widget-view+json": {
       "model_id": "1ff6a858853842e2ba1588fb977fcb95",
       "version_major": 2,
       "version_minor": 0
      },
      "text/plain": [
       "Map (num_proc=4):   0%|          | 0/36007 [00:00<?, ? examples/s]"
      ]
     },
     "metadata": {},
     "output_type": "display_data"
    },
    {
     "data": {
      "application/vnd.jupyter.widget-view+json": {
       "model_id": "1289b5334acf47dbb9d7af3d7bf13775",
       "version_major": 2,
       "version_minor": 0
      },
      "text/plain": [
       "Map (num_proc=4):   0%|          | 0/36007 [00:00<?, ? examples/s]"
      ]
     },
     "metadata": {},
     "output_type": "display_data"
    },
    {
     "data": {
      "application/vnd.jupyter.widget-view+json": {
       "model_id": "3a310cb9129347dfb305831329df9899",
       "version_major": 2,
       "version_minor": 0
      },
      "text/plain": [
       "Map (num_proc=4):   0%|          | 0/15432 [00:00<?, ? examples/s]"
      ]
     },
     "metadata": {},
     "output_type": "display_data"
    },
    {
     "data": {
      "application/vnd.jupyter.widget-view+json": {
       "model_id": "48c3ff9478674f9bab7ab456ab00ee6b",
       "version_major": 2,
       "version_minor": 0
      },
      "text/plain": [
       "Map (num_proc=4):   0%|          | 0/15432 [00:00<?, ? examples/s]"
      ]
     },
     "metadata": {},
     "output_type": "display_data"
    }
   ],
   "source": [
    "def parse_embedding(examples, axis=1):\n",
    "    embedding = np.array(examples[\"embeddings\"])\n",
    "\n",
    "    mean_embedding = embedding.mean(axis=axis)\n",
    "\n",
    "    examples[\"mean_embedding\"] = mean_embedding\n",
    "\n",
    "    return examples\n",
    "\n",
    "\n",
    "train = train.map(\n",
    "    lambda x: parse_embedding(x, axis=2), batched=True, batch_size=128, num_proc=4\n",
    ")\n",
    "\n",
    "train_df = (\n",
    "    train.select_columns([\"eid\", \"incident_cad\", \"mean_embedding\"])\n",
    "    .map(expanding_list_to_featuers, num_proc=4, remove_columns=[\"mean_embedding\"])\n",
    "    .to_pandas()\n",
    ")\n",
    "\n",
    "train_df.to_pickle(f\"{file_dir}/train_geneformer_features_proteindim.pkl\")\n",
    "\n",
    "test = datasets.load_from_disk(f\"{file_dir}/imputed_200/test\")\n",
    "\n",
    "test = test.map(\n",
    "    lambda x: parse_embedding(x, axis=2), batched=True, batch_size=1024, num_proc=4\n",
    ")\n",
    "test_df = (\n",
    "    test.select_columns([\"eid\", \"incident_cad\", \"mean_embedding\"])\n",
    "    .map(expanding_list_to_featuers, num_proc=4, remove_columns=[\"mean_embedding\"])\n",
    "    .to_pandas()\n",
    ")\n",
    "test_df.to_pickle(f\"{file_dir}/test_geneformer_features_proteindim.pkl\")"
   ]
  },
  {
   "cell_type": "code",
   "execution_count": null,
   "metadata": {},
   "outputs": [
    {
     "data": {
      "text/plain": [
       "Dataset({\n",
       "    features: ['input_ids', 'incident_cad', 'eid', 'length', 'embeddings'],\n",
       "    num_rows: 36007\n",
       "})"
      ]
     },
     "execution_count": 28,
     "metadata": {},
     "output_type": "execute_result"
    }
   ],
   "source": []
  },
  {
   "cell_type": "code",
   "execution_count": null,
   "metadata": {},
   "outputs": [],
   "source": []
  },
  {
   "cell_type": "code",
   "execution_count": 18,
   "metadata": {},
   "outputs": [
    {
     "data": {
      "text/plain": [
       "256    36007\n",
       "Name: mean_embedding, dtype: int64"
      ]
     },
     "execution_count": 18,
     "metadata": {},
     "output_type": "execute_result"
    }
   ],
   "source": []
  },
  {
   "cell_type": "code",
   "execution_count": null,
   "metadata": {},
   "outputs": [],
   "source": []
  }
 ],
 "metadata": {
  "kernelspec": {
   "display_name": "Python 3",
   "language": "python",
   "name": "python3"
  },
  "language_info": {
   "codemirror_mode": {
    "name": "ipython",
    "version": 3
   },
   "file_extension": ".py",
   "mimetype": "text/x-python",
   "name": "python",
   "nbconvert_exporter": "python",
   "pygments_lexer": "ipython3",
   "version": "3.12.1"
  }
 },
 "nbformat": 4,
 "nbformat_minor": 2
}
