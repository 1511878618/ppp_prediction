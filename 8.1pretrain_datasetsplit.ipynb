{
 "cells": [
  {
   "cell_type": "markdown",
   "metadata": {},
   "source": [
    "1. preprocess:按照rank的方式进行排序（参考geneformer）\n",
    "2. tokenizer构建，直接基于前面的预料库构建即可\n",
    "3. BERT架构构建（或者其他的）,MLM\n",
    "4. 预训练"
   ]
  },
  {
   "cell_type": "markdown",
   "metadata": {},
   "source": [
    "## preprocessing"
   ]
  },
  {
   "cell_type": "code",
   "execution_count": null,
   "metadata": {},
   "outputs": [],
   "source": []
  },
  {
   "cell_type": "code",
   "execution_count": 5,
   "metadata": {},
   "outputs": [],
   "source": [
    "# TODO: eid信息缺失了，并且部分蛋白是用mean填充的，后续可以根本不需要填充，因为可以传入的时候没有他们\n",
    "import pandas as pd\n",
    "\n",
    "train_data = pd.read_pickle(\"result/part1/train_imputed.pkl\").set_index(\"eid\")\n",
    "test_data = pd.read_pickle(\"result/part1/test_imputed.pkl\").set_index(\"eid\")\n",
    "\n",
    "\n",
    "protein_cols = test_data.columns[test_data.columns.tolist().index(\"C3\") :].tolist()\n",
    "train_data = train_data[protein_cols]\n",
    "test_data = test_data[protein_cols]"
   ]
  },
  {
   "cell_type": "code",
   "execution_count": 10,
   "metadata": {},
   "outputs": [
    {
     "data": {
      "text/html": [
       "<div>\n",
       "<style scoped>\n",
       "    .dataframe tbody tr th:only-of-type {\n",
       "        vertical-align: middle;\n",
       "    }\n",
       "\n",
       "    .dataframe tbody tr th {\n",
       "        vertical-align: top;\n",
       "    }\n",
       "\n",
       "    .dataframe thead th {\n",
       "        text-align: right;\n",
       "    }\n",
       "</style>\n",
       "<table border=\"1\" class=\"dataframe\">\n",
       "  <thead>\n",
       "    <tr style=\"text-align: right;\">\n",
       "      <th></th>\n",
       "      <th>C3</th>\n",
       "      <th>KLK7</th>\n",
       "      <th>GCHFR</th>\n",
       "      <th>NHLRC3</th>\n",
       "      <th>APOD</th>\n",
       "      <th>GAPDH</th>\n",
       "      <th>TP53I3</th>\n",
       "      <th>CPA4</th>\n",
       "      <th>ANXA2</th>\n",
       "      <th>GRSF1</th>\n",
       "      <th>...</th>\n",
       "      <th>EGFR</th>\n",
       "      <th>TGFBR3</th>\n",
       "      <th>CRTAC1</th>\n",
       "      <th>IGFBP7</th>\n",
       "      <th>SELE</th>\n",
       "      <th>VWF</th>\n",
       "      <th>NOTCH3</th>\n",
       "      <th>CNTN1</th>\n",
       "      <th>ENG</th>\n",
       "      <th>ICAM2</th>\n",
       "    </tr>\n",
       "    <tr>\n",
       "      <th>eid</th>\n",
       "      <th></th>\n",
       "      <th></th>\n",
       "      <th></th>\n",
       "      <th></th>\n",
       "      <th></th>\n",
       "      <th></th>\n",
       "      <th></th>\n",
       "      <th></th>\n",
       "      <th></th>\n",
       "      <th></th>\n",
       "      <th></th>\n",
       "      <th></th>\n",
       "      <th></th>\n",
       "      <th></th>\n",
       "      <th></th>\n",
       "      <th></th>\n",
       "      <th></th>\n",
       "      <th></th>\n",
       "      <th></th>\n",
       "      <th></th>\n",
       "      <th></th>\n",
       "    </tr>\n",
       "  </thead>\n",
       "  <tbody>\n",
       "    <tr>\n",
       "      <th>1982486.0</th>\n",
       "      <td>0.040385</td>\n",
       "      <td>0.007345</td>\n",
       "      <td>0.057373</td>\n",
       "      <td>-0.000238</td>\n",
       "      <td>0.02491</td>\n",
       "      <td>-0.065304</td>\n",
       "      <td>0.02669</td>\n",
       "      <td>-0.009212</td>\n",
       "      <td>0.073499</td>\n",
       "      <td>0.082175</td>\n",
       "      <td>...</td>\n",
       "      <td>0.571850</td>\n",
       "      <td>0.5713</td>\n",
       "      <td>-0.663750</td>\n",
       "      <td>0.777200</td>\n",
       "      <td>0.619300</td>\n",
       "      <td>0.812200</td>\n",
       "      <td>0.791950</td>\n",
       "      <td>0.148600</td>\n",
       "      <td>0.127500</td>\n",
       "      <td>1.582800</td>\n",
       "    </tr>\n",
       "    <tr>\n",
       "      <th>5937359.0</th>\n",
       "      <td>0.040385</td>\n",
       "      <td>0.007345</td>\n",
       "      <td>0.057373</td>\n",
       "      <td>-0.000238</td>\n",
       "      <td>0.02491</td>\n",
       "      <td>-0.065304</td>\n",
       "      <td>0.02669</td>\n",
       "      <td>-0.009212</td>\n",
       "      <td>0.073499</td>\n",
       "      <td>0.082175</td>\n",
       "      <td>...</td>\n",
       "      <td>-0.064050</td>\n",
       "      <td>-0.3107</td>\n",
       "      <td>-0.013850</td>\n",
       "      <td>-0.773100</td>\n",
       "      <td>0.335000</td>\n",
       "      <td>0.691400</td>\n",
       "      <td>0.309750</td>\n",
       "      <td>0.085900</td>\n",
       "      <td>-0.116300</td>\n",
       "      <td>0.360600</td>\n",
       "    </tr>\n",
       "    <tr>\n",
       "      <th>3737374.0</th>\n",
       "      <td>-0.557200</td>\n",
       "      <td>-0.499600</td>\n",
       "      <td>0.575800</td>\n",
       "      <td>-0.589900</td>\n",
       "      <td>-0.49640</td>\n",
       "      <td>0.118850</td>\n",
       "      <td>0.17070</td>\n",
       "      <td>-0.074400</td>\n",
       "      <td>0.032050</td>\n",
       "      <td>-0.209000</td>\n",
       "      <td>...</td>\n",
       "      <td>-0.078600</td>\n",
       "      <td>-0.0684</td>\n",
       "      <td>0.334750</td>\n",
       "      <td>0.429200</td>\n",
       "      <td>-0.475600</td>\n",
       "      <td>0.707900</td>\n",
       "      <td>-0.119200</td>\n",
       "      <td>-0.336500</td>\n",
       "      <td>0.256400</td>\n",
       "      <td>0.169300</td>\n",
       "    </tr>\n",
       "    <tr>\n",
       "      <th>5525566.0</th>\n",
       "      <td>0.141400</td>\n",
       "      <td>-0.525100</td>\n",
       "      <td>-0.338000</td>\n",
       "      <td>-0.233100</td>\n",
       "      <td>-0.02070</td>\n",
       "      <td>0.077700</td>\n",
       "      <td>0.33230</td>\n",
       "      <td>0.144400</td>\n",
       "      <td>2.277800</td>\n",
       "      <td>1.125300</td>\n",
       "      <td>...</td>\n",
       "      <td>-0.001350</td>\n",
       "      <td>-0.4087</td>\n",
       "      <td>0.010150</td>\n",
       "      <td>-0.213000</td>\n",
       "      <td>0.046050</td>\n",
       "      <td>0.902600</td>\n",
       "      <td>0.043200</td>\n",
       "      <td>0.076700</td>\n",
       "      <td>0.116900</td>\n",
       "      <td>0.158500</td>\n",
       "    </tr>\n",
       "    <tr>\n",
       "      <th>1828132.0</th>\n",
       "      <td>0.386100</td>\n",
       "      <td>-0.094400</td>\n",
       "      <td>0.546200</td>\n",
       "      <td>-0.163200</td>\n",
       "      <td>0.02491</td>\n",
       "      <td>0.088000</td>\n",
       "      <td>0.02180</td>\n",
       "      <td>0.194000</td>\n",
       "      <td>-0.261200</td>\n",
       "      <td>-0.168600</td>\n",
       "      <td>...</td>\n",
       "      <td>-0.004284</td>\n",
       "      <td>-0.0087</td>\n",
       "      <td>-0.029539</td>\n",
       "      <td>0.022568</td>\n",
       "      <td>-0.027118</td>\n",
       "      <td>0.008048</td>\n",
       "      <td>0.004249</td>\n",
       "      <td>0.000619</td>\n",
       "      <td>0.001707</td>\n",
       "      <td>-0.026825</td>\n",
       "    </tr>\n",
       "    <tr>\n",
       "      <th>...</th>\n",
       "      <td>...</td>\n",
       "      <td>...</td>\n",
       "      <td>...</td>\n",
       "      <td>...</td>\n",
       "      <td>...</td>\n",
       "      <td>...</td>\n",
       "      <td>...</td>\n",
       "      <td>...</td>\n",
       "      <td>...</td>\n",
       "      <td>...</td>\n",
       "      <td>...</td>\n",
       "      <td>...</td>\n",
       "      <td>...</td>\n",
       "      <td>...</td>\n",
       "      <td>...</td>\n",
       "      <td>...</td>\n",
       "      <td>...</td>\n",
       "      <td>...</td>\n",
       "      <td>...</td>\n",
       "      <td>...</td>\n",
       "      <td>...</td>\n",
       "    </tr>\n",
       "    <tr>\n",
       "      <th>2200051.0</th>\n",
       "      <td>-0.190400</td>\n",
       "      <td>-0.538750</td>\n",
       "      <td>0.113200</td>\n",
       "      <td>0.164100</td>\n",
       "      <td>-0.58220</td>\n",
       "      <td>-0.072700</td>\n",
       "      <td>-0.72350</td>\n",
       "      <td>-0.216350</td>\n",
       "      <td>-0.083400</td>\n",
       "      <td>-0.599400</td>\n",
       "      <td>...</td>\n",
       "      <td>-0.225700</td>\n",
       "      <td>0.3121</td>\n",
       "      <td>0.121850</td>\n",
       "      <td>0.236300</td>\n",
       "      <td>0.301800</td>\n",
       "      <td>-0.237100</td>\n",
       "      <td>-0.033300</td>\n",
       "      <td>-0.146900</td>\n",
       "      <td>0.054100</td>\n",
       "      <td>0.277500</td>\n",
       "    </tr>\n",
       "    <tr>\n",
       "      <th>4095573.0</th>\n",
       "      <td>-0.086900</td>\n",
       "      <td>-0.232300</td>\n",
       "      <td>-0.814900</td>\n",
       "      <td>-0.269100</td>\n",
       "      <td>0.00000</td>\n",
       "      <td>-0.551450</td>\n",
       "      <td>-0.70850</td>\n",
       "      <td>-0.110800</td>\n",
       "      <td>0.381650</td>\n",
       "      <td>-0.291400</td>\n",
       "      <td>...</td>\n",
       "      <td>0.129700</td>\n",
       "      <td>-0.3872</td>\n",
       "      <td>-1.201150</td>\n",
       "      <td>-0.440900</td>\n",
       "      <td>-1.261200</td>\n",
       "      <td>-0.007300</td>\n",
       "      <td>-0.057200</td>\n",
       "      <td>-0.028600</td>\n",
       "      <td>-0.251700</td>\n",
       "      <td>-0.519800</td>\n",
       "    </tr>\n",
       "    <tr>\n",
       "      <th>5600706.0</th>\n",
       "      <td>0.285500</td>\n",
       "      <td>-0.227300</td>\n",
       "      <td>0.352500</td>\n",
       "      <td>0.293800</td>\n",
       "      <td>-0.27210</td>\n",
       "      <td>0.109750</td>\n",
       "      <td>0.63860</td>\n",
       "      <td>-0.117400</td>\n",
       "      <td>0.588050</td>\n",
       "      <td>0.786700</td>\n",
       "      <td>...</td>\n",
       "      <td>0.003500</td>\n",
       "      <td>-0.0264</td>\n",
       "      <td>-0.566850</td>\n",
       "      <td>-0.061300</td>\n",
       "      <td>0.409400</td>\n",
       "      <td>-0.431800</td>\n",
       "      <td>0.300300</td>\n",
       "      <td>0.085100</td>\n",
       "      <td>-0.099600</td>\n",
       "      <td>0.358300</td>\n",
       "    </tr>\n",
       "    <tr>\n",
       "      <th>5763542.0</th>\n",
       "      <td>0.009200</td>\n",
       "      <td>0.542700</td>\n",
       "      <td>0.574100</td>\n",
       "      <td>0.380700</td>\n",
       "      <td>0.23640</td>\n",
       "      <td>0.256100</td>\n",
       "      <td>0.17830</td>\n",
       "      <td>1.040900</td>\n",
       "      <td>0.240400</td>\n",
       "      <td>-0.623200</td>\n",
       "      <td>...</td>\n",
       "      <td>0.068250</td>\n",
       "      <td>-0.1275</td>\n",
       "      <td>-0.266350</td>\n",
       "      <td>0.270200</td>\n",
       "      <td>0.431550</td>\n",
       "      <td>-0.175500</td>\n",
       "      <td>-0.051000</td>\n",
       "      <td>-0.106600</td>\n",
       "      <td>0.026800</td>\n",
       "      <td>-0.091100</td>\n",
       "    </tr>\n",
       "    <tr>\n",
       "      <th>4813271.0</th>\n",
       "      <td>0.217900</td>\n",
       "      <td>-0.594800</td>\n",
       "      <td>-0.241700</td>\n",
       "      <td>0.561000</td>\n",
       "      <td>-0.94230</td>\n",
       "      <td>-0.104550</td>\n",
       "      <td>-0.43810</td>\n",
       "      <td>0.024800</td>\n",
       "      <td>0.655950</td>\n",
       "      <td>0.082175</td>\n",
       "      <td>...</td>\n",
       "      <td>-0.317200</td>\n",
       "      <td>0.1615</td>\n",
       "      <td>-0.053250</td>\n",
       "      <td>-0.009600</td>\n",
       "      <td>0.733400</td>\n",
       "      <td>1.314300</td>\n",
       "      <td>-0.267500</td>\n",
       "      <td>-0.429900</td>\n",
       "      <td>-0.166000</td>\n",
       "      <td>0.000000</td>\n",
       "    </tr>\n",
       "  </tbody>\n",
       "</table>\n",
       "<p>4000 rows × 2911 columns</p>\n",
       "</div>"
      ],
      "text/plain": [
       "                 C3      KLK7     GCHFR    NHLRC3     APOD     GAPDH   TP53I3  \\\n",
       "eid                                                                             \n",
       "1982486.0  0.040385  0.007345  0.057373 -0.000238  0.02491 -0.065304  0.02669   \n",
       "5937359.0  0.040385  0.007345  0.057373 -0.000238  0.02491 -0.065304  0.02669   \n",
       "3737374.0 -0.557200 -0.499600  0.575800 -0.589900 -0.49640  0.118850  0.17070   \n",
       "5525566.0  0.141400 -0.525100 -0.338000 -0.233100 -0.02070  0.077700  0.33230   \n",
       "1828132.0  0.386100 -0.094400  0.546200 -0.163200  0.02491  0.088000  0.02180   \n",
       "...             ...       ...       ...       ...      ...       ...      ...   \n",
       "2200051.0 -0.190400 -0.538750  0.113200  0.164100 -0.58220 -0.072700 -0.72350   \n",
       "4095573.0 -0.086900 -0.232300 -0.814900 -0.269100  0.00000 -0.551450 -0.70850   \n",
       "5600706.0  0.285500 -0.227300  0.352500  0.293800 -0.27210  0.109750  0.63860   \n",
       "5763542.0  0.009200  0.542700  0.574100  0.380700  0.23640  0.256100  0.17830   \n",
       "4813271.0  0.217900 -0.594800 -0.241700  0.561000 -0.94230 -0.104550 -0.43810   \n",
       "\n",
       "               CPA4     ANXA2     GRSF1  ...      EGFR  TGFBR3    CRTAC1  \\\n",
       "eid                                      ...                               \n",
       "1982486.0 -0.009212  0.073499  0.082175  ...  0.571850  0.5713 -0.663750   \n",
       "5937359.0 -0.009212  0.073499  0.082175  ... -0.064050 -0.3107 -0.013850   \n",
       "3737374.0 -0.074400  0.032050 -0.209000  ... -0.078600 -0.0684  0.334750   \n",
       "5525566.0  0.144400  2.277800  1.125300  ... -0.001350 -0.4087  0.010150   \n",
       "1828132.0  0.194000 -0.261200 -0.168600  ... -0.004284 -0.0087 -0.029539   \n",
       "...             ...       ...       ...  ...       ...     ...       ...   \n",
       "2200051.0 -0.216350 -0.083400 -0.599400  ... -0.225700  0.3121  0.121850   \n",
       "4095573.0 -0.110800  0.381650 -0.291400  ...  0.129700 -0.3872 -1.201150   \n",
       "5600706.0 -0.117400  0.588050  0.786700  ...  0.003500 -0.0264 -0.566850   \n",
       "5763542.0  1.040900  0.240400 -0.623200  ...  0.068250 -0.1275 -0.266350   \n",
       "4813271.0  0.024800  0.655950  0.082175  ... -0.317200  0.1615 -0.053250   \n",
       "\n",
       "             IGFBP7      SELE       VWF    NOTCH3     CNTN1       ENG  \\\n",
       "eid                                                                     \n",
       "1982486.0  0.777200  0.619300  0.812200  0.791950  0.148600  0.127500   \n",
       "5937359.0 -0.773100  0.335000  0.691400  0.309750  0.085900 -0.116300   \n",
       "3737374.0  0.429200 -0.475600  0.707900 -0.119200 -0.336500  0.256400   \n",
       "5525566.0 -0.213000  0.046050  0.902600  0.043200  0.076700  0.116900   \n",
       "1828132.0  0.022568 -0.027118  0.008048  0.004249  0.000619  0.001707   \n",
       "...             ...       ...       ...       ...       ...       ...   \n",
       "2200051.0  0.236300  0.301800 -0.237100 -0.033300 -0.146900  0.054100   \n",
       "4095573.0 -0.440900 -1.261200 -0.007300 -0.057200 -0.028600 -0.251700   \n",
       "5600706.0 -0.061300  0.409400 -0.431800  0.300300  0.085100 -0.099600   \n",
       "5763542.0  0.270200  0.431550 -0.175500 -0.051000 -0.106600  0.026800   \n",
       "4813271.0 -0.009600  0.733400  1.314300 -0.267500 -0.429900 -0.166000   \n",
       "\n",
       "              ICAM2  \n",
       "eid                  \n",
       "1982486.0  1.582800  \n",
       "5937359.0  0.360600  \n",
       "3737374.0  0.169300  \n",
       "5525566.0  0.158500  \n",
       "1828132.0 -0.026825  \n",
       "...             ...  \n",
       "2200051.0  0.277500  \n",
       "4095573.0 -0.519800  \n",
       "5600706.0  0.358300  \n",
       "5763542.0 -0.091100  \n",
       "4813271.0  0.000000  \n",
       "\n",
       "[4000 rows x 2911 columns]"
      ]
     },
     "execution_count": 10,
     "metadata": {},
     "output_type": "execute_result"
    }
   ],
   "source": [
    "total = pd.concat([train_data, test_data], axis=0)\n",
    "train_data = total.iloc[4000:]\n",
    "eval_data = total.iloc[:4000]\n",
    "eval_data"
   ]
  },
  {
   "cell_type": "code",
   "execution_count": 12,
   "metadata": {},
   "outputs": [],
   "source": [
    "train_data.to_pickle(\"result/dl/ProteomicsBERT/train.pkl\")\n",
    "eval_data.to_pickle(\"result/dl/ProteomicsBERT/eval.pkl\")"
   ]
  },
  {
   "cell_type": "code",
   "execution_count": 16,
   "metadata": {},
   "outputs": [],
   "source": [
    "from datasets import Dataset\n",
    "from collections import defaultdict\n",
    "\n",
    "\n",
    "def df2dataset(df, tokenizer, max_length=2048):\n",
    "    res = defaultdict(list)\n",
    "    for idx, row in df.iterrows():\n",
    "        ranked_row = row.sort_values(ascending=False).dropna()\n",
    "\n",
    "        res[\"eid\"].append(ranked_row.name)\n",
    "        res[\"proteins\"].append(\" \".join(ranked_row.index.tolist()))\n",
    "        res[\"values\"].append(ranked_row.values.tolist())\n",
    "    dataset = Dataset.from_dict(res)\n",
    "\n",
    "    def group_texts(examples):\n",
    "\n",
    "        tokenized_inputs = tokenizer(\n",
    "            examples[\"proteins\"],\n",
    "            return_special_tokens_mask=True,\n",
    "            add_special_tokens=True,\n",
    "            padding=\"max_length\",\n",
    "            max_length=max_length,\n",
    "            truncation=True,\n",
    "            truncation_strategy=\"only_last\",\n",
    "        )\n",
    "\n",
    "        return tokenized_inputs\n",
    "\n",
    "    dataset = dataset.map(\n",
    "        group_texts,\n",
    "        batched=True,\n",
    "        remove_columns=[\"proteins\"],\n",
    "        num_proc=8,\n",
    "    )\n",
    "    return dataset"
   ]
  },
  {
   "cell_type": "code",
   "execution_count": 17,
   "metadata": {},
   "outputs": [],
   "source": [
    "from transformers import (\n",
    "    BertTokenizer,\n",
    "    BertTokenizerFast,\n",
    "    PreTrainedTokenizerFast,\n",
    "    AutoTokenizer,\n",
    ")\n",
    "\n",
    "\n",
    "tokenizer = AutoTokenizer.from_pretrained(\"transtab/tokenizer\")"
   ]
  },
  {
   "cell_type": "code",
   "execution_count": 18,
   "metadata": {},
   "outputs": [
    {
     "data": {
      "application/vnd.jupyter.widget-view+json": {
       "model_id": "98d4b9488618477694cdfab072290e26",
       "version_major": 2,
       "version_minor": 0
      },
      "text/plain": [
       "Map (num_proc=8):   0%|          | 0/47439 [00:00<?, ? examples/s]"
      ]
     },
     "metadata": {},
     "output_type": "display_data"
    },
    {
     "ename": "TimeoutError",
     "evalue": "",
     "output_type": "error",
     "traceback": [
      "\u001b[0;31m---------------------------------------------------------------------------\u001b[0m",
      "\u001b[0;31mKeyboardInterrupt\u001b[0m                         Traceback (most recent call last)",
      "File \u001b[0;32m~/miniforge3/envs/rapids-24.02/lib/python3.10/site-packages/datasets/utils/py_utils.py:701\u001b[0m, in \u001b[0;36miflatmap_unordered\u001b[0;34m(pool, func, kwargs_iterable)\u001b[0m\n\u001b[1;32m    700\u001b[0m \u001b[38;5;28;01mtry\u001b[39;00m:\n\u001b[0;32m--> 701\u001b[0m     \u001b[38;5;28;01myield\u001b[39;00m \u001b[43mqueue\u001b[49m\u001b[38;5;241;43m.\u001b[39;49m\u001b[43mget\u001b[49m\u001b[43m(\u001b[49m\u001b[43mtimeout\u001b[49m\u001b[38;5;241;43m=\u001b[39;49m\u001b[38;5;241;43m0.05\u001b[39;49m\u001b[43m)\u001b[49m\n\u001b[1;32m    702\u001b[0m \u001b[38;5;28;01mexcept\u001b[39;00m Empty:\n",
      "File \u001b[0;32m<string>:2\u001b[0m, in \u001b[0;36mget\u001b[0;34m(self, *args, **kwds)\u001b[0m\n",
      "File \u001b[0;32m~/miniforge3/envs/rapids-24.02/lib/python3.10/site-packages/multiprocess/managers.py:818\u001b[0m, in \u001b[0;36mBaseProxy._callmethod\u001b[0;34m(self, methodname, args, kwds)\u001b[0m\n\u001b[1;32m    817\u001b[0m conn\u001b[38;5;241m.\u001b[39msend((\u001b[38;5;28mself\u001b[39m\u001b[38;5;241m.\u001b[39m_id, methodname, args, kwds))\n\u001b[0;32m--> 818\u001b[0m kind, result \u001b[38;5;241m=\u001b[39m \u001b[43mconn\u001b[49m\u001b[38;5;241;43m.\u001b[39;49m\u001b[43mrecv\u001b[49m\u001b[43m(\u001b[49m\u001b[43m)\u001b[49m\n\u001b[1;32m    820\u001b[0m \u001b[38;5;28;01mif\u001b[39;00m kind \u001b[38;5;241m==\u001b[39m \u001b[38;5;124m'\u001b[39m\u001b[38;5;124m#RETURN\u001b[39m\u001b[38;5;124m'\u001b[39m:\n",
      "File \u001b[0;32m~/miniforge3/envs/rapids-24.02/lib/python3.10/site-packages/multiprocess/connection.py:253\u001b[0m, in \u001b[0;36m_ConnectionBase.recv\u001b[0;34m(self)\u001b[0m\n\u001b[1;32m    252\u001b[0m \u001b[38;5;28mself\u001b[39m\u001b[38;5;241m.\u001b[39m_check_readable()\n\u001b[0;32m--> 253\u001b[0m buf \u001b[38;5;241m=\u001b[39m \u001b[38;5;28;43mself\u001b[39;49m\u001b[38;5;241;43m.\u001b[39;49m\u001b[43m_recv_bytes\u001b[49m\u001b[43m(\u001b[49m\u001b[43m)\u001b[49m\n\u001b[1;32m    254\u001b[0m \u001b[38;5;28;01mreturn\u001b[39;00m _ForkingPickler\u001b[38;5;241m.\u001b[39mloads(buf\u001b[38;5;241m.\u001b[39mgetbuffer())\n",
      "File \u001b[0;32m~/miniforge3/envs/rapids-24.02/lib/python3.10/site-packages/multiprocess/connection.py:417\u001b[0m, in \u001b[0;36mConnection._recv_bytes\u001b[0;34m(self, maxsize)\u001b[0m\n\u001b[1;32m    416\u001b[0m \u001b[38;5;28;01mdef\u001b[39;00m \u001b[38;5;21m_recv_bytes\u001b[39m(\u001b[38;5;28mself\u001b[39m, maxsize\u001b[38;5;241m=\u001b[39m\u001b[38;5;28;01mNone\u001b[39;00m):\n\u001b[0;32m--> 417\u001b[0m     buf \u001b[38;5;241m=\u001b[39m \u001b[38;5;28;43mself\u001b[39;49m\u001b[38;5;241;43m.\u001b[39;49m\u001b[43m_recv\u001b[49m\u001b[43m(\u001b[49m\u001b[38;5;241;43m4\u001b[39;49m\u001b[43m)\u001b[49m\n\u001b[1;32m    418\u001b[0m     size, \u001b[38;5;241m=\u001b[39m struct\u001b[38;5;241m.\u001b[39munpack(\u001b[38;5;124m\"\u001b[39m\u001b[38;5;124m!i\u001b[39m\u001b[38;5;124m\"\u001b[39m, buf\u001b[38;5;241m.\u001b[39mgetvalue())\n",
      "File \u001b[0;32m~/miniforge3/envs/rapids-24.02/lib/python3.10/site-packages/multiprocess/connection.py:382\u001b[0m, in \u001b[0;36mConnection._recv\u001b[0;34m(self, size, read)\u001b[0m\n\u001b[1;32m    381\u001b[0m \u001b[38;5;28;01mwhile\u001b[39;00m remaining \u001b[38;5;241m>\u001b[39m \u001b[38;5;241m0\u001b[39m:\n\u001b[0;32m--> 382\u001b[0m     chunk \u001b[38;5;241m=\u001b[39m \u001b[43mread\u001b[49m\u001b[43m(\u001b[49m\u001b[43mhandle\u001b[49m\u001b[43m,\u001b[49m\u001b[43m \u001b[49m\u001b[43mremaining\u001b[49m\u001b[43m)\u001b[49m\n\u001b[1;32m    383\u001b[0m     n \u001b[38;5;241m=\u001b[39m \u001b[38;5;28mlen\u001b[39m(chunk)\n",
      "\u001b[0;31mKeyboardInterrupt\u001b[0m: ",
      "\nDuring handling of the above exception, another exception occurred:\n",
      "\u001b[0;31mTimeoutError\u001b[0m                              Traceback (most recent call last)",
      "Cell \u001b[0;32mIn[18], line 3\u001b[0m\n\u001b[1;32m      1\u001b[0m max_length \u001b[38;5;241m=\u001b[39m tokenizer\u001b[38;5;241m.\u001b[39mmodel_max_length \u001b[38;5;28;01mif\u001b[39;00m tokenizer\u001b[38;5;241m.\u001b[39mmodel_max_length \u001b[38;5;241m<\u001b[39m\u001b[38;5;241m=\u001b[39m \u001b[38;5;241m1e5\u001b[39m \u001b[38;5;28;01melse\u001b[39;00m \u001b[38;5;241m2048\u001b[39m\n\u001b[0;32m----> 3\u001b[0m train_dataset \u001b[38;5;241m=\u001b[39m \u001b[43mdf2dataset\u001b[49m\u001b[43m(\u001b[49m\u001b[43mtrain_data\u001b[49m\u001b[43m,\u001b[49m\u001b[43m \u001b[49m\u001b[43mmax_length\u001b[49m\u001b[38;5;241;43m=\u001b[39;49m\u001b[43mmax_length\u001b[49m\u001b[43m,\u001b[49m\u001b[43m \u001b[49m\u001b[43mtokenizer\u001b[49m\u001b[38;5;241;43m=\u001b[39;49m\u001b[43mtokenizer\u001b[49m\u001b[43m)\u001b[49m\n\u001b[1;32m      4\u001b[0m \u001b[38;5;28mprint\u001b[39m(\n\u001b[1;32m      5\u001b[0m     \u001b[38;5;124mf\u001b[39m\u001b[38;5;124m\"\u001b[39m\u001b[38;5;124mtrain_dataset: \u001b[39m\u001b[38;5;132;01m{\u001b[39;00mtrain_dataset\u001b[38;5;132;01m}\u001b[39;00m\u001b[38;5;124m with input_ids fix length: \u001b[39m\u001b[38;5;132;01m{\u001b[39;00m\u001b[38;5;28mlen\u001b[39m(train_dataset[\u001b[38;5;241m0\u001b[39m][\u001b[38;5;124m'\u001b[39m\u001b[38;5;124minput_ids\u001b[39m\u001b[38;5;124m'\u001b[39m])\u001b[38;5;132;01m}\u001b[39;00m\u001b[38;5;124m\"\u001b[39m\n\u001b[1;32m      6\u001b[0m )\n\u001b[1;32m      8\u001b[0m test_dataset \u001b[38;5;241m=\u001b[39m df2dataset(test_data, max_length\u001b[38;5;241m=\u001b[39mmax_length, tokenizer\u001b[38;5;241m=\u001b[39mtokenizer)\n",
      "Cell \u001b[0;32mIn[16], line 29\u001b[0m, in \u001b[0;36mdf2dataset\u001b[0;34m(df, tokenizer, max_length)\u001b[0m\n\u001b[1;32m     17\u001b[0m     tokenized_inputs \u001b[38;5;241m=\u001b[39m tokenizer(\n\u001b[1;32m     18\u001b[0m         examples[\u001b[38;5;124m\"\u001b[39m\u001b[38;5;124mproteins\u001b[39m\u001b[38;5;124m\"\u001b[39m],\n\u001b[1;32m     19\u001b[0m         return_special_tokens_mask\u001b[38;5;241m=\u001b[39m\u001b[38;5;28;01mTrue\u001b[39;00m,\n\u001b[0;32m   (...)\u001b[0m\n\u001b[1;32m     24\u001b[0m         truncation_strategy\u001b[38;5;241m=\u001b[39m\u001b[38;5;124m\"\u001b[39m\u001b[38;5;124monly_last\u001b[39m\u001b[38;5;124m\"\u001b[39m,\n\u001b[1;32m     25\u001b[0m     )\n\u001b[1;32m     27\u001b[0m     \u001b[38;5;28;01mreturn\u001b[39;00m tokenized_inputs\n\u001b[0;32m---> 29\u001b[0m dataset \u001b[38;5;241m=\u001b[39m \u001b[43mdataset\u001b[49m\u001b[38;5;241;43m.\u001b[39;49m\u001b[43mmap\u001b[49m\u001b[43m(\u001b[49m\n\u001b[1;32m     30\u001b[0m \u001b[43m    \u001b[49m\u001b[43mgroup_texts\u001b[49m\u001b[43m,\u001b[49m\n\u001b[1;32m     31\u001b[0m \u001b[43m    \u001b[49m\u001b[43mbatched\u001b[49m\u001b[38;5;241;43m=\u001b[39;49m\u001b[38;5;28;43;01mTrue\u001b[39;49;00m\u001b[43m,\u001b[49m\n\u001b[1;32m     32\u001b[0m \u001b[43m    \u001b[49m\u001b[43mremove_columns\u001b[49m\u001b[38;5;241;43m=\u001b[39;49m\u001b[43m[\u001b[49m\u001b[38;5;124;43m\"\u001b[39;49m\u001b[38;5;124;43mproteins\u001b[39;49m\u001b[38;5;124;43m\"\u001b[39;49m\u001b[43m]\u001b[49m\u001b[43m,\u001b[49m\n\u001b[1;32m     33\u001b[0m \u001b[43m    \u001b[49m\u001b[43mnum_proc\u001b[49m\u001b[38;5;241;43m=\u001b[39;49m\u001b[38;5;241;43m8\u001b[39;49m\u001b[43m,\u001b[49m\n\u001b[1;32m     34\u001b[0m \u001b[43m\u001b[49m\u001b[43m)\u001b[49m\n\u001b[1;32m     35\u001b[0m \u001b[38;5;28;01mreturn\u001b[39;00m dataset\n",
      "File \u001b[0;32m~/miniforge3/envs/rapids-24.02/lib/python3.10/site-packages/datasets/arrow_dataset.py:602\u001b[0m, in \u001b[0;36mtransmit_tasks.<locals>.wrapper\u001b[0;34m(*args, **kwargs)\u001b[0m\n\u001b[1;32m    600\u001b[0m     \u001b[38;5;28mself\u001b[39m: \u001b[38;5;124m\"\u001b[39m\u001b[38;5;124mDataset\u001b[39m\u001b[38;5;124m\"\u001b[39m \u001b[38;5;241m=\u001b[39m kwargs\u001b[38;5;241m.\u001b[39mpop(\u001b[38;5;124m\"\u001b[39m\u001b[38;5;124mself\u001b[39m\u001b[38;5;124m\"\u001b[39m)\n\u001b[1;32m    601\u001b[0m \u001b[38;5;66;03m# apply actual function\u001b[39;00m\n\u001b[0;32m--> 602\u001b[0m out: Union[\u001b[38;5;124m\"\u001b[39m\u001b[38;5;124mDataset\u001b[39m\u001b[38;5;124m\"\u001b[39m, \u001b[38;5;124m\"\u001b[39m\u001b[38;5;124mDatasetDict\u001b[39m\u001b[38;5;124m\"\u001b[39m] \u001b[38;5;241m=\u001b[39m \u001b[43mfunc\u001b[49m\u001b[43m(\u001b[49m\u001b[38;5;28;43mself\u001b[39;49m\u001b[43m,\u001b[49m\u001b[43m \u001b[49m\u001b[38;5;241;43m*\u001b[39;49m\u001b[43margs\u001b[49m\u001b[43m,\u001b[49m\u001b[43m \u001b[49m\u001b[38;5;241;43m*\u001b[39;49m\u001b[38;5;241;43m*\u001b[39;49m\u001b[43mkwargs\u001b[49m\u001b[43m)\u001b[49m\n\u001b[1;32m    603\u001b[0m datasets: List[\u001b[38;5;124m\"\u001b[39m\u001b[38;5;124mDataset\u001b[39m\u001b[38;5;124m\"\u001b[39m] \u001b[38;5;241m=\u001b[39m \u001b[38;5;28mlist\u001b[39m(out\u001b[38;5;241m.\u001b[39mvalues()) \u001b[38;5;28;01mif\u001b[39;00m \u001b[38;5;28misinstance\u001b[39m(out, \u001b[38;5;28mdict\u001b[39m) \u001b[38;5;28;01melse\u001b[39;00m [out]\n\u001b[1;32m    604\u001b[0m \u001b[38;5;28;01mfor\u001b[39;00m dataset \u001b[38;5;129;01min\u001b[39;00m datasets:\n\u001b[1;32m    605\u001b[0m     \u001b[38;5;66;03m# Remove task templates if a column mapping of the template is no longer valid\u001b[39;00m\n",
      "File \u001b[0;32m~/miniforge3/envs/rapids-24.02/lib/python3.10/site-packages/datasets/arrow_dataset.py:567\u001b[0m, in \u001b[0;36mtransmit_format.<locals>.wrapper\u001b[0;34m(*args, **kwargs)\u001b[0m\n\u001b[1;32m    560\u001b[0m self_format \u001b[38;5;241m=\u001b[39m {\n\u001b[1;32m    561\u001b[0m     \u001b[38;5;124m\"\u001b[39m\u001b[38;5;124mtype\u001b[39m\u001b[38;5;124m\"\u001b[39m: \u001b[38;5;28mself\u001b[39m\u001b[38;5;241m.\u001b[39m_format_type,\n\u001b[1;32m    562\u001b[0m     \u001b[38;5;124m\"\u001b[39m\u001b[38;5;124mformat_kwargs\u001b[39m\u001b[38;5;124m\"\u001b[39m: \u001b[38;5;28mself\u001b[39m\u001b[38;5;241m.\u001b[39m_format_kwargs,\n\u001b[1;32m    563\u001b[0m     \u001b[38;5;124m\"\u001b[39m\u001b[38;5;124mcolumns\u001b[39m\u001b[38;5;124m\"\u001b[39m: \u001b[38;5;28mself\u001b[39m\u001b[38;5;241m.\u001b[39m_format_columns,\n\u001b[1;32m    564\u001b[0m     \u001b[38;5;124m\"\u001b[39m\u001b[38;5;124moutput_all_columns\u001b[39m\u001b[38;5;124m\"\u001b[39m: \u001b[38;5;28mself\u001b[39m\u001b[38;5;241m.\u001b[39m_output_all_columns,\n\u001b[1;32m    565\u001b[0m }\n\u001b[1;32m    566\u001b[0m \u001b[38;5;66;03m# apply actual function\u001b[39;00m\n\u001b[0;32m--> 567\u001b[0m out: Union[\u001b[38;5;124m\"\u001b[39m\u001b[38;5;124mDataset\u001b[39m\u001b[38;5;124m\"\u001b[39m, \u001b[38;5;124m\"\u001b[39m\u001b[38;5;124mDatasetDict\u001b[39m\u001b[38;5;124m\"\u001b[39m] \u001b[38;5;241m=\u001b[39m \u001b[43mfunc\u001b[49m\u001b[43m(\u001b[49m\u001b[38;5;28;43mself\u001b[39;49m\u001b[43m,\u001b[49m\u001b[43m \u001b[49m\u001b[38;5;241;43m*\u001b[39;49m\u001b[43margs\u001b[49m\u001b[43m,\u001b[49m\u001b[43m \u001b[49m\u001b[38;5;241;43m*\u001b[39;49m\u001b[38;5;241;43m*\u001b[39;49m\u001b[43mkwargs\u001b[49m\u001b[43m)\u001b[49m\n\u001b[1;32m    568\u001b[0m datasets: List[\u001b[38;5;124m\"\u001b[39m\u001b[38;5;124mDataset\u001b[39m\u001b[38;5;124m\"\u001b[39m] \u001b[38;5;241m=\u001b[39m \u001b[38;5;28mlist\u001b[39m(out\u001b[38;5;241m.\u001b[39mvalues()) \u001b[38;5;28;01mif\u001b[39;00m \u001b[38;5;28misinstance\u001b[39m(out, \u001b[38;5;28mdict\u001b[39m) \u001b[38;5;28;01melse\u001b[39;00m [out]\n\u001b[1;32m    569\u001b[0m \u001b[38;5;66;03m# re-apply format to the output\u001b[39;00m\n",
      "File \u001b[0;32m~/miniforge3/envs/rapids-24.02/lib/python3.10/site-packages/datasets/arrow_dataset.py:3248\u001b[0m, in \u001b[0;36mDataset.map\u001b[0;34m(self, function, with_indices, with_rank, input_columns, batched, batch_size, drop_last_batch, remove_columns, keep_in_memory, load_from_cache_file, cache_file_name, writer_batch_size, features, disable_nullable, fn_kwargs, num_proc, suffix_template, new_fingerprint, desc)\u001b[0m\n\u001b[1;32m   3242\u001b[0m logger\u001b[38;5;241m.\u001b[39minfo(\u001b[38;5;124mf\u001b[39m\u001b[38;5;124m\"\u001b[39m\u001b[38;5;124mSpawning \u001b[39m\u001b[38;5;132;01m{\u001b[39;00mnum_proc\u001b[38;5;132;01m}\u001b[39;00m\u001b[38;5;124m processes\u001b[39m\u001b[38;5;124m\"\u001b[39m)\n\u001b[1;32m   3243\u001b[0m \u001b[38;5;28;01mwith\u001b[39;00m hf_tqdm(\n\u001b[1;32m   3244\u001b[0m     unit\u001b[38;5;241m=\u001b[39m\u001b[38;5;124m\"\u001b[39m\u001b[38;5;124m examples\u001b[39m\u001b[38;5;124m\"\u001b[39m,\n\u001b[1;32m   3245\u001b[0m     total\u001b[38;5;241m=\u001b[39mpbar_total,\n\u001b[1;32m   3246\u001b[0m     desc\u001b[38;5;241m=\u001b[39m(desc \u001b[38;5;129;01mor\u001b[39;00m \u001b[38;5;124m\"\u001b[39m\u001b[38;5;124mMap\u001b[39m\u001b[38;5;124m\"\u001b[39m) \u001b[38;5;241m+\u001b[39m \u001b[38;5;124mf\u001b[39m\u001b[38;5;124m\"\u001b[39m\u001b[38;5;124m (num_proc=\u001b[39m\u001b[38;5;132;01m{\u001b[39;00mnum_proc\u001b[38;5;132;01m}\u001b[39;00m\u001b[38;5;124m)\u001b[39m\u001b[38;5;124m\"\u001b[39m,\n\u001b[1;32m   3247\u001b[0m ) \u001b[38;5;28;01mas\u001b[39;00m pbar:\n\u001b[0;32m-> 3248\u001b[0m     \u001b[38;5;28;01mfor\u001b[39;00m rank, done, content \u001b[38;5;129;01min\u001b[39;00m iflatmap_unordered(\n\u001b[1;32m   3249\u001b[0m         pool, Dataset\u001b[38;5;241m.\u001b[39m_map_single, kwargs_iterable\u001b[38;5;241m=\u001b[39mkwargs_per_job\n\u001b[1;32m   3250\u001b[0m     ):\n\u001b[1;32m   3251\u001b[0m         \u001b[38;5;28;01mif\u001b[39;00m done:\n\u001b[1;32m   3252\u001b[0m             shards_done \u001b[38;5;241m+\u001b[39m\u001b[38;5;241m=\u001b[39m \u001b[38;5;241m1\u001b[39m\n",
      "File \u001b[0;32m~/miniforge3/envs/rapids-24.02/lib/python3.10/site-packages/datasets/utils/py_utils.py:715\u001b[0m, in \u001b[0;36miflatmap_unordered\u001b[0;34m(pool, func, kwargs_iterable)\u001b[0m\n\u001b[1;32m    712\u001b[0m \u001b[38;5;28;01mfinally\u001b[39;00m:\n\u001b[1;32m    713\u001b[0m     \u001b[38;5;28;01mif\u001b[39;00m \u001b[38;5;129;01mnot\u001b[39;00m pool_changed:\n\u001b[1;32m    714\u001b[0m         \u001b[38;5;66;03m# we get the result in case there's an error to raise\u001b[39;00m\n\u001b[0;32m--> 715\u001b[0m         [async_result\u001b[38;5;241m.\u001b[39mget(timeout\u001b[38;5;241m=\u001b[39m\u001b[38;5;241m0.05\u001b[39m) \u001b[38;5;28;01mfor\u001b[39;00m async_result \u001b[38;5;129;01min\u001b[39;00m async_results]\n",
      "File \u001b[0;32m~/miniforge3/envs/rapids-24.02/lib/python3.10/site-packages/datasets/utils/py_utils.py:715\u001b[0m, in \u001b[0;36m<listcomp>\u001b[0;34m(.0)\u001b[0m\n\u001b[1;32m    712\u001b[0m \u001b[38;5;28;01mfinally\u001b[39;00m:\n\u001b[1;32m    713\u001b[0m     \u001b[38;5;28;01mif\u001b[39;00m \u001b[38;5;129;01mnot\u001b[39;00m pool_changed:\n\u001b[1;32m    714\u001b[0m         \u001b[38;5;66;03m# we get the result in case there's an error to raise\u001b[39;00m\n\u001b[0;32m--> 715\u001b[0m         [\u001b[43masync_result\u001b[49m\u001b[38;5;241;43m.\u001b[39;49m\u001b[43mget\u001b[49m\u001b[43m(\u001b[49m\u001b[43mtimeout\u001b[49m\u001b[38;5;241;43m=\u001b[39;49m\u001b[38;5;241;43m0.05\u001b[39;49m\u001b[43m)\u001b[49m \u001b[38;5;28;01mfor\u001b[39;00m async_result \u001b[38;5;129;01min\u001b[39;00m async_results]\n",
      "File \u001b[0;32m~/miniforge3/envs/rapids-24.02/lib/python3.10/site-packages/multiprocess/pool.py:770\u001b[0m, in \u001b[0;36mApplyResult.get\u001b[0;34m(self, timeout)\u001b[0m\n\u001b[1;32m    768\u001b[0m \u001b[38;5;28mself\u001b[39m\u001b[38;5;241m.\u001b[39mwait(timeout)\n\u001b[1;32m    769\u001b[0m \u001b[38;5;28;01mif\u001b[39;00m \u001b[38;5;129;01mnot\u001b[39;00m \u001b[38;5;28mself\u001b[39m\u001b[38;5;241m.\u001b[39mready():\n\u001b[0;32m--> 770\u001b[0m     \u001b[38;5;28;01mraise\u001b[39;00m \u001b[38;5;167;01mTimeoutError\u001b[39;00m\n\u001b[1;32m    771\u001b[0m \u001b[38;5;28;01mif\u001b[39;00m \u001b[38;5;28mself\u001b[39m\u001b[38;5;241m.\u001b[39m_success:\n\u001b[1;32m    772\u001b[0m     \u001b[38;5;28;01mreturn\u001b[39;00m \u001b[38;5;28mself\u001b[39m\u001b[38;5;241m.\u001b[39m_value\n",
      "\u001b[0;31mTimeoutError\u001b[0m: "
     ]
    }
   ],
   "source": [
    "max_length = tokenizer.model_max_length if tokenizer.model_max_length <= 1e5 else 2048\n",
    "\n",
    "train_dataset = df2dataset(train_data, max_length=max_length, tokenizer=tokenizer)\n",
    "print(\n",
    "    f\"train_dataset: {train_dataset} with input_ids fix length: {len(train_dataset[0]['input_ids'])}\"\n",
    ")\n",
    "\n",
    "test_dataset = df2dataset(test_data, max_length=max_length, tokenizer=tokenizer)\n",
    "print(\n",
    "    f\"test_dataset: {test_dataset} with input_ids fix length: {len(test_dataset[0]['input_ids'])}\"\n",
    ")"
   ]
  },
  {
   "cell_type": "code",
   "execution_count": null,
   "metadata": {},
   "outputs": [],
   "source": []
  },
  {
   "cell_type": "code",
   "execution_count": null,
   "metadata": {},
   "outputs": [],
   "source": []
  },
  {
   "cell_type": "code",
   "execution_count": null,
   "metadata": {},
   "outputs": [],
   "source": []
  },
  {
   "cell_type": "code",
   "execution_count": 2,
   "metadata": {},
   "outputs": [
    {
     "data": {
      "text/plain": [
       "Dataset({\n",
       "    features: ['eid', 'proteins', 'values'],\n",
       "    num_rows: 4000\n",
       "})"
      ]
     },
     "execution_count": 2,
     "metadata": {},
     "output_type": "execute_result"
    }
   ],
   "source": [
    "from datasets import Dataset\n",
    "from collections import defaultdict\n",
    "\n",
    "res = defaultdict(list)\n",
    "\n",
    "for idx, row in test_data.iterrows():\n",
    "    ranked_row = row.sort_values(ascending=False).dropna()\n",
    "\n",
    "    res[\"eid\"].append(ranked_row.name)\n",
    "    res[\"proteins\"].append(\" \".join(ranked_row.index.tolist()))\n",
    "    res[\"values\"].append(ranked_row.values.tolist())\n",
    "\n",
    "test_dataset = Dataset.from_dict(res)\n",
    "test_dataset"
   ]
  },
  {
   "cell_type": "code",
   "execution_count": 3,
   "metadata": {},
   "outputs": [],
   "source": [
    "from transformers import (\n",
    "    BertTokenizer,\n",
    "    BertTokenizerFast,\n",
    "    PreTrainedTokenizerFast,\n",
    "    AutoTokenizer,\n",
    ")\n",
    "\n",
    "\n",
    "tokenizer = AutoTokenizer.from_pretrained(\"transtab/tokenizer\")"
   ]
  },
  {
   "cell_type": "code",
   "execution_count": null,
   "metadata": {},
   "outputs": [],
   "source": []
  },
  {
   "cell_type": "code",
   "execution_count": 4,
   "metadata": {},
   "outputs": [
    {
     "data": {
      "application/vnd.jupyter.widget-view+json": {
       "model_id": "2bacca446996411494c4bf11b6c917c5",
       "version_major": 2,
       "version_minor": 0
      },
      "text/plain": [
       "Map (num_proc=8):   0%|          | 0/4000 [00:00<?, ? examples/s]"
      ]
     },
     "metadata": {},
     "output_type": "display_data"
    }
   ],
   "source": [
    "from transformers import AutoTokenizer\n",
    "import multiprocessing\n",
    "from transformers import BertTokenizer, BertTokenizerFast, PreTrainedTokenizerFast\n",
    "\n",
    "\n",
    "def group_texts(examples, max_length=2048):\n",
    "\n",
    "    tokenized_inputs = tokenizer(\n",
    "        examples[\"proteins\"],\n",
    "        return_special_tokens_mask=True,\n",
    "        add_special_tokens=True,\n",
    "        padding=\"max_length\",\n",
    "        max_length = max_length\n",
    "        truncation=True,\n",
    "        truncation_strategy=\"only_last\",\n",
    "    )\n",
    "\n",
    "    return tokenized_inputs\n",
    "\n",
    "\n",
    "# preprocess dataset\n",
    "tokenized_datasets = test_dataset.map(\n",
    "    group_texts,\n",
    "    batched=True,\n",
    "    remove_columns=[\"proteins\"],\n",
    "    num_proc=8,\n",
    ")"
   ]
  },
  {
   "cell_type": "code",
   "execution_count": 5,
   "metadata": {},
   "outputs": [
    {
     "data": {
      "text/plain": [
       "Dataset({\n",
       "    features: ['eid', 'values', 'input_ids', 'token_type_ids', 'attention_mask', 'special_tokens_mask'],\n",
       "    num_rows: 4000\n",
       "})"
      ]
     },
     "execution_count": 5,
     "metadata": {},
     "output_type": "execute_result"
    }
   ],
   "source": [
    "tokenized_datasets"
   ]
  },
  {
   "cell_type": "code",
   "execution_count": 6,
   "metadata": {},
   "outputs": [],
   "source": [
    "from transformers import DataCollatorForLanguageModeling\n",
    "\n",
    "\n",
    "data_collator = DataCollatorForLanguageModeling(\n",
    "    tokenizer=tokenizer, mlm_probability=0.15\n",
    ")"
   ]
  },
  {
   "cell_type": "code",
   "execution_count": 1,
   "metadata": {},
   "outputs": [
    {
     "data": {
      "text/plain": [
       "BertConfig {\n",
       "  \"attention_probs_dropout_prob\": 0.1,\n",
       "  \"classifier_dropout\": null,\n",
       "  \"hidden_act\": \"gelu\",\n",
       "  \"hidden_dropout_prob\": 0.1,\n",
       "  \"hidden_size\": 768,\n",
       "  \"initializer_range\": 0.02,\n",
       "  \"intermediate_size\": 3072,\n",
       "  \"layer_norm_eps\": 1e-12,\n",
       "  \"max_position_embeddings\": 512,\n",
       "  \"model_type\": \"bert\",\n",
       "  \"num_attention_heads\": 12,\n",
       "  \"num_hidden_layers\": 12,\n",
       "  \"pad_token_id\": 0,\n",
       "  \"position_embedding_type\": \"absolute\",\n",
       "  \"transformers_version\": \"4.39.3\",\n",
       "  \"type_vocab_size\": 2,\n",
       "  \"use_cache\": true,\n",
       "  \"vocab_size\": 30522\n",
       "}"
      ]
     },
     "execution_count": 1,
     "metadata": {},
     "output_type": "execute_result"
    }
   ],
   "source": [
    "from transformers import BertConfig\n",
    "\n",
    "config = BertConfig()\n",
    "\n",
    "config"
   ]
  },
  {
   "cell_type": "code",
   "execution_count": 2,
   "metadata": {},
   "outputs": [
    {
     "ename": "NameError",
     "evalue": "name 'tokenizer' is not defined",
     "output_type": "error",
     "traceback": [
      "\u001b[0;31m---------------------------------------------------------------------------\u001b[0m",
      "\u001b[0;31mNameError\u001b[0m                                 Traceback (most recent call last)",
      "Cell \u001b[0;32mIn[2], line 1\u001b[0m\n\u001b[0;32m----> 1\u001b[0m \u001b[43mtokenizer\u001b[49m\u001b[38;5;241m.\u001b[39mvocab_size\n",
      "\u001b[0;31mNameError\u001b[0m: name 'tokenizer' is not defined"
     ]
    }
   ],
   "source": [
    "tokenizer.vocab_size"
   ]
  },
  {
   "cell_type": "code",
   "execution_count": 3,
   "metadata": {},
   "outputs": [
    {
     "ename": "NameError",
     "evalue": "name 'tokenizer' is not defined",
     "output_type": "error",
     "traceback": [
      "\u001b[0;31m---------------------------------------------------------------------------\u001b[0m",
      "\u001b[0;31mNameError\u001b[0m                                 Traceback (most recent call last)",
      "Cell \u001b[0;32mIn[3], line 2\u001b[0m\n\u001b[1;32m      1\u001b[0m bertconfig \u001b[38;5;241m=\u001b[39m BertConfig(\n\u001b[0;32m----> 2\u001b[0m     vocab_size\u001b[38;5;241m=\u001b[39m\u001b[43mtokenizer\u001b[49m\u001b[38;5;241m.\u001b[39mvocab_size,\n\u001b[1;32m      3\u001b[0m     hidden_size\u001b[38;5;241m=\u001b[39m\u001b[38;5;241m256\u001b[39m,\n\u001b[1;32m      4\u001b[0m     num_attention_heads\u001b[38;5;241m=\u001b[39m\u001b[38;5;241m8\u001b[39m,\n\u001b[1;32m      5\u001b[0m     intermediate_size\u001b[38;5;241m=\u001b[39m\u001b[38;5;241m512\u001b[39m,\n\u001b[1;32m      6\u001b[0m     max_position_embeddings\u001b[38;5;241m=\u001b[39mtokenizer\u001b[38;5;241m.\u001b[39mmodel_max_length,\n\u001b[1;32m      7\u001b[0m     num_hidden_layers\u001b[38;5;241m=\u001b[39m\u001b[38;5;241m6\u001b[39m,\n\u001b[1;32m      8\u001b[0m )\n",
      "\u001b[0;31mNameError\u001b[0m: name 'tokenizer' is not defined"
     ]
    }
   ],
   "source": [
    "bertconfig = BertConfig(\n",
    "    vocab_size=tokenizer.vocab_size,\n",
    "    hidden_size=256,\n",
    "    num_attention_heads=8,\n",
    "    intermediate_size=512,\n",
    "    max_position_embeddings=tokenizer.model_max_length,\n",
    "    num_hidden_layers=6,\n",
    ")"
   ]
  },
  {
   "cell_type": "code",
   "execution_count": 10,
   "metadata": {},
   "outputs": [],
   "source": [
    "from transformers import AutoModelForMaskedLM, BertForMaskedLM\n",
    "\n",
    "model = BertForMaskedLM(bertconfig)"
   ]
  },
  {
   "cell_type": "code",
   "execution_count": 11,
   "metadata": {},
   "outputs": [
    {
     "data": {
      "text/plain": [
       "BertForMaskedLM(\n",
       "  (bert): BertModel(\n",
       "    (embeddings): BertEmbeddings(\n",
       "      (word_embeddings): Embedding(2919, 256, padding_idx=0)\n",
       "      (position_embeddings): Embedding(2911, 256)\n",
       "      (token_type_embeddings): Embedding(2, 256)\n",
       "      (LayerNorm): LayerNorm((256,), eps=1e-12, elementwise_affine=True)\n",
       "      (dropout): Dropout(p=0.1, inplace=False)\n",
       "    )\n",
       "    (encoder): BertEncoder(\n",
       "      (layer): ModuleList(\n",
       "        (0-5): 6 x BertLayer(\n",
       "          (attention): BertAttention(\n",
       "            (self): BertSelfAttention(\n",
       "              (query): Linear(in_features=256, out_features=256, bias=True)\n",
       "              (key): Linear(in_features=256, out_features=256, bias=True)\n",
       "              (value): Linear(in_features=256, out_features=256, bias=True)\n",
       "              (dropout): Dropout(p=0.1, inplace=False)\n",
       "            )\n",
       "            (output): BertSelfOutput(\n",
       "              (dense): Linear(in_features=256, out_features=256, bias=True)\n",
       "              (LayerNorm): LayerNorm((256,), eps=1e-12, elementwise_affine=True)\n",
       "              (dropout): Dropout(p=0.1, inplace=False)\n",
       "            )\n",
       "          )\n",
       "          (intermediate): BertIntermediate(\n",
       "            (dense): Linear(in_features=256, out_features=512, bias=True)\n",
       "            (intermediate_act_fn): GELUActivation()\n",
       "          )\n",
       "          (output): BertOutput(\n",
       "            (dense): Linear(in_features=512, out_features=256, bias=True)\n",
       "            (LayerNorm): LayerNorm((256,), eps=1e-12, elementwise_affine=True)\n",
       "            (dropout): Dropout(p=0.1, inplace=False)\n",
       "          )\n",
       "        )\n",
       "      )\n",
       "    )\n",
       "  )\n",
       "  (cls): BertOnlyMLMHead(\n",
       "    (predictions): BertLMPredictionHead(\n",
       "      (transform): BertPredictionHeadTransform(\n",
       "        (dense): Linear(in_features=256, out_features=256, bias=True)\n",
       "        (transform_act_fn): GELUActivation()\n",
       "        (LayerNorm): LayerNorm((256,), eps=1e-12, elementwise_affine=True)\n",
       "      )\n",
       "      (decoder): Linear(in_features=256, out_features=2919, bias=True)\n",
       "    )\n",
       "  )\n",
       ")"
      ]
     },
     "execution_count": 11,
     "metadata": {},
     "output_type": "execute_result"
    }
   ],
   "source": [
    "model"
   ]
  },
  {
   "cell_type": "code",
   "execution_count": 12,
   "metadata": {},
   "outputs": [],
   "source": [
    "from transformers import Trainer, TrainingArguments"
   ]
  },
  {
   "cell_type": "code",
   "execution_count": 13,
   "metadata": {},
   "outputs": [
    {
     "name": "stderr",
     "output_type": "stream",
     "text": [
      "/home/xutingfeng/miniforge3/envs/rapids-24.02/lib/python3.10/site-packages/accelerate/accelerator.py:436: FutureWarning: Passing the following arguments to `Accelerator` is deprecated and will be removed in version 1.0 of Accelerate: dict_keys(['dispatch_batches', 'split_batches', 'even_batches', 'use_seedable_sampler']). Please pass an `accelerate.DataLoaderConfiguration` instead: \n",
      "dataloader_config = DataLoaderConfiguration(dispatch_batches=None, split_batches=False, even_batches=True, use_seedable_sampler=True)\n",
      "  warnings.warn(\n"
     ]
    }
   ],
   "source": [
    "training_args = TrainingArguments(\n",
    "    output_dir=\"test\",\n",
    "    evaluation_strategy=\"epoch\",\n",
    "    learning_rate=2e-5,\n",
    "    num_train_epochs=3,\n",
    "    weight_decay=0.01,\n",
    "    push_to_hub=False,\n",
    ")\n",
    "\n",
    "trainer = Trainer(\n",
    "    model=model,\n",
    "    args=training_args,\n",
    "    train_dataset=tokenized_datasets,\n",
    "    eval_dataset=tokenized_datasets,\n",
    "    data_collator=data_collator,\n",
    ")\n",
    "\n",
    "# trainer.train()"
   ]
  },
  {
   "cell_type": "code",
   "execution_count": 14,
   "metadata": {},
   "outputs": [
    {
     "data": {
      "text/plain": [
       "Dataset({\n",
       "    features: ['eid', 'values', 'input_ids', 'token_type_ids', 'attention_mask', 'special_tokens_mask'],\n",
       "    num_rows: 4000\n",
       "})"
      ]
     },
     "execution_count": 14,
     "metadata": {},
     "output_type": "execute_result"
    }
   ],
   "source": [
    "trainer.train_dataset"
   ]
  },
  {
   "cell_type": "code",
   "execution_count": 15,
   "metadata": {},
   "outputs": [],
   "source": [
    "for batch in trainer.get_train_dataloader():\n",
    "\n",
    "    break"
   ]
  },
  {
   "cell_type": "code",
   "execution_count": 16,
   "metadata": {},
   "outputs": [
    {
     "data": {
      "text/plain": [
       "dict_keys(['input_ids', 'token_type_ids', 'attention_mask', 'labels'])"
      ]
     },
     "execution_count": 16,
     "metadata": {},
     "output_type": "execute_result"
    }
   ],
   "source": [
    "batch.keys()"
   ]
  },
  {
   "cell_type": "code",
   "execution_count": 17,
   "metadata": {},
   "outputs": [
    {
     "data": {
      "text/plain": [
       "tensor([[0, 0, 0,  ..., 0, 0, 0],\n",
       "        [0, 0, 0,  ..., 0, 0, 0],\n",
       "        [0, 0, 0,  ..., 0, 0, 0],\n",
       "        ...,\n",
       "        [0, 0, 0,  ..., 0, 0, 0],\n",
       "        [0, 0, 0,  ..., 0, 0, 0],\n",
       "        [0, 0, 0,  ..., 0, 0, 0]], device='cuda:0')"
      ]
     },
     "execution_count": 17,
     "metadata": {},
     "output_type": "execute_result"
    }
   ],
   "source": [
    "batch[\"token_type_ids\"]"
   ]
  },
  {
   "cell_type": "code",
   "execution_count": 18,
   "metadata": {},
   "outputs": [
    {
     "data": {
      "text/plain": [
       "tensor([[2540, 1384,  803,  ...,    0,    0,    0],\n",
       "        [1957, 2635, 1952,  ...,    0,    0,    0],\n",
       "        [2778, 2540, 1377,  ...,    0,    0,    0],\n",
       "        ...,\n",
       "        [   3, 1146, 1248,  ..., 2204,  910, 2084],\n",
       "        [1234,    3, 2551,  ...,   15, 2738, 2444],\n",
       "        [   3, 2144, 1354,  ..., 1028, 1571, 1230]], device='cuda:0')"
      ]
     },
     "execution_count": 18,
     "metadata": {},
     "output_type": "execute_result"
    }
   ],
   "source": [
    "batch[\"input_ids\"]"
   ]
  },
  {
   "cell_type": "code",
   "execution_count": 19,
   "metadata": {},
   "outputs": [
    {
     "data": {
      "text/plain": [
       "tensor([2540, 1384,  803, 2042,   66, 1375,  380,    3,  364, 1886, 1232, 1215,\n",
       "        2176, 1412, 2706,  963, 2251, 1254, 2118, 2911], device='cuda:0')"
      ]
     },
     "execution_count": 19,
     "metadata": {},
     "output_type": "execute_result"
    }
   ],
   "source": [
    "batch[\"input_ids\"][0][:20]"
   ]
  },
  {
   "cell_type": "code",
   "execution_count": 20,
   "metadata": {},
   "outputs": [
    {
     "data": {
      "text/plain": [
       "tensor([-100, -100, -100, -100, -100, -100, -100, 2336, -100, -100, -100, -100,\n",
       "        -100, -100, -100, -100, -100, -100, -100, -100], device='cuda:0')"
      ]
     },
     "execution_count": 20,
     "metadata": {},
     "output_type": "execute_result"
    }
   ],
   "source": [
    "batch[\"labels\"][0][:20]"
   ]
  },
  {
   "cell_type": "code",
   "execution_count": 21,
   "metadata": {},
   "outputs": [
    {
     "data": {
      "text/plain": [
       "torch.Size([8, 2911])"
      ]
     },
     "execution_count": 21,
     "metadata": {},
     "output_type": "execute_result"
    }
   ],
   "source": [
    "batch[\"input_ids\"].shape"
   ]
  },
  {
   "cell_type": "code",
   "execution_count": 22,
   "metadata": {},
   "outputs": [],
   "source": [
    "o = model(**batch)"
   ]
  },
  {
   "cell_type": "code",
   "execution_count": 27,
   "metadata": {},
   "outputs": [
    {
     "data": {
      "text/plain": [
       "torch.Size([8, 2911, 2919])"
      ]
     },
     "execution_count": 27,
     "metadata": {},
     "output_type": "execute_result"
    }
   ],
   "source": [
    "o.logits.shape"
   ]
  },
  {
   "cell_type": "code",
   "execution_count": null,
   "metadata": {},
   "outputs": [],
   "source": []
  },
  {
   "cell_type": "code",
   "execution_count": null,
   "metadata": {},
   "outputs": [],
   "source": []
  },
  {
   "cell_type": "code",
   "execution_count": null,
   "metadata": {},
   "outputs": [],
   "source": []
  },
  {
   "cell_type": "code",
   "execution_count": null,
   "metadata": {},
   "outputs": [],
   "source": [
    "from transformers import AutoConfig\n",
    "\n",
    "\n",
    "config = AutoConfig.from_pretrained(\n",
    "    \"distilbert/distilroberta-base\",\n",
    "    vocab_size=len(tokenizer),\n",
    "    n_ctx=context_length,\n",
    "    bos_token_id=tokenizer.bos_token_id,\n",
    "    eos_token_id=tokenizer.eos_token_id,\n",
    ")"
   ]
  },
  {
   "cell_type": "code",
   "execution_count": null,
   "metadata": {},
   "outputs": [],
   "source": [
    "from transformers import AutoModelForMaskedLM\n",
    "\n",
    "model = AutoModelForMaskedLM.from_pretrained(\"distilbert/distilroberta-base\")"
   ]
  },
  {
   "cell_type": "code",
   "execution_count": null,
   "metadata": {},
   "outputs": [],
   "source": [
    "data_collator"
   ]
  },
  {
   "cell_type": "code",
   "execution_count": null,
   "metadata": {},
   "outputs": [],
   "source": [
    "from transformers import BertTokenizer, BertTokenizerFast, PreTrainedTokenizerFast\n",
    "\n",
    "\n",
    "protein_tokenizer = BertTokenizerFast.from_pretrained(\"transtab/tokenizer\")\n",
    "\n",
    "\n",
    "def tokenize_function(examples):\n",
    "    return protein_tokenizer(examples[\"proteins\"])\n",
    "\n",
    "\n",
    "tokenized_datasets = test_dataset.map(\n",
    "    tokenize_function, batched=True, num_proc=4, batch_size=32\n",
    ")"
   ]
  },
  {
   "cell_type": "code",
   "execution_count": null,
   "metadata": {},
   "outputs": [],
   "source": [
    "protein_tokenizer(test_dataset[0][\"proteins\"])"
   ]
  },
  {
   "cell_type": "code",
   "execution_count": null,
   "metadata": {},
   "outputs": [],
   "source": [
    "# res_list = {}\n",
    "\n",
    "\n",
    "# for idx, row in test_data.set_index(\"eid\").iterrows():\n",
    "#     ranked_row = row.sort_values(ascending=False).dropna()\n",
    "#     res = {}\n",
    "#     res[\"eid\"] = ranked_row.name\n",
    "#     res[\"proteins\"] = ranked_row.index.tolist()\n",
    "#     res[\"values\"] = ranked_row.values.tolist()\n",
    "#     res_list.append(res)\n",
    "\n",
    "\n",
    "# def dict_generator():\n",
    "#     for i in range(len(res_list)):\n",
    "#         yield res_list[i]\n",
    "\n",
    "# Dataset.from_generator(dict_generator, num_proc=4)"
   ]
  },
  {
   "cell_type": "code",
   "execution_count": null,
   "metadata": {},
   "outputs": [],
   "source": [
    "\n",
    "\n",
    "\n"
   ]
  },
  {
   "cell_type": "code",
   "execution_count": null,
   "metadata": {},
   "outputs": [],
   "source": []
  },
  {
   "cell_type": "code",
   "execution_count": null,
   "metadata": {},
   "outputs": [],
   "source": [
    "Dataset.from_generator(res_list)"
   ]
  },
  {
   "cell_type": "code",
   "execution_count": null,
   "metadata": {},
   "outputs": [],
   "source": []
  },
  {
   "cell_type": "code",
   "execution_count": null,
   "metadata": {},
   "outputs": [],
   "source": [
    "import numpy as np\n",
    "\n",
    "\n",
    "def rank_genes(gene_vector, gene_tokens):\n",
    "    \"\"\"\n",
    "    Rank gene expression vector.\n",
    "    \"\"\"\n",
    "    # sort by median-scaled gene values\n",
    "    sorted_indices = np.argsort(-gene_vector)\n",
    "    return gene_tokens[sorted_indices], gene_vector[sorted_indices]\n",
    "\n",
    "\n",
    "def rank_sorted(examples, protein_cols=None):\n",
    "    \"\"\"\n",
    "    Rank protein expression vectors.\n",
    "    \"\"\"\n",
    "\n",
    "    protein_expression_vectors = np.array([examples[col] for col in protein_cols])\n",
    "    protein_tokens = protein_cols\n",
    "    ranked_protein_tokens, ranked_protein_expression_vectors = rank_genes(\n",
    "        protein_expression_vectors, protein_tokens\n",
    "    )\n",
    "\n",
    "    other_cols = [col for col in examples.columns if col not in protein_cols]\n",
    "    return_res = {}\n",
    "    for i, col in enumerate(other_cols):\n",
    "        return_res[col] = examples[col].values\n",
    "    return_res[\"protein_tokens\"] = ranked_protein_tokens\n",
    "    return_res[\"protein_expression_vectors\"] = ranked_protein_expression_vectors\n",
    "    return return_res\n",
    "\n",
    "\n",
    "test_dataset.map(lambda x: rank_sorted(x, protein_cols=protein_cols))"
   ]
  },
  {
   "cell_type": "code",
   "execution_count": null,
   "metadata": {},
   "outputs": [],
   "source": [
    "# normalize = True \n",
    "# if normalize:\n",
    "#     # pd.concat([train_data, test_data])[protein_cols]"
   ]
  },
  {
   "cell_type": "code",
   "execution_count": null,
   "metadata": {},
   "outputs": [],
   "source": []
  }
 ],
 "metadata": {
  "kernelspec": {
   "display_name": "rapids-24.02",
   "language": "python",
   "name": "python3"
  },
  "language_info": {
   "codemirror_mode": {
    "name": "ipython",
    "version": 3
   },
   "file_extension": ".py",
   "mimetype": "text/x-python",
   "name": "python",
   "nbconvert_exporter": "python",
   "pygments_lexer": "ipython3",
   "version": "3.10.14"
  }
 },
 "nbformat": 4,
 "nbformat_minor": 2
}
