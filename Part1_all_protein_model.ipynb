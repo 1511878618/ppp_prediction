{
 "cells": [
  {
   "cell_type": "code",
   "execution_count": null,
   "metadata": {},
   "outputs": [],
   "source": [
    "import pandas as pd\n",
    "\n",
    "import statsmodels.api as sm\n",
    "import pandas as pd\n",
    "import datetime\n",
    "from pathlib import Path\n",
    "\n",
    "pd.set_option(\"display.max_columns\", None)\n",
    "# !pip install statsmodels\n",
    "\n",
    "\n",
    "# %config InlineBackend.figure_format = \"svg\"\n",
    "# %config InlineBackend.print_figure_kwargs = {\"dpi\" : 300}\n",
    "import seaborn as sns\n",
    "import matplotlib.pyplot as plt\n",
    "import pandas as pd\n",
    "\n",
    "\n",
    "# from cadFace.vis import percentiles_plot\n",
    "import sci_palettes\n",
    "\n",
    "try:\n",
    "    sci_palettes.register_cmap()\n",
    "except:\n",
    "    pass\n",
    "import scienceplots\n",
    "from pathlib import Path\n",
    "import pandas as pd\n",
    "\n",
    "# from ppp_aging.ppp_model import *\n",
    "\n",
    "import json\n",
    "\n",
    "plt.style.use([\"nature\", \"no-latex\"])\n",
    "sns.set_context(\"paper\", font_scale=1.5)\n",
    "sns.set_palette(\"nejm\")\n",
    "from ppp_prediction.model import fit_best_model\n",
    "from ppp_prediction.corr import generate_multipletests_result"
   ]
  },
  {
   "cell_type": "markdown",
   "metadata": {},
   "source": [
    "## CVD list\n",
    "\n",
    "CAD已有\n",
    "\n",
    "Hypertension：服务器上有Hypertension.tab\n",
    "\n",
    "Peripheral artery disease：服务器上有\n",
    "\n",
    "Stroke：服务器上有Stroke.tab\n",
    "\n",
    "Arrhythmia：服务器上有Atrial_fibrillation_or_flutter_v2.tab\n"
   ]
  },
  {
   "cell_type": "markdown",
   "metadata": {},
   "source": [
    "添加疾病信息（这个后续会完善），因此这部分代码只需要跑一次"
   ]
  },
  {
   "cell_type": "code",
   "execution_count": null,
   "metadata": {},
   "outputs": [],
   "source": [
    "import json\n",
    "\n",
    "part2_dir = \"/home/xutingfeng/ukb/project/ppp_prediction/result/part2\"\n",
    "mdoel_dir = f\"{part2_dir}/models\"\n",
    "combination_dict_dir = f\"{part2_dir}/dataset/combination_dict.json\"\n",
    "test_impute_dir = f\"{part2_dir}/dataset/test_imputed.pkl\"\n",
    "train_impute_dir = f\"{part2_dir}/dataset/train_imputed.pkl\""
   ]
  },
  {
   "cell_type": "code",
   "execution_count": null,
   "metadata": {},
   "outputs": [],
   "source": [
    "test_impute = pd.read_pickle(test_impute_dir)\n",
    "train_impute = pd.read_pickle(train_impute_dir)"
   ]
  },
  {
   "cell_type": "code",
   "execution_count": null,
   "metadata": {},
   "outputs": [],
   "source": [
    "disease = pd.read_pickle(\n",
    "    \"/home/xutingfeng/ukb/ukbData/phenotypes/tf/ukb_common_disease_whole_life.pkl\"\n",
    ").reset_index(drop=False)\n",
    "disease[\"eid\"] = disease[\"eid\"].astype(int)\n",
    "disease"
   ]
  },
  {
   "cell_type": "code",
   "execution_count": null,
   "metadata": {},
   "outputs": [],
   "source": [
    "train_impute = train_impute.merge(disease, on=\"eid\", how=\"inner\")\n",
    "test_impute = test_impute.merge(disease, on=\"eid\", how=\"inner\")"
   ]
  },
  {
   "cell_type": "code",
   "execution_count": null,
   "metadata": {},
   "outputs": [],
   "source": [
    "train_impute.to_pickle(train_impute_dir)\n",
    "test_impute.to_pickle(test_impute_dir)"
   ]
  },
  {
   "cell_type": "markdown",
   "metadata": {},
   "source": [
    "这个时候正常读取的数据是包含心血管疾病的数据的"
   ]
  },
  {
   "cell_type": "markdown",
   "metadata": {},
   "source": [
    "## 提取json文件，运行代码\n",
    "\n",
    "`parallel -q echo \"./train_ml.py --train result/part1/0_all_cvd_prediction/dataset/train_imputed.pkl --test result/part1/0_all_cvd_prediction/dataset/test_imputed.pkl --output result/part1/0_all_cvd_prediction/models/{.} --json result/part1/0_all_cvd_prediction/dataset/{}\" ::: $(cd result/part1/0_all_cvd_prediction/dataset; ls *.json) | parallel -j 4`\n",
    "\n",
    "> 注意，请确保这里的train_impute 和后续的是一致的"
   ]
  },
  {
   "cell_type": "code",
   "execution_count": null,
   "metadata": {},
   "outputs": [],
   "source": [
    "import json\n",
    "\n",
    "part2_dir = \"/home/xutingfeng/ukb/project/ppp_prediction/result/part2\"\n",
    "mdoel_dir = f\"{part2_dir}/models\"\n",
    "combination_dict_dir = f\"{part2_dir}/dataset/combination_dict.json\"\n",
    "test_impute_dir = f\"{part2_dir}/dataset/test_imputed.pkl\"\n",
    "train_impute_dir = f\"{part2_dir}/dataset/train_imputed.pkl\"\n",
    "\n",
    "combination_dict = json.load(open(combination_dict_dir, \"r\"))\n",
    "\n",
    "\n",
    "# test_impute = pd.read_pickle(test_impute_dir)\n",
    "# train_impute = pd.read_pickle(train_impute_dir)\n",
    "disease = pd.read_pickle(\n",
    "    \"/home/xutingfeng/ukb/ukbData/phenotypes/tf/ukb_common_disease_whole_life.pkl\"\n",
    ").reset_index(drop=False)\n",
    "disease[\"eid\"] = disease[\"eid\"].astype(int)\n",
    "disease"
   ]
  },
  {
   "cell_type": "code",
   "execution_count": null,
   "metadata": {},
   "outputs": [],
   "source": [
    "risk_factors = [\n",
    "    \"age\",\n",
    "    \"sex\",\n",
    "    \"ldl_a\",\n",
    "    \"hdl_a\",\n",
    "    \"tc_a\",\n",
    "    \"tg_a\",\n",
    "    \"sbp_a\",\n",
    "    \"BMI\",\n",
    "    \"smoking\",\n",
    "    \"prevalent_diabetes\",\n",
    "]\n",
    "AS = [\"age\", \"sex\"]\n",
    "RF_without_AS = list(set(risk_factors) - set(AS))\n",
    "RF = risk_factors\n",
    "proteomics = combination_dict[\"proteomics\"][\"features\"]"
   ]
  },
  {
   "cell_type": "code",
   "execution_count": null,
   "metadata": {},
   "outputs": [],
   "source": [
    "disease_list = disease.columns[1:].tolist()\n",
    "print(disease_list)\n",
    "\n",
    "\n",
    "for disease_name in disease_list:\n",
    "    disease_json = {\n",
    "        \"RF\": {\"features\": RF, \"label\": disease_name},\n",
    "        \"RF_without_AS\": {\"features\": RF_without_AS, \"label\": disease_name},\n",
    "        \"AS\": {\"features\": AS, \"label\": disease_name},\n",
    "        \"proteomics\": {\"features\": proteomics, \"label\": disease_name},\n",
    "    }\n",
    "    json.dump(\n",
    "        disease_json,\n",
    "        open(f\"result/part1/0_all_cvd_prediction/dataset/{disease_name}.json\", \"w\"),\n",
    "    )"
   ]
  },
  {
   "cell_type": "markdown",
   "metadata": {},
   "source": [
    "## 关联分析"
   ]
  },
  {
   "cell_type": "code",
   "execution_count": null,
   "metadata": {},
   "outputs": [],
   "source": [
    "data = pd.read_pickle(\"result/part1/data.pkl\")\n",
    "if \"hypertension\" not in data.columns:\n",
    "    data = data.merge(disease, on=\"eid\", how=\"left\")\n",
    "data"
   ]
  },
  {
   "cell_type": "code",
   "execution_count": null,
   "metadata": {},
   "outputs": [],
   "source": [
    "association_analysis_output_path = \"result/part1/3_CVD_association_result\"\n",
    "\n",
    "fig_save_dir = \"result/part1/3_CVD_association_result/figures\"\n",
    "Path(fig_save_dir).mkdir(parents=True, exist_ok=True)"
   ]
  },
  {
   "cell_type": "code",
   "execution_count": null,
   "metadata": {},
   "outputs": [],
   "source": []
  },
  {
   "cell_type": "code",
   "execution_count": 31,
   "metadata": {},
   "outputs": [
    {
     "name": "stdout",
     "output_type": "stream",
     "text": [
      "Optimization terminated successfully.\n",
      "         Current function value: 0.238440\n",
      "         Iterations 8\n"
     ]
    },
    {
     "name": "stderr",
     "output_type": "stream",
     "text": [
      "  0%|          | 6/2911 [00:03<31:38,  1.53it/s]"
     ]
    },
    {
     "name": "stdout",
     "output_type": "stream",
     "text": [
      "passed data have 51439 rows\n",
      "used data have 33436 rows after dropna\n",
      "Optimization terminated successfully.\n",
      "         Current function value: 0.238694\n",
      "         Iterations 8\n"
     ]
    },
    {
     "name": "stderr",
     "output_type": "stream",
     "text": [
      "  0%|          | 7/2911 [00:04<30:39,  1.58it/s]"
     ]
    },
    {
     "name": "stdout",
     "output_type": "stream",
     "text": [
      "passed data have 51439 rows\n",
      "used data have 33510 rows after dropna\n",
      "Optimization terminated successfully.\n",
      "         Current function value: 0.238839\n",
      "         Iterations 8\n"
     ]
    },
    {
     "name": "stderr",
     "output_type": "stream",
     "text": [
      "  0%|          | 8/2911 [00:04<28:06,  1.72it/s]"
     ]
    },
    {
     "name": "stdout",
     "output_type": "stream",
     "text": [
      "passed data have 51439 rows\n",
      "used data have 33543 rows after dropna\n",
      "Optimization terminated successfully.\n",
      "         Current function value: 0.237600\n",
      "         Iterations 8\n"
     ]
    },
    {
     "name": "stderr",
     "output_type": "stream",
     "text": [
      "  0%|          | 9/2911 [00:05<26:15,  1.84it/s]"
     ]
    },
    {
     "name": "stdout",
     "output_type": "stream",
     "text": [
      "passed data have 51439 rows\n",
      "used data have 33515 rows after dropna\n",
      "Optimization terminated successfully.\n",
      "         Current function value: 0.236670\n",
      "         Iterations 8\n"
     ]
    },
    {
     "name": "stderr",
     "output_type": "stream",
     "text": [
      "  0%|          | 10/2911 [00:06<28:53,  1.67it/s]"
     ]
    },
    {
     "name": "stdout",
     "output_type": "stream",
     "text": [
      "passed data have 51439 rows\n",
      "used data have 33586 rows after dropna\n",
      "Optimization terminated successfully.\n",
      "         Current function value: 0.236742\n",
      "         Iterations 8\n"
     ]
    },
    {
     "name": "stderr",
     "output_type": "stream",
     "text": [
      "  0%|          | 11/2911 [00:06<28:37,  1.69it/s]"
     ]
    },
    {
     "name": "stdout",
     "output_type": "stream",
     "text": [
      "passed data have 51439 rows\n",
      "used data have 33642 rows after dropna\n",
      "Optimization terminated successfully.\n",
      "         Current function value: 0.236481\n",
      "         Iterations 8\n"
     ]
    },
    {
     "name": "stderr",
     "output_type": "stream",
     "text": [
      "  0%|          | 12/2911 [00:07<28:34,  1.69it/s]"
     ]
    },
    {
     "name": "stdout",
     "output_type": "stream",
     "text": [
      "passed data have 51439 rows\n",
      "used data have 33642 rows after dropna\n",
      "Optimization terminated successfully.\n",
      "         Current function value: 0.236489\n",
      "         Iterations 8\n"
     ]
    },
    {
     "name": "stderr",
     "output_type": "stream",
     "text": [
      "  0%|          | 13/2911 [00:08<31:10,  1.55it/s]"
     ]
    },
    {
     "name": "stdout",
     "output_type": "stream",
     "text": [
      "passed data have 51439 rows\n",
      "used data have 33645 rows after dropna\n",
      "Optimization terminated successfully.\n",
      "         Current function value: 0.236665\n",
      "         Iterations 8\n"
     ]
    },
    {
     "name": "stderr",
     "output_type": "stream",
     "text": [
      "  0%|          | 14/2911 [00:08<30:39,  1.57it/s]"
     ]
    },
    {
     "name": "stdout",
     "output_type": "stream",
     "text": [
      "passed data have 51439 rows\n",
      "used data have 33645 rows after dropna\n",
      "Optimization terminated successfully.\n",
      "         Current function value: 0.236623\n",
      "         Iterations 8\n"
     ]
    },
    {
     "name": "stderr",
     "output_type": "stream",
     "text": [
      "  1%|          | 15/2911 [00:09<28:51,  1.67it/s]"
     ]
    },
    {
     "name": "stdout",
     "output_type": "stream",
     "text": [
      "passed data have 51439 rows\n",
      "used data have 33645 rows after dropna\n",
      "Optimization terminated successfully.\n",
      "         Current function value: 0.236635\n",
      "         Iterations 8\n"
     ]
    },
    {
     "name": "stderr",
     "output_type": "stream",
     "text": [
      "  1%|          | 16/2911 [00:09<28:22,  1.70it/s]"
     ]
    },
    {
     "name": "stdout",
     "output_type": "stream",
     "text": [
      "passed data have 51439 rows\n",
      "used data have 33645 rows after dropna\n",
      "Optimization terminated successfully.\n",
      "         Current function value: 0.236667\n",
      "         Iterations 8\n"
     ]
    },
    {
     "name": "stderr",
     "output_type": "stream",
     "text": [
      "  1%|          | 17/2911 [00:10<29:38,  1.63it/s]"
     ]
    },
    {
     "name": "stdout",
     "output_type": "stream",
     "text": [
      "passed data have 51439 rows\n",
      "used data have 33645 rows after dropna\n",
      "Optimization terminated successfully.\n",
      "         Current function value: 0.236560\n",
      "         Iterations 8\n"
     ]
    },
    {
     "name": "stderr",
     "output_type": "stream",
     "text": [
      "  1%|          | 18/2911 [00:10<26:43,  1.80it/s]"
     ]
    },
    {
     "name": "stdout",
     "output_type": "stream",
     "text": [
      "passed data have 51439 rows\n",
      "used data have 33678 rows after dropna\n",
      "Optimization terminated successfully.\n",
      "         Current function value: 0.237633\n",
      "         Iterations 8\n"
     ]
    },
    {
     "name": "stderr",
     "output_type": "stream",
     "text": [
      "  1%|          | 19/2911 [00:11<25:08,  1.92it/s]"
     ]
    },
    {
     "name": "stdout",
     "output_type": "stream",
     "text": [
      "passed data have 51439 rows\n",
      "used data have 33665 rows after dropna\n",
      "Optimization terminated successfully.\n",
      "         Current function value: 0.237833\n",
      "         Iterations 8\n"
     ]
    },
    {
     "name": "stderr",
     "output_type": "stream",
     "text": [
      "  1%|          | 20/2911 [00:11<24:33,  1.96it/s]"
     ]
    },
    {
     "name": "stdout",
     "output_type": "stream",
     "text": [
      "passed data have 51439 rows\n",
      "used data have 33685 rows after dropna\n",
      "Optimization terminated successfully.\n",
      "         Current function value: 0.237567\n",
      "         Iterations 8\n"
     ]
    },
    {
     "name": "stderr",
     "output_type": "stream",
     "text": [
      "  1%|          | 21/2911 [00:12<24:45,  1.95it/s]"
     ]
    },
    {
     "name": "stdout",
     "output_type": "stream",
     "text": [
      "passed data have 51439 rows\n",
      "used data have 33701 rows after dropna\n",
      "Optimization terminated successfully.\n",
      "         Current function value: 0.236578\n",
      "         Iterations 8\n"
     ]
    },
    {
     "name": "stderr",
     "output_type": "stream",
     "text": [
      "  1%|          | 22/2911 [00:12<25:15,  1.91it/s]"
     ]
    },
    {
     "name": "stdout",
     "output_type": "stream",
     "text": [
      "passed data have 51439 rows\n",
      "used data have 33701 rows after dropna\n",
      "Optimization terminated successfully.\n",
      "         Current function value: 0.236550\n",
      "         Iterations 8\n"
     ]
    },
    {
     "name": "stderr",
     "output_type": "stream",
     "text": [
      "  1%|          | 23/2911 [00:13<26:21,  1.83it/s]"
     ]
    },
    {
     "name": "stdout",
     "output_type": "stream",
     "text": [
      "passed data have 51439 rows\n",
      "used data have 33701 rows after dropna\n",
      "Optimization terminated successfully.\n",
      "         Current function value: 0.236586\n",
      "         Iterations 8\n"
     ]
    },
    {
     "name": "stderr",
     "output_type": "stream",
     "text": [
      "  1%|          | 24/2911 [00:13<21:52,  2.20it/s]"
     ]
    },
    {
     "name": "stdout",
     "output_type": "stream",
     "text": [
      "passed data have 51439 rows\n",
      "used data have 33701 rows after dropna\n",
      "Optimization terminated successfully.\n",
      "         Current function value: 0.236604\n",
      "         Iterations 8\n"
     ]
    },
    {
     "name": "stderr",
     "output_type": "stream",
     "text": [
      "  1%|          | 25/2911 [00:14<29:30,  1.63it/s]"
     ]
    },
    {
     "name": "stdout",
     "output_type": "stream",
     "text": [
      "passed data have 51439 rows\n",
      "used data have 33701 rows after dropna\n",
      "Optimization terminated successfully.\n",
      "         Current function value: 0.236608\n",
      "         Iterations 8\n"
     ]
    },
    {
     "name": "stderr",
     "output_type": "stream",
     "text": [
      "  1%|          | 26/2911 [00:15<27:33,  1.74it/s]"
     ]
    },
    {
     "name": "stdout",
     "output_type": "stream",
     "text": [
      "passed data have 51439 rows\n",
      "used data have 33701 rows after dropna\n",
      "Optimization terminated successfully.\n",
      "         Current function value: 0.236607\n",
      "         Iterations 8\n"
     ]
    },
    {
     "name": "stderr",
     "output_type": "stream",
     "text": [
      "  1%|          | 28/2911 [00:15<20:56,  2.29it/s]"
     ]
    },
    {
     "name": "stdout",
     "output_type": "stream",
     "text": [
      "passed data have 51439 rows\n",
      "used data have 33701 rows after dropna\n",
      "Optimization terminated successfully.\n",
      "         Current function value: 0.236585\n",
      "         Iterations 8\n",
      "passed data have 51439 rows\n",
      "used data have 33701 rows after dropna\n",
      "Optimization terminated successfully.\n",
      "         Current function value: 0.236606\n",
      "         Iterations 8\n"
     ]
    },
    {
     "name": "stderr",
     "output_type": "stream",
     "text": [
      "  1%|          | 29/2911 [00:16<18:54,  2.54it/s]"
     ]
    },
    {
     "name": "stdout",
     "output_type": "stream",
     "text": [
      "passed data have 51439 rows\n",
      "used data have 33701 rows after dropna\n",
      "Optimization terminated successfully.\n",
      "         Current function value: 0.236489\n",
      "         Iterations 8\n"
     ]
    },
    {
     "name": "stderr",
     "output_type": "stream",
     "text": [
      "  1%|          | 30/2911 [00:16<17:45,  2.70it/s]"
     ]
    },
    {
     "name": "stdout",
     "output_type": "stream",
     "text": [
      "passed data have 51439 rows\n",
      "used data have 33701 rows after dropna\n",
      "Optimization terminated successfully.\n",
      "         Current function value: 0.236604\n",
      "         Iterations 8\n"
     ]
    },
    {
     "name": "stderr",
     "output_type": "stream",
     "text": [
      "  1%|          | 31/2911 [00:16<16:47,  2.86it/s]"
     ]
    },
    {
     "name": "stdout",
     "output_type": "stream",
     "text": [
      "passed data have 51439 rows\n",
      "used data have 33701 rows after dropna\n",
      "Optimization terminated successfully.\n",
      "         Current function value: 0.236610\n",
      "         Iterations 8\n"
     ]
    },
    {
     "name": "stderr",
     "output_type": "stream",
     "text": [
      "  1%|          | 33/2911 [00:17<14:28,  3.31it/s]"
     ]
    },
    {
     "name": "stdout",
     "output_type": "stream",
     "text": [
      "passed data have 51439 rows\n",
      "used data have 33701 rows after dropna\n",
      "Optimization terminated successfully.\n",
      "         Current function value: 0.236581\n",
      "         Iterations 8\n",
      "passed data have 51439 rows\n",
      "used data have 33701 rows after dropna\n",
      "Optimization terminated successfully.\n",
      "         Current function value: 0.236611\n",
      "         Iterations 8\n"
     ]
    },
    {
     "name": "stderr",
     "output_type": "stream",
     "text": [
      "  1%|          | 35/2911 [00:17<12:53,  3.72it/s]"
     ]
    },
    {
     "name": "stdout",
     "output_type": "stream",
     "text": [
      "passed data have 51439 rows\n",
      "used data have 33701 rows after dropna\n",
      "Optimization terminated successfully.\n",
      "         Current function value: 0.236605\n",
      "         Iterations 8\n",
      "passed data have 51439 rows\n",
      "used data have 33701 rows after dropna\n",
      "Optimization terminated successfully.\n",
      "         Current function value: 0.236605\n",
      "         Iterations 8\n"
     ]
    },
    {
     "name": "stderr",
     "output_type": "stream",
     "text": [
      "  1%|▏         | 37/2911 [00:18<11:17,  4.24it/s]"
     ]
    },
    {
     "name": "stdout",
     "output_type": "stream",
     "text": [
      "passed data have 51439 rows\n",
      "used data have 33701 rows after dropna\n",
      "Optimization terminated successfully.\n",
      "         Current function value: 0.236611\n",
      "         Iterations 8\n",
      "passed data have 51439 rows\n",
      "used data have 33701 rows after dropna\n"
     ]
    },
    {
     "name": "stderr",
     "output_type": "stream",
     "text": [
      "  1%|▏         | 38/2911 [00:18<11:08,  4.30it/s]"
     ]
    },
    {
     "name": "stdout",
     "output_type": "stream",
     "text": [
      "Optimization terminated successfully.\n",
      "         Current function value: 0.236611\n",
      "         Iterations 8\n",
      "passed data have 51439 rows\n",
      "used data have 33701 rows after dropna\n"
     ]
    },
    {
     "name": "stderr",
     "output_type": "stream",
     "text": [
      "  1%|▏         | 39/2911 [00:18<11:11,  4.28it/s]"
     ]
    },
    {
     "name": "stdout",
     "output_type": "stream",
     "text": [
      "Optimization terminated successfully.\n",
      "         Current function value: 0.236600\n",
      "         Iterations 8\n",
      "passed data have 51439 rows\n",
      "used data have 33701 rows after dropna\n"
     ]
    },
    {
     "name": "stderr",
     "output_type": "stream",
     "text": [
      "  1%|▏         | 40/2911 [00:18<10:23,  4.60it/s]"
     ]
    },
    {
     "name": "stdout",
     "output_type": "stream",
     "text": [
      "Optimization terminated successfully.\n",
      "         Current function value: 0.236611\n",
      "         Iterations 8\n",
      "passed data have 51439 rows\n",
      "used data have 33701 rows after dropna\n",
      "Optimization terminated successfully.\n",
      "         Current function value: 0.236610\n",
      "         Iterations 8\n"
     ]
    },
    {
     "name": "stderr",
     "output_type": "stream",
     "text": [
      "  1%|▏         | 41/2911 [00:18<09:30,  5.03it/s]"
     ]
    },
    {
     "name": "stdout",
     "output_type": "stream",
     "text": [
      "passed data have 51439 rows\n",
      "used data have 33701 rows after dropna\n",
      "Optimization terminated successfully.\n",
      "         Current function value: 0.236606\n",
      "         Iterations 8\n"
     ]
    },
    {
     "name": "stderr",
     "output_type": "stream",
     "text": [
      "  1%|▏         | 43/2911 [00:19<09:49,  4.87it/s]"
     ]
    },
    {
     "name": "stdout",
     "output_type": "stream",
     "text": [
      "passed data have 51439 rows\n",
      "used data have 33701 rows after dropna\n",
      "Optimization terminated successfully.\n",
      "         Current function value: 0.236509\n",
      "         Iterations 8\n",
      "passed data have 51439 rows\n",
      "used data have 33701 rows after dropna\n"
     ]
    },
    {
     "name": "stderr",
     "output_type": "stream",
     "text": [
      "  2%|▏         | 44/2911 [00:19<09:16,  5.15it/s]"
     ]
    },
    {
     "name": "stdout",
     "output_type": "stream",
     "text": [
      "Optimization terminated successfully.\n",
      "         Current function value: 0.236606\n",
      "         Iterations 8\n",
      "passed data have 51439 rows\n",
      "used data have 33701 rows after dropna\n"
     ]
    },
    {
     "name": "stderr",
     "output_type": "stream",
     "text": [
      "  2%|▏         | 45/2911 [00:19<10:23,  4.59it/s]"
     ]
    },
    {
     "name": "stdout",
     "output_type": "stream",
     "text": [
      "Optimization terminated successfully.\n",
      "         Current function value: 0.236546\n",
      "         Iterations 8\n",
      "passed data have 51439 rows\n",
      "used data have 33701 rows after dropna\n",
      "Optimization terminated successfully.\n",
      "         Current function value: 0.236610\n",
      "         Iterations 8\n"
     ]
    },
    {
     "name": "stderr",
     "output_type": "stream",
     "text": [
      "  2%|▏         | 47/2911 [00:20<10:05,  4.73it/s]"
     ]
    },
    {
     "name": "stdout",
     "output_type": "stream",
     "text": [
      "passed data have 51439 rows\n",
      "used data have 33701 rows after dropna\n",
      "Optimization terminated successfully.\n",
      "         Current function value: 0.236608\n",
      "         Iterations 8\n",
      "passed data have 51439 rows\n",
      "used data have 33701 rows after dropna\n",
      "Optimization terminated successfully.\n",
      "         Current function value: 0.236609\n",
      "         Iterations 8\n"
     ]
    },
    {
     "name": "stderr",
     "output_type": "stream",
     "text": [
      "  2%|▏         | 49/2911 [00:20<09:47,  4.87it/s]"
     ]
    },
    {
     "name": "stdout",
     "output_type": "stream",
     "text": [
      "passed data have 51439 rows\n",
      "used data have 33701 rows after dropna\n",
      "Optimization terminated successfully.\n",
      "         Current function value: 0.236605\n",
      "         Iterations 8\n",
      "passed data have 51439 rows\n",
      "used data have 33701 rows after dropna\n",
      "Optimization terminated successfully.\n",
      "         Current function value: 0.236600\n",
      "         Iterations 8\n"
     ]
    },
    {
     "name": "stderr",
     "output_type": "stream",
     "text": [
      "  2%|▏         | 50/2911 [00:20<11:19,  4.21it/s]"
     ]
    },
    {
     "name": "stdout",
     "output_type": "stream",
     "text": [
      "passed data have 51439 rows\n",
      "used data have 33701 rows after dropna\n",
      "Optimization terminated successfully.\n",
      "         Current function value: 0.236567\n",
      "         Iterations 8\n"
     ]
    },
    {
     "name": "stderr",
     "output_type": "stream",
     "text": [
      "  2%|▏         | 52/2911 [00:21<12:43,  3.74it/s]"
     ]
    },
    {
     "name": "stdout",
     "output_type": "stream",
     "text": [
      "passed data have 51439 rows\n",
      "used data have 33701 rows after dropna\n",
      "Optimization terminated successfully.\n",
      "         Current function value: 0.236531\n",
      "         Iterations 8\n",
      "passed data have 51439 rows\n"
     ]
    },
    {
     "name": "stderr",
     "output_type": "stream",
     "text": [
      "  2%|▏         | 53/2911 [00:21<11:19,  4.21it/s]"
     ]
    },
    {
     "name": "stdout",
     "output_type": "stream",
     "text": [
      "used data have 33701 rows after dropna\n",
      "Optimization terminated successfully.\n",
      "         Current function value: 0.236590\n",
      "         Iterations 8\n",
      "passed data have 51439 rows\n",
      "used data have 33701 rows after dropna\n"
     ]
    },
    {
     "name": "stderr",
     "output_type": "stream",
     "text": [
      "  2%|▏         | 54/2911 [00:22<11:37,  4.09it/s]"
     ]
    },
    {
     "name": "stdout",
     "output_type": "stream",
     "text": [
      "Optimization terminated successfully.\n",
      "         Current function value: 0.236605\n",
      "         Iterations 8\n",
      "passed data have 51439 rows\n",
      "used data have 33701 rows after dropna\n",
      "Optimization terminated successfully.\n",
      "         Current function value: 0.236600\n",
      "         Iterations 8\n"
     ]
    },
    {
     "name": "stderr",
     "output_type": "stream",
     "text": [
      "  2%|▏         | 55/2911 [00:22<10:26,  4.56it/s]"
     ]
    },
    {
     "name": "stdout",
     "output_type": "stream",
     "text": [
      "passed data have 51439 rows\n",
      "used data have 33701 rows after dropna\n",
      "Optimization terminated successfully.\n",
      "         Current function value: 0.236602\n",
      "         Iterations 8\n"
     ]
    },
    {
     "name": "stderr",
     "output_type": "stream",
     "text": [
      "  2%|▏         | 56/2911 [00:22<14:19,  3.32it/s]"
     ]
    },
    {
     "name": "stdout",
     "output_type": "stream",
     "text": [
      "passed data have 51439 rows\n",
      "used data have 33701 rows after dropna\n"
     ]
    },
    {
     "name": "stderr",
     "output_type": "stream",
     "text": [
      "  2%|▏         | 57/2911 [00:23<16:38,  2.86it/s]"
     ]
    },
    {
     "name": "stdout",
     "output_type": "stream",
     "text": [
      "Optimization terminated successfully.\n",
      "         Current function value: 0.236556\n",
      "         Iterations 8\n",
      "passed data have 51439 rows\n",
      "used data have 33701 rows after dropna\n",
      "Optimization terminated successfully.\n",
      "         Current function value: 0.236528\n",
      "         Iterations 8\n"
     ]
    },
    {
     "name": "stderr",
     "output_type": "stream",
     "text": [
      "  2%|▏         | 58/2911 [00:23<14:06,  3.37it/s]"
     ]
    },
    {
     "name": "stdout",
     "output_type": "stream",
     "text": [
      "passed data have 51439 rows\n",
      "used data have 33701 rows after dropna\n",
      "Optimization terminated successfully.\n",
      "         Current function value: 0.236611\n",
      "         Iterations 8\n"
     ]
    },
    {
     "name": "stderr",
     "output_type": "stream",
     "text": [
      "  2%|▏         | 59/2911 [00:23<15:19,  3.10it/s]"
     ]
    },
    {
     "name": "stdout",
     "output_type": "stream",
     "text": [
      "passed data have 51439 rows\n",
      "used data have 33701 rows after dropna\n",
      "Optimization terminated successfully.\n",
      "         Current function value: 0.236507\n",
      "         Iterations 8\n"
     ]
    },
    {
     "name": "stderr",
     "output_type": "stream",
     "text": [
      "  2%|▏         | 60/2911 [00:23<13:48,  3.44it/s]"
     ]
    },
    {
     "name": "stdout",
     "output_type": "stream",
     "text": [
      "passed data have 51439 rows\n",
      "used data have 33701 rows after dropna\n",
      "Optimization terminated successfully.\n",
      "         Current function value: 0.236609\n",
      "         Iterations 8\n"
     ]
    },
    {
     "name": "stderr",
     "output_type": "stream",
     "text": [
      "  2%|▏         | 61/2911 [00:24<13:47,  3.44it/s]"
     ]
    },
    {
     "name": "stdout",
     "output_type": "stream",
     "text": [
      "passed data have 51439 rows\n",
      "used data have 33701 rows after dropna\n",
      "Optimization terminated successfully.\n",
      "         Current function value: 0.236610\n",
      "         Iterations 8\n"
     ]
    },
    {
     "name": "stderr",
     "output_type": "stream",
     "text": [
      "  2%|▏         | 63/2911 [00:24<12:01,  3.95it/s]"
     ]
    },
    {
     "name": "stdout",
     "output_type": "stream",
     "text": [
      "passed data have 51439 rows\n",
      "used data have 33701 rows after dropna\n",
      "Optimization terminated successfully.\n",
      "         Current function value: 0.236610\n",
      "         Iterations 8\n",
      "passed data have 51439 rows\n"
     ]
    },
    {
     "name": "stderr",
     "output_type": "stream",
     "text": [
      "  2%|▏         | 64/2911 [00:24<11:09,  4.25it/s]"
     ]
    },
    {
     "name": "stdout",
     "output_type": "stream",
     "text": [
      "used data have 33701 rows after dropna\n",
      "Optimization terminated successfully.\n",
      "         Current function value: 0.236605\n",
      "         Iterations 8\n",
      "passed data have 51439 rows\n",
      "used data have 33701 rows after dropna\n"
     ]
    },
    {
     "name": "stderr",
     "output_type": "stream",
     "text": [
      "  2%|▏         | 65/2911 [00:25<10:15,  4.62it/s]"
     ]
    },
    {
     "name": "stdout",
     "output_type": "stream",
     "text": [
      "Optimization terminated successfully.\n",
      "         Current function value: 0.236597\n",
      "         Iterations 8\n",
      "passed data have 51439 rows\n",
      "used data have 33701 rows after dropna\n",
      "Optimization terminated successfully.\n",
      "         Current function value: 0.236610\n",
      "         Iterations 8\n"
     ]
    },
    {
     "name": "stderr",
     "output_type": "stream",
     "text": [
      "  2%|▏         | 66/2911 [00:25<10:58,  4.32it/s]"
     ]
    },
    {
     "name": "stdout",
     "output_type": "stream",
     "text": [
      "passed data have 51439 rows\n",
      "used data have 33701 rows after dropna\n",
      "Optimization terminated successfully.\n",
      "         Current function value: 0.236557\n",
      "         Iterations 8\n"
     ]
    },
    {
     "name": "stderr",
     "output_type": "stream",
     "text": [
      "  2%|▏         | 67/2911 [00:25<11:02,  4.30it/s]"
     ]
    },
    {
     "name": "stdout",
     "output_type": "stream",
     "text": [
      "passed data have 51439 rows\n",
      "used data have 33701 rows after dropna\n",
      "Optimization terminated successfully.\n",
      "         Current function value: 0.236566\n",
      "         Iterations 8\n"
     ]
    },
    {
     "name": "stderr",
     "output_type": "stream",
     "text": [
      "  2%|▏         | 69/2911 [00:26<11:17,  4.20it/s]"
     ]
    },
    {
     "name": "stdout",
     "output_type": "stream",
     "text": [
      "passed data have 51439 rows\n",
      "used data have 33701 rows after dropna\n",
      "Optimization terminated successfully.\n",
      "         Current function value: 0.236609\n",
      "         Iterations 8\n",
      "passed data have 51439 rows\n",
      "used data have 33701 rows after dropna\n",
      "Optimization terminated successfully.\n",
      "         Current function value: 0.236499\n",
      "         Iterations 8\n"
     ]
    },
    {
     "name": "stderr",
     "output_type": "stream",
     "text": [
      "  2%|▏         | 70/2911 [00:26<09:47,  4.83it/s]"
     ]
    },
    {
     "name": "stdout",
     "output_type": "stream",
     "text": [
      "passed data have 51439 rows\n",
      "used data have 33701 rows after dropna\n",
      "Optimization terminated successfully.\n",
      "         Current function value: 0.236608\n",
      "         Iterations 8\n"
     ]
    },
    {
     "name": "stderr",
     "output_type": "stream",
     "text": [
      "  2%|▏         | 71/2911 [00:26<09:55,  4.77it/s]"
     ]
    },
    {
     "name": "stdout",
     "output_type": "stream",
     "text": [
      "passed data have 51439 rows\n",
      "used data have 33701 rows after dropna\n",
      "Optimization terminated successfully.\n",
      "         Current function value: 0.236597\n",
      "         Iterations 8\n"
     ]
    },
    {
     "name": "stderr",
     "output_type": "stream",
     "text": [
      "  2%|▏         | 72/2911 [00:26<10:46,  4.39it/s]"
     ]
    },
    {
     "name": "stdout",
     "output_type": "stream",
     "text": [
      "passed data have 51439 rows\n",
      "used data have 33701 rows after dropna\n",
      "Optimization terminated successfully.\n",
      "         Current function value: 0.236595\n",
      "         Iterations 8\n"
     ]
    },
    {
     "name": "stderr",
     "output_type": "stream",
     "text": [
      "  3%|▎         | 73/2911 [00:26<11:22,  4.16it/s]"
     ]
    },
    {
     "name": "stdout",
     "output_type": "stream",
     "text": [
      "passed data have 51439 rows\n",
      "used data have 33701 rows after dropna\n",
      "Optimization terminated successfully.\n",
      "         Current function value: 0.236597\n",
      "         Iterations 8\n"
     ]
    },
    {
     "name": "stderr",
     "output_type": "stream",
     "text": [
      "  3%|▎         | 75/2911 [00:27<09:53,  4.78it/s]"
     ]
    },
    {
     "name": "stdout",
     "output_type": "stream",
     "text": [
      "passed data have 51439 rows\n",
      "used data have 33701 rows after dropna\n",
      "Optimization terminated successfully.\n",
      "         Current function value: 0.236604\n",
      "         Iterations 8\n",
      "passed data have 51439 rows\n",
      "used data have 33701 rows after dropna\n"
     ]
    },
    {
     "name": "stderr",
     "output_type": "stream",
     "text": [
      "  3%|▎         | 76/2911 [00:27<10:13,  4.62it/s]"
     ]
    },
    {
     "name": "stdout",
     "output_type": "stream",
     "text": [
      "Optimization terminated successfully.\n",
      "         Current function value: 0.236607\n",
      "         Iterations 8\n",
      "passed data have 51439 rows\n",
      "used data have 33701 rows after dropna\n",
      "Optimization terminated successfully.\n",
      "         Current function value: 0.236535\n",
      "         Iterations 8\n"
     ]
    },
    {
     "name": "stderr",
     "output_type": "stream",
     "text": [
      "  3%|▎         | 77/2911 [00:27<09:10,  5.15it/s]"
     ]
    },
    {
     "name": "stdout",
     "output_type": "stream",
     "text": [
      "passed data have 51439 rows\n",
      "used data have 33701 rows after dropna\n",
      "Optimization terminated successfully.\n",
      "         Current function value: 0.236589\n",
      "         Iterations 8\n"
     ]
    },
    {
     "name": "stderr",
     "output_type": "stream",
     "text": [
      "  3%|▎         | 78/2911 [00:28<10:52,  4.34it/s]"
     ]
    },
    {
     "name": "stdout",
     "output_type": "stream",
     "text": [
      "passed data have 51439 rows\n",
      "used data have 33701 rows after dropna\n",
      "Optimization terminated successfully.\n",
      "         Current function value: 0.236587\n",
      "         Iterations 8\n"
     ]
    },
    {
     "name": "stderr",
     "output_type": "stream",
     "text": [
      "  3%|▎         | 79/2911 [00:28<15:59,  2.95it/s]"
     ]
    },
    {
     "name": "stdout",
     "output_type": "stream",
     "text": [
      "passed data have 51439 rows\n",
      "used data have 33701 rows after dropna\n",
      "Optimization terminated successfully.\n",
      "         Current function value: 0.236606\n",
      "         Iterations 8\n"
     ]
    },
    {
     "name": "stderr",
     "output_type": "stream",
     "text": [
      "  3%|▎         | 80/2911 [00:28<14:53,  3.17it/s]"
     ]
    },
    {
     "name": "stdout",
     "output_type": "stream",
     "text": [
      "passed data have 51439 rows\n",
      "used data have 33701 rows after dropna\n",
      "Optimization terminated successfully.\n",
      "         Current function value: 0.236586\n",
      "         Iterations 8\n"
     ]
    },
    {
     "name": "stderr",
     "output_type": "stream",
     "text": [
      "  3%|▎         | 82/2911 [00:29<12:45,  3.69it/s]"
     ]
    },
    {
     "name": "stdout",
     "output_type": "stream",
     "text": [
      "passed data have 51439 rows\n",
      "used data have 33701 rows after dropna\n",
      "Optimization terminated successfully.\n",
      "         Current function value: 0.236610\n",
      "         Iterations 8\n",
      "passed data have 51439 rows\n",
      "used data have 33701 rows after dropna\n",
      "Optimization terminated successfully.\n",
      "         Current function value: 0.236589\n",
      "         Iterations 8\n"
     ]
    },
    {
     "name": "stderr",
     "output_type": "stream",
     "text": [
      "  3%|▎         | 83/2911 [00:29<13:46,  3.42it/s]"
     ]
    },
    {
     "name": "stdout",
     "output_type": "stream",
     "text": [
      "passed data have 51439 rows\n",
      "used data have 33701 rows after dropna\n",
      "Optimization terminated successfully.\n",
      "         Current function value: 0.236610\n",
      "         Iterations 8\n"
     ]
    },
    {
     "name": "stderr",
     "output_type": "stream",
     "text": [
      "  3%|▎         | 84/2911 [00:29<13:17,  3.54it/s]"
     ]
    },
    {
     "name": "stdout",
     "output_type": "stream",
     "text": [
      "passed data have 51439 rows\n",
      "used data have 33701 rows after dropna\n",
      "Optimization terminated successfully.\n",
      "         Current function value: 0.236602\n",
      "         Iterations 8\n"
     ]
    },
    {
     "name": "stderr",
     "output_type": "stream",
     "text": [
      "  3%|▎         | 85/2911 [00:30<12:41,  3.71it/s]"
     ]
    },
    {
     "name": "stdout",
     "output_type": "stream",
     "text": [
      "passed data have 51439 rows\n",
      "used data have 33701 rows after dropna\n",
      "Optimization terminated successfully.\n",
      "         Current function value: 0.236610\n",
      "         Iterations 8\n"
     ]
    },
    {
     "name": "stderr",
     "output_type": "stream",
     "text": [
      "  3%|▎         | 86/2911 [00:30<13:59,  3.36it/s]"
     ]
    },
    {
     "name": "stdout",
     "output_type": "stream",
     "text": [
      "passed data have 51439 rows\n",
      "used data have 33701 rows after dropna\n",
      "Optimization terminated successfully.\n",
      "         Current function value: 0.236599\n",
      "         Iterations 8\n"
     ]
    },
    {
     "name": "stderr",
     "output_type": "stream",
     "text": [
      "  3%|▎         | 87/2911 [00:30<13:53,  3.39it/s]"
     ]
    },
    {
     "name": "stdout",
     "output_type": "stream",
     "text": [
      "passed data have 51439 rows\n",
      "used data have 33701 rows after dropna\n",
      "Optimization terminated successfully.\n",
      "         Current function value: 0.236610\n",
      "         Iterations 8\n"
     ]
    },
    {
     "name": "stderr",
     "output_type": "stream",
     "text": [
      "  3%|▎         | 89/2911 [00:31<11:47,  3.99it/s]"
     ]
    },
    {
     "name": "stdout",
     "output_type": "stream",
     "text": [
      "passed data have 51439 rows\n",
      "used data have 33701 rows after dropna\n",
      "Optimization terminated successfully.\n",
      "         Current function value: 0.236610\n",
      "         Iterations 8\n",
      "passed data have 51439 rows\n",
      "used data have 33701 rows after dropna\n"
     ]
    },
    {
     "name": "stderr",
     "output_type": "stream",
     "text": [
      "  3%|▎         | 90/2911 [00:31<12:00,  3.91it/s]"
     ]
    },
    {
     "name": "stdout",
     "output_type": "stream",
     "text": [
      "Optimization terminated successfully.\n",
      "         Current function value: 0.236606\n",
      "         Iterations 8\n",
      "passed data have 51439 rows\n",
      "used data have 33701 rows after dropna\n",
      "Optimization terminated successfully.\n",
      "         Current function value: 0.236555\n",
      "         Iterations 8\n"
     ]
    },
    {
     "name": "stderr",
     "output_type": "stream",
     "text": [
      "  3%|▎         | 91/2911 [00:31<13:46,  3.41it/s]"
     ]
    },
    {
     "name": "stdout",
     "output_type": "stream",
     "text": [
      "passed data have 51439 rows\n",
      "used data have 33701 rows after dropna\n",
      "Optimization terminated successfully.\n",
      "         Current function value: 0.236558\n",
      "         Iterations 8\n"
     ]
    },
    {
     "name": "stderr",
     "output_type": "stream",
     "text": [
      "  3%|▎         | 93/2911 [00:32<11:42,  4.01it/s]"
     ]
    },
    {
     "name": "stdout",
     "output_type": "stream",
     "text": [
      "passed data have 51439 rows\n",
      "used data have 33701 rows after dropna\n",
      "Optimization terminated successfully.\n",
      "         Current function value: 0.236600\n",
      "         Iterations 8\n",
      "passed data have 51439 rows\n",
      "used data have 33701 rows after dropna\n",
      "Optimization terminated successfully.\n",
      "         Current function value: 0.236611\n",
      "         Iterations 8\n"
     ]
    },
    {
     "name": "stderr",
     "output_type": "stream",
     "text": [
      "  3%|▎         | 94/2911 [00:32<13:30,  3.47it/s]"
     ]
    },
    {
     "name": "stdout",
     "output_type": "stream",
     "text": [
      "passed data have 51439 rows\n",
      "used data have 33701 rows after dropna\n",
      "Optimization terminated successfully.\n",
      "         Current function value: 0.236610\n",
      "         Iterations 8\n"
     ]
    },
    {
     "name": "stderr",
     "output_type": "stream",
     "text": [
      "  3%|▎         | 96/2911 [00:33<11:14,  4.17it/s]"
     ]
    },
    {
     "name": "stdout",
     "output_type": "stream",
     "text": [
      "passed data have 51439 rows\n",
      "used data have 33701 rows after dropna\n",
      "Optimization terminated successfully.\n",
      "         Current function value: 0.236609\n",
      "         Iterations 8\n",
      "passed data have 51439 rows\n",
      "used data have 33701 rows after dropna\n",
      "Optimization terminated successfully.\n",
      "         Current function value: 0.236597\n",
      "         Iterations 8\n"
     ]
    },
    {
     "name": "stderr",
     "output_type": "stream",
     "text": [
      "  3%|▎         | 97/2911 [00:33<10:38,  4.41it/s]"
     ]
    },
    {
     "name": "stdout",
     "output_type": "stream",
     "text": [
      "passed data have 51439 rows\n",
      "used data have 33701 rows after dropna\n",
      "Optimization terminated successfully.\n",
      "         Current function value: 0.236593\n",
      "         Iterations 8\n"
     ]
    },
    {
     "name": "stderr",
     "output_type": "stream",
     "text": [
      "  3%|▎         | 99/2911 [00:33<10:55,  4.29it/s]"
     ]
    },
    {
     "name": "stdout",
     "output_type": "stream",
     "text": [
      "passed data have 51439 rows\n",
      "used data have 33701 rows after dropna\n",
      "Optimization terminated successfully.\n",
      "         Current function value: 0.236602\n",
      "         Iterations 8\n",
      "passed data have 51439 rows\n",
      "used data have 33701 rows after dropna\n"
     ]
    },
    {
     "name": "stderr",
     "output_type": "stream",
     "text": [
      "  3%|▎         | 100/2911 [00:34<10:00,  4.68it/s]"
     ]
    },
    {
     "name": "stdout",
     "output_type": "stream",
     "text": [
      "Optimization terminated successfully.\n",
      "         Current function value: 0.236604\n",
      "         Iterations 8\n",
      "passed data have 51439 rows\n",
      "used data have 33701 rows after dropna\n"
     ]
    },
    {
     "name": "stderr",
     "output_type": "stream",
     "text": [
      "  3%|▎         | 101/2911 [00:34<10:28,  4.47it/s]"
     ]
    },
    {
     "name": "stdout",
     "output_type": "stream",
     "text": [
      "Optimization terminated successfully.\n",
      "         Current function value: 0.236464\n",
      "         Iterations 8\n",
      "passed data have 51439 rows\n",
      "used data have 33701 rows after dropna\n",
      "Optimization terminated successfully.\n",
      "         Current function value: 0.236598\n",
      "         Iterations 8\n"
     ]
    },
    {
     "name": "stderr",
     "output_type": "stream",
     "text": [
      "  4%|▎         | 102/2911 [00:34<09:23,  4.98it/s]"
     ]
    },
    {
     "name": "stdout",
     "output_type": "stream",
     "text": [
      "passed data have 51439 rows\n",
      "used data have 33701 rows after dropna\n",
      "Optimization terminated successfully.\n",
      "         Current function value: 0.236570\n",
      "         Iterations 8\n"
     ]
    },
    {
     "name": "stderr",
     "output_type": "stream",
     "text": [
      "  4%|▎         | 103/2911 [00:34<09:55,  4.71it/s]"
     ]
    },
    {
     "name": "stdout",
     "output_type": "stream",
     "text": [
      "passed data have 51439 rows\n",
      "used data have 33701 rows after dropna\n",
      "Optimization terminated successfully.\n",
      "         Current function value: 0.236532\n",
      "         Iterations 8\n"
     ]
    },
    {
     "name": "stderr",
     "output_type": "stream",
     "text": [
      "  4%|▎         | 104/2911 [00:35<12:27,  3.75it/s]"
     ]
    },
    {
     "name": "stdout",
     "output_type": "stream",
     "text": [
      "passed data have 51439 rows\n",
      "used data have 33741 rows after dropna\n",
      "Optimization terminated successfully.\n",
      "         Current function value: 0.236197\n",
      "         Iterations 8\n"
     ]
    },
    {
     "name": "stderr",
     "output_type": "stream",
     "text": [
      "  4%|▎         | 105/2911 [00:35<13:01,  3.59it/s]"
     ]
    },
    {
     "name": "stdout",
     "output_type": "stream",
     "text": [
      "passed data have 51439 rows\n",
      "used data have 33770 rows after dropna\n",
      "Optimization terminated successfully.\n",
      "         Current function value: 0.237122\n",
      "         Iterations 8\n"
     ]
    },
    {
     "name": "stderr",
     "output_type": "stream",
     "text": [
      "  4%|▎         | 106/2911 [00:35<13:19,  3.51it/s]"
     ]
    },
    {
     "name": "stdout",
     "output_type": "stream",
     "text": [
      "passed data have 51439 rows\n",
      "used data have 33808 rows after dropna\n",
      "Optimization terminated successfully.\n",
      "         Current function value: 0.236041\n",
      "         Iterations 8\n"
     ]
    },
    {
     "name": "stderr",
     "output_type": "stream",
     "text": [
      "  4%|▎         | 107/2911 [00:35<13:05,  3.57it/s]"
     ]
    },
    {
     "name": "stdout",
     "output_type": "stream",
     "text": [
      "passed data have 51439 rows\n",
      "used data have 33808 rows after dropna\n",
      "Optimization terminated successfully.\n",
      "         Current function value: 0.235973\n",
      "         Iterations 8\n"
     ]
    },
    {
     "name": "stderr",
     "output_type": "stream",
     "text": [
      "  4%|▎         | 108/2911 [00:36<12:26,  3.76it/s]"
     ]
    },
    {
     "name": "stdout",
     "output_type": "stream",
     "text": [
      "passed data have 51439 rows\n",
      "used data have 33808 rows after dropna\n",
      "Optimization terminated successfully.\n",
      "         Current function value: 0.236128\n",
      "         Iterations 8\n"
     ]
    },
    {
     "name": "stderr",
     "output_type": "stream",
     "text": [
      "  4%|▍         | 110/2911 [00:36<10:45,  4.34it/s]"
     ]
    },
    {
     "name": "stdout",
     "output_type": "stream",
     "text": [
      "passed data have 51439 rows\n",
      "used data have 33808 rows after dropna\n",
      "Optimization terminated successfully.\n",
      "         Current function value: 0.236128\n",
      "         Iterations 8\n",
      "passed data have 51439 rows\n",
      "used data have 33808 rows after dropna\n"
     ]
    },
    {
     "name": "stderr",
     "output_type": "stream",
     "text": [
      "  4%|▍         | 111/2911 [00:36<09:24,  4.96it/s]"
     ]
    },
    {
     "name": "stdout",
     "output_type": "stream",
     "text": [
      "Optimization terminated successfully.\n",
      "         Current function value: 0.236024\n",
      "         Iterations 8\n",
      "passed data have 51439 rows\n",
      "used data have 33808 rows after dropna\n",
      "Optimization terminated successfully.\n",
      "         Current function value: 0.236117\n",
      "         Iterations 8\n"
     ]
    },
    {
     "name": "stderr",
     "output_type": "stream",
     "text": [
      "  4%|▍         | 112/2911 [00:36<09:10,  5.09it/s]"
     ]
    },
    {
     "name": "stdout",
     "output_type": "stream",
     "text": [
      "passed data have 51439 rows\n",
      "used data have 33808 rows after dropna\n",
      "Optimization terminated successfully.\n",
      "         Current function value: 0.236113\n",
      "         Iterations 8\n"
     ]
    },
    {
     "name": "stderr",
     "output_type": "stream",
     "text": [
      "  4%|▍         | 113/2911 [00:37<10:42,  4.35it/s]"
     ]
    },
    {
     "name": "stdout",
     "output_type": "stream",
     "text": [
      "passed data have 51439 rows\n",
      "used data have 33808 rows after dropna\n",
      "Optimization terminated successfully.\n",
      "         Current function value: 0.236127\n",
      "         Iterations 8\n"
     ]
    },
    {
     "name": "stderr",
     "output_type": "stream",
     "text": [
      "  4%|▍         | 114/2911 [00:37<12:16,  3.80it/s]"
     ]
    },
    {
     "name": "stdout",
     "output_type": "stream",
     "text": [
      "passed data have 51439 rows\n",
      "used data have 33808 rows after dropna\n",
      "Optimization terminated successfully.\n",
      "         Current function value: 0.236128\n",
      "         Iterations 8\n"
     ]
    },
    {
     "name": "stderr",
     "output_type": "stream",
     "text": [
      "  4%|▍         | 116/2911 [00:38<13:39,  3.41it/s]"
     ]
    },
    {
     "name": "stdout",
     "output_type": "stream",
     "text": [
      "passed data have 51439 rows\n",
      "used data have 33808 rows after dropna\n",
      "Optimization terminated successfully.\n",
      "         Current function value: 0.236102\n",
      "         Iterations 8\n",
      "passed data have 51439 rows\n",
      "used data have 33808 rows after dropna\n",
      "Optimization terminated successfully.\n",
      "         Current function value: 0.236113\n",
      "         Iterations 8\n"
     ]
    },
    {
     "name": "stderr",
     "output_type": "stream",
     "text": [
      "  4%|▍         | 117/2911 [00:38<13:20,  3.49it/s]"
     ]
    },
    {
     "name": "stdout",
     "output_type": "stream",
     "text": [
      "passed data have 51439 rows\n",
      "used data have 33808 rows after dropna\n",
      "Optimization terminated successfully.\n",
      "         Current function value: 0.236125\n",
      "         Iterations 8\n"
     ]
    },
    {
     "name": "stderr",
     "output_type": "stream",
     "text": [
      "  4%|▍         | 118/2911 [00:38<12:51,  3.62it/s]"
     ]
    },
    {
     "name": "stdout",
     "output_type": "stream",
     "text": [
      "passed data have 51439 rows\n",
      "used data have 33808 rows after dropna\n",
      "Optimization terminated successfully.\n",
      "         Current function value: 0.236107\n",
      "         Iterations 8\n"
     ]
    },
    {
     "name": "stderr",
     "output_type": "stream",
     "text": [
      "  4%|▍         | 119/2911 [00:39<15:54,  2.92it/s]"
     ]
    },
    {
     "name": "stdout",
     "output_type": "stream",
     "text": [
      "passed data have 51439 rows\n",
      "used data have 33808 rows after dropna\n",
      "Optimization terminated successfully.\n",
      "         Current function value: 0.236005\n",
      "         Iterations 8\n"
     ]
    },
    {
     "name": "stderr",
     "output_type": "stream",
     "text": [
      "  4%|▍         | 120/2911 [00:39<15:39,  2.97it/s]"
     ]
    },
    {
     "name": "stdout",
     "output_type": "stream",
     "text": [
      "passed data have 51439 rows\n",
      "used data have 33808 rows after dropna\n",
      "Optimization terminated successfully.\n",
      "         Current function value: 0.236123\n",
      "         Iterations 8\n"
     ]
    },
    {
     "name": "stderr",
     "output_type": "stream",
     "text": [
      "  4%|▍         | 121/2911 [00:39<14:42,  3.16it/s]"
     ]
    },
    {
     "name": "stdout",
     "output_type": "stream",
     "text": [
      "passed data have 51439 rows\n",
      "used data have 33808 rows after dropna\n",
      "Optimization terminated successfully.\n",
      "         Current function value: 0.236128\n",
      "         Iterations 8\n"
     ]
    },
    {
     "name": "stderr",
     "output_type": "stream",
     "text": [
      "  4%|▍         | 123/2911 [00:40<11:50,  3.92it/s]"
     ]
    },
    {
     "name": "stdout",
     "output_type": "stream",
     "text": [
      "passed data have 51439 rows\n",
      "used data have 33808 rows after dropna\n",
      "Optimization terminated successfully.\n",
      "         Current function value: 0.236079\n",
      "         Iterations 8\n",
      "passed data have 51439 rows\n",
      "used data have 33808 rows after dropna\n"
     ]
    },
    {
     "name": "stderr",
     "output_type": "stream",
     "text": [
      "  4%|▍         | 124/2911 [00:40<11:32,  4.03it/s]"
     ]
    },
    {
     "name": "stdout",
     "output_type": "stream",
     "text": [
      "Optimization terminated successfully.\n",
      "         Current function value: 0.236128\n",
      "         Iterations 8\n",
      "passed data have 51439 rows\n",
      "used data have 33808 rows after dropna\n",
      "Optimization terminated successfully.\n",
      "         Current function value: 0.236012\n",
      "         Iterations 8\n"
     ]
    },
    {
     "name": "stderr",
     "output_type": "stream",
     "text": [
      "  4%|▍         | 125/2911 [00:40<11:02,  4.21it/s]"
     ]
    },
    {
     "name": "stdout",
     "output_type": "stream",
     "text": [
      "passed data have 51439 rows\n",
      "used data have 33808 rows after dropna\n",
      "Optimization terminated successfully.\n",
      "         Current function value: 0.235994\n",
      "         Iterations 8\n"
     ]
    },
    {
     "name": "stderr",
     "output_type": "stream",
     "text": [
      "  4%|▍         | 127/2911 [00:41<09:36,  4.83it/s]"
     ]
    },
    {
     "name": "stdout",
     "output_type": "stream",
     "text": [
      "passed data have 51439 rows\n",
      "used data have 33808 rows after dropna\n",
      "Optimization terminated successfully.\n",
      "         Current function value: 0.236114\n",
      "         Iterations 8\n",
      "passed data have 51439 rows\n",
      "used data have 33808 rows after dropna\n",
      "Optimization terminated successfully.\n",
      "         Current function value: 0.236119\n",
      "         Iterations 8\n"
     ]
    },
    {
     "name": "stderr",
     "output_type": "stream",
     "text": [
      "  4%|▍         | 129/2911 [00:41<08:24,  5.51it/s]"
     ]
    },
    {
     "name": "stdout",
     "output_type": "stream",
     "text": [
      "passed data have 51439 rows\n",
      "used data have 33808 rows after dropna\n",
      "Optimization terminated successfully.\n",
      "         Current function value: 0.236126\n",
      "         Iterations 8\n",
      "passed data have 51439 rows\n",
      "used data have 33808 rows after dropna\n"
     ]
    },
    {
     "name": "stderr",
     "output_type": "stream",
     "text": [
      "  4%|▍         | 130/2911 [00:41<11:20,  4.08it/s]"
     ]
    },
    {
     "name": "stdout",
     "output_type": "stream",
     "text": [
      "Optimization terminated successfully.\n",
      "         Current function value: 0.236112\n",
      "         Iterations 8\n",
      "passed data have 51439 rows\n",
      "used data have 33808 rows after dropna\n"
     ]
    },
    {
     "name": "stderr",
     "output_type": "stream",
     "text": [
      "  5%|▍         | 131/2911 [00:42<11:54,  3.89it/s]"
     ]
    },
    {
     "name": "stdout",
     "output_type": "stream",
     "text": [
      "Optimization terminated successfully.\n",
      "         Current function value: 0.236124\n",
      "         Iterations 8\n",
      "passed data have 51439 rows\n",
      "used data have 33808 rows after dropna\n",
      "Optimization terminated successfully.\n",
      "         Current function value: 0.236049\n",
      "         Iterations 8\n"
     ]
    },
    {
     "name": "stderr",
     "output_type": "stream",
     "text": [
      "  5%|▍         | 132/2911 [00:42<15:06,  3.06it/s]"
     ]
    },
    {
     "name": "stdout",
     "output_type": "stream",
     "text": [
      "passed data have 51439 rows\n",
      "used data have 33808 rows after dropna\n",
      "Optimization terminated successfully.\n",
      "         Current function value: 0.236121\n",
      "         Iterations 8\n"
     ]
    },
    {
     "name": "stderr",
     "output_type": "stream",
     "text": [
      "  5%|▍         | 134/2911 [00:43<15:01,  3.08it/s]"
     ]
    },
    {
     "name": "stdout",
     "output_type": "stream",
     "text": [
      "passed data have 51439 rows\n",
      "used data have 33808 rows after dropna\n",
      "Optimization terminated successfully.\n",
      "         Current function value: 0.236125\n",
      "         Iterations 8\n",
      "passed data have 51439 rows\n",
      "used data have 33808 rows after dropna\n"
     ]
    },
    {
     "name": "stderr",
     "output_type": "stream",
     "text": [
      "  5%|▍         | 135/2911 [00:43<12:34,  3.68it/s]"
     ]
    },
    {
     "name": "stdout",
     "output_type": "stream",
     "text": [
      "Optimization terminated successfully.\n",
      "         Current function value: 0.236123\n",
      "         Iterations 8\n",
      "passed data have 51439 rows\n",
      "used data have 33808 rows after dropna\n",
      "Optimization terminated successfully.\n",
      "         Current function value: 0.236122\n",
      "         Iterations 8\n"
     ]
    },
    {
     "name": "stderr",
     "output_type": "stream",
     "text": [
      "  5%|▍         | 136/2911 [00:43<11:33,  4.00it/s]"
     ]
    },
    {
     "name": "stdout",
     "output_type": "stream",
     "text": [
      "passed data have 51439 rows\n",
      "used data have 33808 rows after dropna\n"
     ]
    },
    {
     "name": "stderr",
     "output_type": "stream",
     "text": [
      "  5%|▍         | 137/2911 [00:44<13:54,  3.32it/s]"
     ]
    },
    {
     "name": "stdout",
     "output_type": "stream",
     "text": [
      "Optimization terminated successfully.\n",
      "         Current function value: 0.236124\n",
      "         Iterations 8\n",
      "passed data have 51439 rows\n",
      "used data have 33808 rows after dropna\n"
     ]
    },
    {
     "name": "stderr",
     "output_type": "stream",
     "text": [
      "  5%|▍         | 138/2911 [00:44<13:37,  3.39it/s]"
     ]
    },
    {
     "name": "stdout",
     "output_type": "stream",
     "text": [
      "Optimization terminated successfully.\n",
      "         Current function value: 0.236106\n",
      "         Iterations 8\n",
      "passed data have 51439 rows\n",
      "used data have 33808 rows after dropna\n",
      "Optimization terminated successfully.\n",
      "         Current function value: 0.236124\n",
      "         Iterations 8\n"
     ]
    },
    {
     "name": "stderr",
     "output_type": "stream",
     "text": [
      "  5%|▍         | 140/2911 [00:44<11:49,  3.91it/s]"
     ]
    },
    {
     "name": "stdout",
     "output_type": "stream",
     "text": [
      "passed data have 51439 rows\n",
      "used data have 33808 rows after dropna\n",
      "Optimization terminated successfully.\n",
      "         Current function value: 0.236112\n",
      "         Iterations 8\n",
      "passed data have 51439 rows\n",
      "used data have 33808 rows after dropna\n"
     ]
    },
    {
     "name": "stderr",
     "output_type": "stream",
     "text": [
      "  5%|▍         | 141/2911 [00:44<11:28,  4.02it/s]"
     ]
    },
    {
     "name": "stdout",
     "output_type": "stream",
     "text": [
      "Optimization terminated successfully.\n",
      "         Current function value: 0.236128\n",
      "         Iterations 8\n",
      "passed data have 51439 rows\n",
      "used data have 33808 rows after dropna\n",
      "Optimization terminated successfully.\n",
      "         Current function value: 0.236122\n",
      "         Iterations 8\n"
     ]
    },
    {
     "name": "stderr",
     "output_type": "stream",
     "text": [
      "  5%|▍         | 142/2911 [00:45<15:12,  3.04it/s]"
     ]
    },
    {
     "name": "stdout",
     "output_type": "stream",
     "text": [
      "passed data have 51439 rows\n",
      "used data have 33808 rows after dropna\n",
      "Optimization terminated successfully.\n",
      "         Current function value: 0.236128\n",
      "         Iterations 8\n"
     ]
    },
    {
     "name": "stderr",
     "output_type": "stream",
     "text": [
      "  5%|▍         | 143/2911 [00:45<15:38,  2.95it/s]"
     ]
    },
    {
     "name": "stdout",
     "output_type": "stream",
     "text": [
      "passed data have 51439 rows\n",
      "used data have 33808 rows after dropna\n",
      "Optimization terminated successfully.\n",
      "         Current function value: 0.236106\n",
      "         Iterations 8\n"
     ]
    },
    {
     "name": "stderr",
     "output_type": "stream",
     "text": [
      "  5%|▍         | 144/2911 [00:46<15:30,  2.98it/s]"
     ]
    },
    {
     "name": "stdout",
     "output_type": "stream",
     "text": [
      "passed data have 51439 rows\n",
      "used data have 33808 rows after dropna\n",
      "Optimization terminated successfully.\n",
      "         Current function value: 0.236119\n",
      "         Iterations 8\n"
     ]
    },
    {
     "name": "stderr",
     "output_type": "stream",
     "text": [
      "  5%|▌         | 146/2911 [00:46<13:38,  3.38it/s]"
     ]
    },
    {
     "name": "stdout",
     "output_type": "stream",
     "text": [
      "passed data have 51439 rows\n",
      "used data have 33808 rows after dropna\n",
      "Optimization terminated successfully.\n",
      "         Current function value: 0.236110\n",
      "         Iterations 8\n",
      "passed data have 51439 rows\n",
      "used data have 33808 rows after dropna\n"
     ]
    },
    {
     "name": "stderr",
     "output_type": "stream",
     "text": [
      "  5%|▌         | 147/2911 [00:47<13:39,  3.37it/s]"
     ]
    },
    {
     "name": "stdout",
     "output_type": "stream",
     "text": [
      "Optimization terminated successfully.\n",
      "         Current function value: 0.236103\n",
      "         Iterations 8\n",
      "passed data have 51439 rows\n",
      "used data have 33808 rows after dropna\n",
      "Optimization terminated successfully.\n",
      "         Current function value: 0.236120\n",
      "         Iterations 8\n"
     ]
    },
    {
     "name": "stderr",
     "output_type": "stream",
     "text": [
      "  5%|▌         | 148/2911 [00:47<13:28,  3.42it/s]"
     ]
    },
    {
     "name": "stdout",
     "output_type": "stream",
     "text": [
      "passed data have 51439 rows\n",
      "used data have 33808 rows after dropna\n",
      "Optimization terminated successfully.\n",
      "         Current function value: 0.235850\n",
      "         Iterations 8\n"
     ]
    },
    {
     "name": "stderr",
     "output_type": "stream",
     "text": [
      "  5%|▌         | 150/2911 [00:47<11:19,  4.06it/s]"
     ]
    },
    {
     "name": "stdout",
     "output_type": "stream",
     "text": [
      "passed data have 51439 rows\n",
      "used data have 33808 rows after dropna\n",
      "Optimization terminated successfully.\n",
      "         Current function value: 0.236093\n",
      "         Iterations 8\n",
      "passed data have 51439 rows\n",
      "used data have 33808 rows after dropna\n",
      "Optimization terminated successfully.\n",
      "         Current function value: 0.236099\n",
      "         Iterations 8\n"
     ]
    },
    {
     "name": "stderr",
     "output_type": "stream",
     "text": [
      "  5%|▌         | 151/2911 [00:47<10:22,  4.43it/s]"
     ]
    },
    {
     "name": "stdout",
     "output_type": "stream",
     "text": [
      "passed data have 51439 rows\n",
      "used data have 33808 rows after dropna\n",
      "Optimization terminated successfully.\n",
      "         Current function value: 0.236054\n",
      "         Iterations 8\n"
     ]
    },
    {
     "name": "stderr",
     "output_type": "stream",
     "text": [
      "  5%|▌         | 152/2911 [00:48<11:13,  4.09it/s]"
     ]
    },
    {
     "name": "stdout",
     "output_type": "stream",
     "text": [
      "passed data have 51439 rows\n",
      "used data have 33808 rows after dropna\n",
      "Optimization terminated successfully.\n",
      "         Current function value: 0.236060\n",
      "         Iterations 8\n"
     ]
    },
    {
     "name": "stderr",
     "output_type": "stream",
     "text": [
      "  5%|▌         | 153/2911 [00:48<12:05,  3.80it/s]"
     ]
    },
    {
     "name": "stdout",
     "output_type": "stream",
     "text": [
      "passed data have 51439 rows\n",
      "used data have 33808 rows after dropna\n",
      "Optimization terminated successfully.\n",
      "         Current function value: 0.236128\n",
      "         Iterations 8\n"
     ]
    },
    {
     "name": "stderr",
     "output_type": "stream",
     "text": [
      "  5%|▌         | 154/2911 [00:48<11:23,  4.03it/s]"
     ]
    },
    {
     "name": "stdout",
     "output_type": "stream",
     "text": [
      "passed data have 51439 rows\n",
      "used data have 33808 rows after dropna\n",
      "Optimization terminated successfully.\n",
      "         Current function value: 0.236126\n",
      "         Iterations 8\n"
     ]
    },
    {
     "name": "stderr",
     "output_type": "stream",
     "text": [
      "  5%|▌         | 155/2911 [00:49<12:02,  3.81it/s]"
     ]
    },
    {
     "name": "stdout",
     "output_type": "stream",
     "text": [
      "passed data have 51439 rows\n",
      "used data have 33808 rows after dropna\n",
      "Optimization terminated successfully.\n",
      "         Current function value: 0.236123\n",
      "         Iterations 8\n"
     ]
    },
    {
     "name": "stderr",
     "output_type": "stream",
     "text": [
      "  5%|▌         | 157/2911 [00:49<10:22,  4.42it/s]"
     ]
    },
    {
     "name": "stdout",
     "output_type": "stream",
     "text": [
      "passed data have 51439 rows\n",
      "used data have 33808 rows after dropna\n",
      "Optimization terminated successfully.\n",
      "         Current function value: 0.236092\n",
      "         Iterations 8\n",
      "passed data have 51439 rows\n",
      "used data have 33808 rows after dropna\n"
     ]
    },
    {
     "name": "stderr",
     "output_type": "stream",
     "text": [
      "  5%|▌         | 158/2911 [00:49<09:43,  4.72it/s]"
     ]
    },
    {
     "name": "stdout",
     "output_type": "stream",
     "text": [
      "Optimization terminated successfully.\n",
      "         Current function value: 0.236128\n",
      "         Iterations 8\n",
      "passed data have 51439 rows\n",
      "used data have 33808 rows after dropna\n",
      "Optimization terminated successfully.\n",
      "         Current function value: 0.236122\n",
      "         Iterations 8\n"
     ]
    },
    {
     "name": "stderr",
     "output_type": "stream",
     "text": [
      "  5%|▌         | 160/2911 [00:49<09:06,  5.03it/s]"
     ]
    },
    {
     "name": "stdout",
     "output_type": "stream",
     "text": [
      "passed data have 51439 rows\n",
      "used data have 33808 rows after dropna\n",
      "Optimization terminated successfully.\n",
      "         Current function value: 0.236124\n",
      "         Iterations 8\n",
      "passed data have 51439 rows\n",
      "used data have 33808 rows after dropna\n"
     ]
    },
    {
     "name": "stderr",
     "output_type": "stream",
     "text": [
      "  6%|▌         | 161/2911 [00:50<08:40,  5.28it/s]"
     ]
    },
    {
     "name": "stdout",
     "output_type": "stream",
     "text": [
      "Optimization terminated successfully.\n",
      "         Current function value: 0.236063\n",
      "         Iterations 8\n",
      "passed data have 51439 rows\n",
      "used data have 33808 rows after dropna\n",
      "Optimization terminated successfully.\n",
      "         Current function value: 0.236126\n",
      "         Iterations 8\n"
     ]
    },
    {
     "name": "stderr",
     "output_type": "stream",
     "text": [
      "  6%|▌         | 162/2911 [00:50<08:18,  5.52it/s]"
     ]
    },
    {
     "name": "stdout",
     "output_type": "stream",
     "text": [
      "passed data have 51439 rows\n",
      "used data have 33808 rows after dropna\n",
      "Optimization terminated successfully.\n",
      "         Current function value: 0.236122\n",
      "         Iterations 8\n"
     ]
    },
    {
     "name": "stderr",
     "output_type": "stream",
     "text": [
      "  6%|▌         | 163/2911 [00:50<10:50,  4.23it/s]"
     ]
    },
    {
     "name": "stdout",
     "output_type": "stream",
     "text": [
      "passed data have 51439 rows\n",
      "used data have 33808 rows after dropna\n",
      "Optimization terminated successfully.\n",
      "         Current function value: 0.236125\n",
      "         Iterations 8\n"
     ]
    },
    {
     "name": "stderr",
     "output_type": "stream",
     "text": [
      "  6%|▌         | 164/2911 [00:50<11:36,  3.94it/s]"
     ]
    },
    {
     "name": "stdout",
     "output_type": "stream",
     "text": [
      "passed data have 51439 rows\n",
      "used data have 33808 rows after dropna\n",
      "Optimization terminated successfully.\n",
      "         Current function value: 0.236101\n",
      "         Iterations 8\n"
     ]
    },
    {
     "name": "stderr",
     "output_type": "stream",
     "text": [
      "  6%|▌         | 165/2911 [00:51<11:31,  3.97it/s]"
     ]
    },
    {
     "name": "stdout",
     "output_type": "stream",
     "text": [
      "passed data have 51439 rows\n",
      "used data have 33808 rows after dropna\n",
      "Optimization terminated successfully.\n",
      "         Current function value: 0.236044\n",
      "         Iterations 8\n"
     ]
    },
    {
     "name": "stderr",
     "output_type": "stream",
     "text": [
      "  6%|▌         | 167/2911 [00:51<10:34,  4.32it/s]"
     ]
    },
    {
     "name": "stdout",
     "output_type": "stream",
     "text": [
      "passed data have 51439 rows\n",
      "used data have 33808 rows after dropna\n",
      "Optimization terminated successfully.\n",
      "         Current function value: 0.236119\n",
      "         Iterations 8\n",
      "passed data have 51439 rows\n",
      "used data have 33808 rows after dropna\n",
      "Optimization terminated successfully.\n",
      "         Current function value: 0.236119\n",
      "         Iterations 8\n"
     ]
    },
    {
     "name": "stderr",
     "output_type": "stream",
     "text": [
      "  6%|▌         | 168/2911 [00:51<09:16,  4.93it/s]"
     ]
    },
    {
     "name": "stdout",
     "output_type": "stream",
     "text": [
      "passed data have 51439 rows\n",
      "used data have 33808 rows after dropna\n",
      "Optimization terminated successfully.\n",
      "         Current function value: 0.236124\n",
      "         Iterations 8\n"
     ]
    },
    {
     "name": "stderr",
     "output_type": "stream",
     "text": [
      "  6%|▌         | 170/2911 [00:52<08:34,  5.33it/s]"
     ]
    },
    {
     "name": "stdout",
     "output_type": "stream",
     "text": [
      "passed data have 51439 rows\n",
      "used data have 33808 rows after dropna\n",
      "Optimization terminated successfully.\n",
      "         Current function value: 0.236123\n",
      "         Iterations 8\n",
      "passed data have 51439 rows\n",
      "used data have 33808 rows after dropna\n",
      "Optimization terminated successfully.\n",
      "         Current function value: 0.236123\n",
      "         Iterations 8\n"
     ]
    },
    {
     "name": "stderr",
     "output_type": "stream",
     "text": [
      "  6%|▌         | 171/2911 [00:52<07:47,  5.86it/s]"
     ]
    },
    {
     "name": "stdout",
     "output_type": "stream",
     "text": [
      "passed data have 51439 rows\n",
      "used data have 33808 rows after dropna\n",
      "Optimization terminated successfully.\n",
      "         Current function value: 0.236128\n",
      "         Iterations 8\n"
     ]
    },
    {
     "name": "stderr",
     "output_type": "stream",
     "text": [
      "  6%|▌         | 172/2911 [00:52<08:32,  5.34it/s]"
     ]
    },
    {
     "name": "stdout",
     "output_type": "stream",
     "text": [
      "passed data have 51439 rows\n",
      "used data have 33808 rows after dropna\n",
      "Optimization terminated successfully.\n",
      "         Current function value: 0.236126\n",
      "         Iterations 8\n"
     ]
    },
    {
     "name": "stderr",
     "output_type": "stream",
     "text": [
      "  6%|▌         | 173/2911 [00:53<15:56,  2.86it/s]"
     ]
    },
    {
     "name": "stdout",
     "output_type": "stream",
     "text": [
      "passed data have 51439 rows\n",
      "used data have 33808 rows after dropna\n",
      "Optimization terminated successfully.\n",
      "         Current function value: 0.235910\n",
      "         Iterations 8\n"
     ]
    },
    {
     "name": "stderr",
     "output_type": "stream",
     "text": [
      "  6%|▌         | 174/2911 [00:53<15:28,  2.95it/s]"
     ]
    },
    {
     "name": "stdout",
     "output_type": "stream",
     "text": [
      "passed data have 51439 rows\n",
      "used data have 33808 rows after dropna\n",
      "Optimization terminated successfully.\n",
      "         Current function value: 0.236114\n",
      "         Iterations 8\n"
     ]
    },
    {
     "name": "stderr",
     "output_type": "stream",
     "text": [
      "  6%|▌         | 175/2911 [00:53<13:39,  3.34it/s]"
     ]
    },
    {
     "name": "stdout",
     "output_type": "stream",
     "text": [
      "passed data have 51439 rows\n",
      "used data have 33808 rows after dropna\n",
      "Optimization terminated successfully.\n",
      "         Current function value: 0.236084\n",
      "         Iterations 8\n"
     ]
    },
    {
     "name": "stderr",
     "output_type": "stream",
     "text": [
      "  6%|▌         | 176/2911 [00:53<12:26,  3.67it/s]"
     ]
    },
    {
     "name": "stdout",
     "output_type": "stream",
     "text": [
      "passed data have 51439 rows\n",
      "used data have 33808 rows after dropna\n",
      "Optimization terminated successfully.\n",
      "         Current function value: 0.236106\n",
      "         Iterations 8\n"
     ]
    },
    {
     "name": "stderr",
     "output_type": "stream",
     "text": [
      "  6%|▌         | 178/2911 [00:54<10:41,  4.26it/s]"
     ]
    },
    {
     "name": "stdout",
     "output_type": "stream",
     "text": [
      "passed data have 51439 rows\n",
      "used data have 33808 rows after dropna\n",
      "Optimization terminated successfully.\n",
      "         Current function value: 0.236013\n",
      "         Iterations 8\n",
      "passed data have 51439 rows\n",
      "used data have 33808 rows after dropna\n"
     ]
    },
    {
     "name": "stderr",
     "output_type": "stream",
     "text": [
      "  6%|▌         | 179/2911 [00:54<09:52,  4.61it/s]"
     ]
    },
    {
     "name": "stdout",
     "output_type": "stream",
     "text": [
      "Optimization terminated successfully.\n",
      "         Current function value: 0.236128\n",
      "         Iterations 8\n",
      "passed data have 51439 rows\n",
      "used data have 33808 rows after dropna\n",
      "Optimization terminated successfully.\n",
      "         Current function value: 0.236128\n",
      "         Iterations 8\n"
     ]
    },
    {
     "name": "stderr",
     "output_type": "stream",
     "text": [
      "  6%|▌         | 180/2911 [00:54<10:12,  4.46it/s]"
     ]
    },
    {
     "name": "stdout",
     "output_type": "stream",
     "text": [
      "passed data have 51439 rows\n",
      "used data have 33808 rows after dropna\n",
      "Optimization terminated successfully.\n",
      "         Current function value: 0.236100\n",
      "         Iterations 8\n"
     ]
    },
    {
     "name": "stderr",
     "output_type": "stream",
     "text": [
      "  6%|▌         | 181/2911 [00:55<13:14,  3.44it/s]"
     ]
    },
    {
     "name": "stdout",
     "output_type": "stream",
     "text": [
      "passed data have 51439 rows\n",
      "used data have 33808 rows after dropna\n",
      "Optimization terminated successfully.\n",
      "         Current function value: 0.235639\n",
      "         Iterations 8\n"
     ]
    },
    {
     "name": "stderr",
     "output_type": "stream",
     "text": [
      "  6%|▋         | 182/2911 [00:55<13:53,  3.27it/s]"
     ]
    },
    {
     "name": "stdout",
     "output_type": "stream",
     "text": [
      "passed data have 51439 rows\n",
      "used data have 33808 rows after dropna\n",
      "Optimization terminated successfully.\n",
      "         Current function value: 0.236122\n",
      "         Iterations 8\n"
     ]
    },
    {
     "name": "stderr",
     "output_type": "stream",
     "text": [
      "  6%|▋         | 183/2911 [00:55<13:26,  3.38it/s]"
     ]
    },
    {
     "name": "stdout",
     "output_type": "stream",
     "text": [
      "passed data have 51439 rows\n",
      "used data have 33808 rows after dropna\n",
      "Optimization terminated successfully.\n",
      "         Current function value: 0.236109\n",
      "         Iterations 8\n"
     ]
    },
    {
     "name": "stderr",
     "output_type": "stream",
     "text": [
      "  6%|▋         | 184/2911 [00:56<14:23,  3.16it/s]"
     ]
    },
    {
     "name": "stdout",
     "output_type": "stream",
     "text": [
      "passed data have 51439 rows\n",
      "used data have 33808 rows after dropna\n",
      "Optimization terminated successfully.\n",
      "         Current function value: 0.236128\n",
      "         Iterations 8\n"
     ]
    },
    {
     "name": "stderr",
     "output_type": "stream",
     "text": [
      "  6%|▋         | 185/2911 [00:56<15:23,  2.95it/s]"
     ]
    },
    {
     "name": "stdout",
     "output_type": "stream",
     "text": [
      "passed data have 51439 rows\n",
      "used data have 33808 rows after dropna\n",
      "Optimization terminated successfully.\n",
      "         Current function value: 0.236028\n",
      "         Iterations 8\n"
     ]
    },
    {
     "name": "stderr",
     "output_type": "stream",
     "text": [
      "  6%|▋         | 186/2911 [00:56<15:55,  2.85it/s]"
     ]
    },
    {
     "name": "stdout",
     "output_type": "stream",
     "text": [
      "passed data have 51439 rows\n",
      "used data have 33808 rows after dropna\n",
      "Optimization terminated successfully.\n",
      "         Current function value: 0.236128\n",
      "         Iterations 8\n"
     ]
    },
    {
     "name": "stderr",
     "output_type": "stream",
     "text": [
      "  6%|▋         | 188/2911 [00:57<15:56,  2.85it/s]"
     ]
    },
    {
     "name": "stdout",
     "output_type": "stream",
     "text": [
      "passed data have 51439 rows\n",
      "used data have 33808 rows after dropna\n",
      "Optimization terminated successfully.\n",
      "         Current function value: 0.236047\n",
      "         Iterations 8\n",
      "passed data have 51439 rows\n",
      "used data have 33808 rows after dropna\n"
     ]
    },
    {
     "name": "stderr",
     "output_type": "stream",
     "text": [
      "  6%|▋         | 189/2911 [00:57<13:47,  3.29it/s]"
     ]
    },
    {
     "name": "stdout",
     "output_type": "stream",
     "text": [
      "Optimization terminated successfully.\n",
      "         Current function value: 0.236041\n",
      "         Iterations 8\n",
      "passed data have 51439 rows\n",
      "used data have 33808 rows after dropna\n",
      "Optimization terminated successfully.\n",
      "         Current function value: 0.236076\n",
      "         Iterations 8\n"
     ]
    },
    {
     "name": "stderr",
     "output_type": "stream",
     "text": [
      "  7%|▋         | 191/2911 [00:58<11:47,  3.84it/s]"
     ]
    },
    {
     "name": "stdout",
     "output_type": "stream",
     "text": [
      "passed data have 51439 rows\n",
      "used data have 33808 rows after dropna\n",
      "Optimization terminated successfully.\n",
      "         Current function value: 0.236106\n",
      "         Iterations 8\n",
      "passed data have 51439 rows\n",
      "used data have 33808 rows after dropna\n",
      "Optimization terminated successfully.\n",
      "         Current function value: 0.236107\n",
      "         Iterations 8\n"
     ]
    },
    {
     "name": "stderr",
     "output_type": "stream",
     "text": [
      "  7%|▋         | 192/2911 [00:58<11:27,  3.95it/s]"
     ]
    },
    {
     "name": "stdout",
     "output_type": "stream",
     "text": [
      "passed data have 51439 rows\n",
      "used data have 33808 rows after dropna\n",
      "Optimization terminated successfully.\n",
      "         Current function value: 0.236127\n",
      "         Iterations 8\n"
     ]
    },
    {
     "name": "stderr",
     "output_type": "stream",
     "text": [
      "  7%|▋         | 193/2911 [00:58<11:19,  4.00it/s]"
     ]
    },
    {
     "name": "stdout",
     "output_type": "stream",
     "text": [
      "passed data have 51439 rows\n",
      "used data have 33808 rows after dropna\n",
      "Optimization terminated successfully.\n",
      "         Current function value: 0.236127\n",
      "         Iterations 8\n"
     ]
    },
    {
     "name": "stderr",
     "output_type": "stream",
     "text": [
      "  7%|▋         | 195/2911 [00:59<10:12,  4.44it/s]"
     ]
    },
    {
     "name": "stdout",
     "output_type": "stream",
     "text": [
      "passed data have 51439 rows\n",
      "used data have 33808 rows after dropna\n",
      "Optimization terminated successfully.\n",
      "         Current function value: 0.236072\n",
      "         Iterations 8\n",
      "passed data have 51439 rows\n",
      "used data have 33808 rows after dropna\n",
      "Optimization terminated successfully.\n",
      "         Current function value: 0.235933\n",
      "         Iterations 8\n"
     ]
    },
    {
     "name": "stderr",
     "output_type": "stream",
     "text": [
      "  7%|▋         | 196/2911 [00:59<13:35,  3.33it/s]"
     ]
    },
    {
     "name": "stdout",
     "output_type": "stream",
     "text": [
      "passed data have 51439 rows\n",
      "used data have 33808 rows after dropna\n",
      "Optimization terminated successfully.\n",
      "         Current function value: 0.236127\n",
      "         Iterations 8\n"
     ]
    },
    {
     "name": "stderr",
     "output_type": "stream",
     "text": [
      "  7%|▋         | 198/2911 [01:00<11:10,  4.04it/s]"
     ]
    },
    {
     "name": "stdout",
     "output_type": "stream",
     "text": [
      "passed data have 51439 rows\n",
      "used data have 33808 rows after dropna\n",
      "Optimization terminated successfully.\n",
      "         Current function value: 0.236016\n",
      "         Iterations 8\n",
      "passed data have 51439 rows\n",
      "used data have 33808 rows after dropna\n"
     ]
    },
    {
     "name": "stderr",
     "output_type": "stream",
     "text": [
      "  7%|▋         | 199/2911 [01:00<12:35,  3.59it/s]"
     ]
    },
    {
     "name": "stdout",
     "output_type": "stream",
     "text": [
      "Optimization terminated successfully.\n",
      "         Current function value: 0.236128\n",
      "         Iterations 8\n"
     ]
    },
    {
     "name": "stderr",
     "output_type": "stream",
     "text": [
      "  7%|▋         | 200/2911 [01:00<10:50,  4.17it/s]"
     ]
    },
    {
     "name": "stdout",
     "output_type": "stream",
     "text": [
      "passed data have 51439 rows\n",
      "used data have 33808 rows after dropna\n",
      "Optimization terminated successfully.\n",
      "         Current function value: 0.236114\n",
      "         Iterations 8\n",
      "passed data have 51439 rows\n",
      "used data have 33808 rows after dropna\n",
      "Optimization terminated successfully.\n",
      "         Current function value: 0.236113\n",
      "         Iterations 8\n"
     ]
    },
    {
     "name": "stderr",
     "output_type": "stream",
     "text": [
      "  7%|▋         | 201/2911 [01:00<10:36,  4.26it/s]"
     ]
    },
    {
     "name": "stdout",
     "output_type": "stream",
     "text": [
      "passed data have 51439 rows\n",
      "used data have 33808 rows after dropna\n",
      "Optimization terminated successfully.\n",
      "         Current function value: 0.236043\n",
      "         Iterations 8\n"
     ]
    },
    {
     "name": "stderr",
     "output_type": "stream",
     "text": [
      "  7%|▋         | 203/2911 [01:01<09:30,  4.75it/s]"
     ]
    },
    {
     "name": "stdout",
     "output_type": "stream",
     "text": [
      "passed data have 51439 rows\n",
      "used data have 33808 rows after dropna\n",
      "Optimization terminated successfully.\n",
      "         Current function value: 0.236094\n",
      "         Iterations 8\n",
      "passed data have 51439 rows\n",
      "used data have 33808 rows after dropna\n",
      "Optimization terminated successfully.\n",
      "         Current function value: 0.236123\n",
      "         Iterations 8\n"
     ]
    },
    {
     "name": "stderr",
     "output_type": "stream",
     "text": [
      "  7%|▋         | 204/2911 [01:01<08:36,  5.24it/s]"
     ]
    },
    {
     "name": "stdout",
     "output_type": "stream",
     "text": [
      "passed data have 51439 rows\n",
      "used data have 33808 rows after dropna\n",
      "Optimization terminated successfully.\n",
      "         Current function value: 0.235960\n",
      "         Iterations 8\n"
     ]
    },
    {
     "name": "stderr",
     "output_type": "stream",
     "text": [
      "  7%|▋         | 205/2911 [01:01<09:34,  4.71it/s]"
     ]
    },
    {
     "name": "stdout",
     "output_type": "stream",
     "text": [
      "passed data have 51439 rows\n",
      "used data have 33808 rows after dropna\n",
      "Optimization terminated successfully.\n",
      "         Current function value: 0.236076\n",
      "         Iterations 8\n"
     ]
    },
    {
     "name": "stderr",
     "output_type": "stream",
     "text": [
      "  7%|▋         | 206/2911 [01:02<11:28,  3.93it/s]"
     ]
    },
    {
     "name": "stdout",
     "output_type": "stream",
     "text": [
      "passed data have 51439 rows\n",
      "used data have 33808 rows after dropna\n",
      "Optimization terminated successfully.\n",
      "         Current function value: 0.236108\n",
      "         Iterations 8\n"
     ]
    },
    {
     "name": "stderr",
     "output_type": "stream",
     "text": [
      "  7%|▋         | 208/2911 [01:02<10:35,  4.25it/s]"
     ]
    },
    {
     "name": "stdout",
     "output_type": "stream",
     "text": [
      "passed data have 51439 rows\n",
      "used data have 33808 rows after dropna\n",
      "Optimization terminated successfully.\n",
      "         Current function value: 0.236038\n",
      "         Iterations 8\n",
      "passed data have 51439 rows\n",
      "used data have 33808 rows after dropna\n"
     ]
    },
    {
     "name": "stderr",
     "output_type": "stream",
     "text": [
      "  7%|▋         | 209/2911 [01:02<10:53,  4.13it/s]"
     ]
    },
    {
     "name": "stdout",
     "output_type": "stream",
     "text": [
      "Optimization terminated successfully.\n",
      "         Current function value: 0.235701\n",
      "         Iterations 8\n",
      "passed data have 51439 rows\n"
     ]
    },
    {
     "name": "stderr",
     "output_type": "stream",
     "text": [
      "  7%|▋         | 210/2911 [01:02<09:50,  4.58it/s]"
     ]
    },
    {
     "name": "stdout",
     "output_type": "stream",
     "text": [
      "used data have 33808 rows after dropna\n",
      "Optimization terminated successfully.\n",
      "         Current function value: 0.236127\n",
      "         Iterations 8\n",
      "passed data have 51439 rows\n",
      "used data have 33808 rows after dropna\n",
      "Optimization terminated successfully.\n",
      "         Current function value: 0.235966\n",
      "         Iterations 8\n"
     ]
    },
    {
     "name": "stderr",
     "output_type": "stream",
     "text": [
      "  7%|▋         | 211/2911 [01:03<11:24,  3.95it/s]"
     ]
    },
    {
     "name": "stdout",
     "output_type": "stream",
     "text": [
      "passed data have 51439 rows\n",
      "used data have 33808 rows after dropna\n",
      "Optimization terminated successfully.\n",
      "         Current function value: 0.235999\n",
      "         Iterations 8\n"
     ]
    },
    {
     "name": "stderr",
     "output_type": "stream",
     "text": [
      "  7%|▋         | 212/2911 [01:03<10:53,  4.13it/s]"
     ]
    },
    {
     "name": "stdout",
     "output_type": "stream",
     "text": [
      "passed data have 51439 rows\n",
      "used data have 33808 rows after dropna\n",
      "Optimization terminated successfully.\n",
      "         Current function value: 0.236021\n",
      "         Iterations 8\n"
     ]
    },
    {
     "name": "stderr",
     "output_type": "stream",
     "text": [
      "  7%|▋         | 213/2911 [01:03<11:53,  3.78it/s]"
     ]
    },
    {
     "name": "stdout",
     "output_type": "stream",
     "text": [
      "passed data have 51439 rows\n",
      "used data have 33808 rows after dropna\n",
      "Optimization terminated successfully.\n",
      "         Current function value: 0.236114\n",
      "         Iterations 8\n"
     ]
    },
    {
     "name": "stderr",
     "output_type": "stream",
     "text": [
      "  7%|▋         | 215/2911 [01:04<12:06,  3.71it/s]"
     ]
    },
    {
     "name": "stdout",
     "output_type": "stream",
     "text": [
      "passed data have 51439 rows\n",
      "used data have 33808 rows after dropna\n",
      "Optimization terminated successfully.\n",
      "         Current function value: 0.236125\n",
      "         Iterations 8\n",
      "passed data have 51439 rows\n",
      "used data have 33808 rows after dropna\n",
      "Optimization terminated successfully.\n",
      "         Current function value: 0.236078\n",
      "         Iterations 8\n"
     ]
    },
    {
     "name": "stderr",
     "output_type": "stream",
     "text": [
      "  7%|▋         | 216/2911 [01:04<10:29,  4.28it/s]"
     ]
    },
    {
     "name": "stdout",
     "output_type": "stream",
     "text": [
      "passed data have 51439 rows\n",
      "used data have 33808 rows after dropna\n",
      "Optimization terminated successfully.\n",
      "         Current function value: 0.236119\n",
      "         Iterations 8\n"
     ]
    },
    {
     "name": "stderr",
     "output_type": "stream",
     "text": [
      "  7%|▋         | 218/2911 [01:04<09:45,  4.60it/s]"
     ]
    },
    {
     "name": "stdout",
     "output_type": "stream",
     "text": [
      "passed data have 51439 rows\n",
      "used data have 33808 rows after dropna\n",
      "Optimization terminated successfully.\n",
      "         Current function value: 0.236123\n",
      "         Iterations 8\n",
      "passed data have 51439 rows\n",
      "used data have 33808 rows after dropna\n"
     ]
    },
    {
     "name": "stderr",
     "output_type": "stream",
     "text": [
      "  8%|▊         | 219/2911 [01:05<09:08,  4.91it/s]"
     ]
    },
    {
     "name": "stdout",
     "output_type": "stream",
     "text": [
      "Optimization terminated successfully.\n",
      "         Current function value: 0.236127\n",
      "         Iterations 8\n",
      "passed data have 51439 rows\n",
      "used data have 33808 rows after dropna\n",
      "Optimization terminated successfully.\n",
      "         Current function value: 0.236053\n",
      "         Iterations 8\n"
     ]
    },
    {
     "name": "stderr",
     "output_type": "stream",
     "text": [
      "  8%|▊         | 221/2911 [01:05<08:31,  5.25it/s]"
     ]
    },
    {
     "name": "stdout",
     "output_type": "stream",
     "text": [
      "passed data have 51439 rows\n",
      "used data have 33808 rows after dropna\n",
      "Optimization terminated successfully.\n",
      "         Current function value: 0.236118\n",
      "         Iterations 8\n",
      "passed data have 51439 rows\n",
      "used data have 33808 rows after dropna\n"
     ]
    },
    {
     "name": "stderr",
     "output_type": "stream",
     "text": [
      "  8%|▊         | 222/2911 [01:05<08:25,  5.32it/s]"
     ]
    },
    {
     "name": "stdout",
     "output_type": "stream",
     "text": [
      "Optimization terminated successfully.\n",
      "         Current function value: 0.236112\n",
      "         Iterations 8\n",
      "passed data have 51439 rows\n",
      "used data have 33808 rows after dropna\n",
      "Optimization terminated successfully.\n",
      "         Current function value: 0.235951\n",
      "         Iterations 8\n"
     ]
    },
    {
     "name": "stderr",
     "output_type": "stream",
     "text": [
      "  8%|▊         | 223/2911 [01:05<08:02,  5.57it/s]"
     ]
    },
    {
     "name": "stdout",
     "output_type": "stream",
     "text": [
      "passed data have 51439 rows\n",
      "used data have 33808 rows after dropna\n",
      "Optimization terminated successfully.\n",
      "         Current function value: 0.235998\n",
      "         Iterations 8\n"
     ]
    },
    {
     "name": "stderr",
     "output_type": "stream",
     "text": [
      "  8%|▊         | 224/2911 [01:06<08:28,  5.28it/s]"
     ]
    },
    {
     "name": "stdout",
     "output_type": "stream",
     "text": [
      "passed data have 51439 rows\n",
      "used data have 33808 rows after dropna\n",
      "Optimization terminated successfully.\n",
      "         Current function value: 0.236125\n",
      "         Iterations 8\n"
     ]
    },
    {
     "name": "stderr",
     "output_type": "stream",
     "text": [
      "  8%|▊         | 226/2911 [01:06<09:57,  4.49it/s]"
     ]
    },
    {
     "name": "stdout",
     "output_type": "stream",
     "text": [
      "passed data have 51439 rows\n",
      "used data have 33808 rows after dropna\n",
      "Optimization terminated successfully.\n",
      "         Current function value: 0.236111\n",
      "         Iterations 8\n",
      "passed data have 51439 rows\n",
      "used data have 33808 rows after dropna\n",
      "Optimization terminated successfully.\n",
      "         Current function value: 0.236051\n",
      "         Iterations 8\n"
     ]
    },
    {
     "name": "stderr",
     "output_type": "stream",
     "text": [
      "  8%|▊         | 227/2911 [01:07<15:40,  2.85it/s]"
     ]
    },
    {
     "name": "stdout",
     "output_type": "stream",
     "text": [
      "passed data have 51439 rows\n",
      "used data have 33808 rows after dropna\n",
      "Optimization terminated successfully.\n",
      "         Current function value: 0.236124\n",
      "         Iterations 8\n"
     ]
    },
    {
     "name": "stderr",
     "output_type": "stream",
     "text": [
      "  8%|▊         | 228/2911 [01:07<15:16,  2.93it/s]"
     ]
    },
    {
     "name": "stdout",
     "output_type": "stream",
     "text": [
      "passed data have 51439 rows\n",
      "used data have 33808 rows after dropna\n",
      "Optimization terminated successfully.\n",
      "         Current function value: 0.236127\n",
      "         Iterations 8\n"
     ]
    },
    {
     "name": "stderr",
     "output_type": "stream",
     "text": [
      "  8%|▊         | 230/2911 [01:08<12:52,  3.47it/s]"
     ]
    },
    {
     "name": "stdout",
     "output_type": "stream",
     "text": [
      "passed data have 51439 rows\n",
      "used data have 33808 rows after dropna\n",
      "Optimization terminated successfully.\n",
      "         Current function value: 0.236108\n",
      "         Iterations 8\n",
      "passed data have 51439 rows\n",
      "used data have 33808 rows after dropna\n",
      "Optimization terminated successfully.\n",
      "         Current function value: 0.236125\n",
      "         Iterations 8\n"
     ]
    },
    {
     "name": "stderr",
     "output_type": "stream",
     "text": [
      "  8%|▊         | 231/2911 [01:08<10:44,  4.16it/s]"
     ]
    },
    {
     "name": "stdout",
     "output_type": "stream",
     "text": [
      "passed data have 51439 rows\n",
      "used data have 33808 rows after dropna\n",
      "Optimization terminated successfully.\n",
      "         Current function value: 0.236121\n",
      "         Iterations 8\n"
     ]
    },
    {
     "name": "stderr",
     "output_type": "stream",
     "text": [
      "  8%|▊         | 233/2911 [01:08<11:01,  4.05it/s]"
     ]
    },
    {
     "name": "stdout",
     "output_type": "stream",
     "text": [
      "passed data have 51439 rows\n",
      "used data have 33808 rows after dropna\n",
      "Optimization terminated successfully.\n",
      "         Current function value: 0.235989\n",
      "         Iterations 8\n",
      "passed data have 51439 rows\n",
      "used data have 33808 rows after dropna\n",
      "Optimization terminated successfully.\n",
      "         Current function value: 0.236015\n",
      "         Iterations 8\n"
     ]
    },
    {
     "name": "stderr",
     "output_type": "stream",
     "text": [
      "  8%|▊         | 234/2911 [01:08<09:36,  4.64it/s]"
     ]
    },
    {
     "name": "stdout",
     "output_type": "stream",
     "text": [
      "passed data have 51439 rows\n",
      "used data have 33808 rows after dropna\n",
      "Optimization terminated successfully.\n",
      "         Current function value: 0.236121\n",
      "         Iterations 8\n"
     ]
    },
    {
     "name": "stderr",
     "output_type": "stream",
     "text": [
      "  8%|▊         | 236/2911 [01:09<09:38,  4.62it/s]"
     ]
    },
    {
     "name": "stdout",
     "output_type": "stream",
     "text": [
      "passed data have 51439 rows\n",
      "used data have 33808 rows after dropna\n",
      "Optimization terminated successfully.\n",
      "         Current function value: 0.236090\n",
      "         Iterations 8\n",
      "passed data have 51439 rows\n"
     ]
    },
    {
     "name": "stderr",
     "output_type": "stream",
     "text": [
      "  8%|▊         | 237/2911 [01:09<09:04,  4.91it/s]"
     ]
    },
    {
     "name": "stdout",
     "output_type": "stream",
     "text": [
      "used data have 33808 rows after dropna\n",
      "Optimization terminated successfully.\n",
      "         Current function value: 0.236110\n",
      "         Iterations 8\n",
      "passed data have 51439 rows\n",
      "used data have 33808 rows after dropna\n",
      "Optimization terminated successfully.\n",
      "         Current function value: 0.236027\n",
      "         Iterations 8\n"
     ]
    },
    {
     "name": "stderr",
     "output_type": "stream",
     "text": [
      "  8%|▊         | 239/2911 [01:09<09:16,  4.80it/s]"
     ]
    },
    {
     "name": "stdout",
     "output_type": "stream",
     "text": [
      "passed data have 51439 rows\n",
      "used data have 33808 rows after dropna\n",
      "Optimization terminated successfully.\n",
      "         Current function value: 0.236128\n",
      "         Iterations 8\n",
      "passed data have 51439 rows\n",
      "used data have 33808 rows after dropna\n"
     ]
    },
    {
     "name": "stderr",
     "output_type": "stream",
     "text": [
      "  8%|▊         | 240/2911 [01:10<08:11,  5.44it/s]"
     ]
    },
    {
     "name": "stdout",
     "output_type": "stream",
     "text": [
      "Optimization terminated successfully.\n",
      "         Current function value: 0.236118\n",
      "         Iterations 8\n",
      "passed data have 51439 rows\n",
      "used data have 33808 rows after dropna\n",
      "Optimization terminated successfully.\n",
      "         Current function value: 0.236117\n",
      "         Iterations 8\n"
     ]
    },
    {
     "name": "stderr",
     "output_type": "stream",
     "text": [
      "  8%|▊         | 242/2911 [01:10<07:46,  5.73it/s]"
     ]
    },
    {
     "name": "stdout",
     "output_type": "stream",
     "text": [
      "passed data have 51439 rows\n",
      "used data have 33808 rows after dropna\n",
      "Optimization terminated successfully.\n",
      "         Current function value: 0.235992\n",
      "         Iterations 8\n",
      "passed data have 51439 rows\n",
      "used data have 33808 rows after dropna\n",
      "Optimization terminated successfully.\n",
      "         Current function value: 0.236118\n",
      "         Iterations 8\n"
     ]
    },
    {
     "name": "stderr",
     "output_type": "stream",
     "text": [
      "  8%|▊         | 244/2911 [01:10<09:42,  4.58it/s]"
     ]
    },
    {
     "name": "stdout",
     "output_type": "stream",
     "text": [
      "passed data have 51439 rows\n",
      "used data have 33808 rows after dropna\n",
      "Optimization terminated successfully.\n",
      "         Current function value: 0.236127\n",
      "         Iterations 8\n",
      "passed data have 51439 rows\n",
      "used data have 33808 rows after dropna\n"
     ]
    },
    {
     "name": "stderr",
     "output_type": "stream",
     "text": [
      "  8%|▊         | 245/2911 [01:11<09:29,  4.68it/s]"
     ]
    },
    {
     "name": "stdout",
     "output_type": "stream",
     "text": [
      "Optimization terminated successfully.\n",
      "         Current function value: 0.236105\n",
      "         Iterations 8\n",
      "passed data have 51439 rows\n",
      "used data have 33808 rows after dropna\n",
      "Optimization terminated successfully.\n",
      "         Current function value: 0.236126\n",
      "         Iterations 8\n"
     ]
    },
    {
     "name": "stderr",
     "output_type": "stream",
     "text": [
      "  8%|▊         | 247/2911 [01:11<08:41,  5.11it/s]"
     ]
    },
    {
     "name": "stdout",
     "output_type": "stream",
     "text": [
      "passed data have 51439 rows\n",
      "used data have 33808 rows after dropna\n",
      "Optimization terminated successfully.\n",
      "         Current function value: 0.236128\n",
      "         Iterations 8\n",
      "passed data have 51439 rows\n",
      "used data have 33808 rows after dropna\n"
     ]
    },
    {
     "name": "stderr",
     "output_type": "stream",
     "text": [
      "  9%|▊         | 248/2911 [01:11<09:09,  4.85it/s]"
     ]
    },
    {
     "name": "stdout",
     "output_type": "stream",
     "text": [
      "Optimization terminated successfully.\n",
      "         Current function value: 0.236041\n",
      "         Iterations 8\n",
      "passed data have 51439 rows\n",
      "used data have 33800 rows after dropna\n",
      "Optimization terminated successfully.\n",
      "         Current function value: 0.237681\n",
      "         Iterations 8\n"
     ]
    },
    {
     "name": "stderr",
     "output_type": "stream",
     "text": [
      "  9%|▊         | 250/2911 [01:12<10:03,  4.41it/s]"
     ]
    },
    {
     "name": "stdout",
     "output_type": "stream",
     "text": [
      "passed data have 51439 rows\n",
      "used data have 33804 rows after dropna\n",
      "Optimization terminated successfully.\n",
      "         Current function value: 0.237781\n",
      "         Iterations 8\n",
      "passed data have 51439 rows\n"
     ]
    },
    {
     "name": "stderr",
     "output_type": "stream",
     "text": [
      "  9%|▊         | 251/2911 [01:12<09:08,  4.85it/s]"
     ]
    },
    {
     "name": "stdout",
     "output_type": "stream",
     "text": [
      "used data have 33865 rows after dropna\n",
      "Optimization terminated successfully.\n",
      "         Current function value: 0.235392\n",
      "         Iterations 8\n",
      "passed data have 51439 rows\n",
      "used data have 33812 rows after dropna\n"
     ]
    },
    {
     "name": "stderr",
     "output_type": "stream",
     "text": [
      "  9%|▊         | 252/2911 [01:12<08:54,  4.97it/s]"
     ]
    },
    {
     "name": "stdout",
     "output_type": "stream",
     "text": [
      "Optimization terminated successfully.\n",
      "         Current function value: 0.237839\n",
      "         Iterations 8\n",
      "passed data have 51439 rows\n",
      "used data have 33839 rows after dropna\n",
      "Optimization terminated successfully.\n",
      "         Current function value: 0.237045\n",
      "         Iterations 8\n"
     ]
    },
    {
     "name": "stderr",
     "output_type": "stream",
     "text": [
      "  9%|▊         | 254/2911 [01:13<10:15,  4.32it/s]"
     ]
    },
    {
     "name": "stdout",
     "output_type": "stream",
     "text": [
      "passed data have 51439 rows\n",
      "used data have 33839 rows after dropna\n",
      "Optimization terminated successfully.\n",
      "         Current function value: 0.237054\n",
      "         Iterations 8\n",
      "passed data have 51439 rows\n",
      "used data have 33839 rows after dropna\n",
      "Optimization terminated successfully.\n",
      "         Current function value: 0.237061\n",
      "         Iterations 8\n"
     ]
    },
    {
     "name": "stderr",
     "output_type": "stream",
     "text": [
      "  9%|▉         | 256/2911 [01:13<08:17,  5.34it/s]"
     ]
    },
    {
     "name": "stdout",
     "output_type": "stream",
     "text": [
      "passed data have 51439 rows\n",
      "used data have 33839 rows after dropna\n",
      "Optimization terminated successfully.\n",
      "         Current function value: 0.237038\n",
      "         Iterations 8\n",
      "passed data have 51439 rows\n",
      "used data have 33839 rows after dropna\n"
     ]
    },
    {
     "name": "stderr",
     "output_type": "stream",
     "text": [
      "  9%|▉         | 257/2911 [01:13<07:47,  5.68it/s]"
     ]
    },
    {
     "name": "stdout",
     "output_type": "stream",
     "text": [
      "Optimization terminated successfully.\n",
      "         Current function value: 0.237063\n",
      "         Iterations 8\n",
      "passed data have 51439 rows\n",
      "used data have 33839 rows after dropna\n",
      "Optimization terminated successfully.\n",
      "         Current function value: 0.237004\n",
      "         Iterations 8\n"
     ]
    },
    {
     "name": "stderr",
     "output_type": "stream",
     "text": [
      "  9%|▉         | 259/2911 [01:14<08:06,  5.45it/s]"
     ]
    },
    {
     "name": "stdout",
     "output_type": "stream",
     "text": [
      "passed data have 51439 rows\n",
      "used data have 33839 rows after dropna\n",
      "Optimization terminated successfully.\n",
      "         Current function value: 0.237065\n",
      "         Iterations 8\n",
      "passed data have 51439 rows\n",
      "used data have 33839 rows after dropna\n"
     ]
    },
    {
     "name": "stderr",
     "output_type": "stream",
     "text": [
      "  9%|▉         | 260/2911 [01:14<08:46,  5.04it/s]"
     ]
    },
    {
     "name": "stdout",
     "output_type": "stream",
     "text": [
      "Optimization terminated successfully.\n",
      "         Current function value: 0.237060\n",
      "         Iterations 8\n",
      "passed data have 51439 rows\n",
      "used data have 33839 rows after dropna\n"
     ]
    },
    {
     "name": "stderr",
     "output_type": "stream",
     "text": [
      "  9%|▉         | 261/2911 [01:14<09:02,  4.89it/s]"
     ]
    },
    {
     "name": "stdout",
     "output_type": "stream",
     "text": [
      "Optimization terminated successfully.\n",
      "         Current function value: 0.237067\n",
      "         Iterations 8\n",
      "passed data have 51439 rows\n",
      "used data have 33839 rows after dropna\n",
      "Optimization terminated successfully.\n",
      "         Current function value: 0.236943\n",
      "         Iterations 8\n"
     ]
    },
    {
     "name": "stderr",
     "output_type": "stream",
     "text": [
      "  9%|▉         | 263/2911 [01:14<07:40,  5.75it/s]"
     ]
    },
    {
     "name": "stdout",
     "output_type": "stream",
     "text": [
      "passed data have 51439 rows\n",
      "used data have 33839 rows after dropna\n",
      "Optimization terminated successfully.\n",
      "         Current function value: 0.237064\n",
      "         Iterations 8\n",
      "passed data have 51439 rows\n",
      "used data have 33839 rows after dropna\n",
      "Optimization terminated successfully.\n",
      "         Current function value: 0.237065\n",
      "         Iterations 8\n"
     ]
    },
    {
     "name": "stderr",
     "output_type": "stream",
     "text": [
      "  9%|▉         | 264/2911 [01:15<08:05,  5.45it/s]"
     ]
    },
    {
     "name": "stdout",
     "output_type": "stream",
     "text": [
      "passed data have 51439 rows\n",
      "used data have 33839 rows after dropna\n"
     ]
    },
    {
     "name": "stderr",
     "output_type": "stream",
     "text": [
      "  9%|▉         | 265/2911 [01:15<09:53,  4.46it/s]"
     ]
    },
    {
     "name": "stdout",
     "output_type": "stream",
     "text": [
      "Optimization terminated successfully.\n",
      "         Current function value: 0.237022\n",
      "         Iterations 8\n",
      "passed data have 51439 rows\n",
      "used data have 33839 rows after dropna\n",
      "Optimization terminated successfully.\n",
      "         Current function value: 0.237018\n",
      "         Iterations 8\n"
     ]
    },
    {
     "name": "stderr",
     "output_type": "stream",
     "text": [
      "  9%|▉         | 267/2911 [01:15<08:12,  5.37it/s]"
     ]
    },
    {
     "name": "stdout",
     "output_type": "stream",
     "text": [
      "passed data have 51439 rows\n",
      "used data have 33839 rows after dropna\n",
      "Optimization terminated successfully.\n",
      "         Current function value: 0.237043\n",
      "         Iterations 8\n",
      "passed data have 51439 rows\n",
      "used data have 33839 rows after dropna\n",
      "Optimization terminated successfully.\n",
      "         Current function value: 0.237041\n",
      "         Iterations 8\n"
     ]
    },
    {
     "name": "stderr",
     "output_type": "stream",
     "text": [
      "  9%|▉         | 268/2911 [01:15<10:13,  4.31it/s]"
     ]
    },
    {
     "name": "stdout",
     "output_type": "stream",
     "text": [
      "passed data have 51439 rows\n",
      "used data have 33839 rows after dropna\n",
      "Optimization terminated successfully.\n",
      "         Current function value: 0.237038\n",
      "         Iterations 8\n"
     ]
    },
    {
     "name": "stderr",
     "output_type": "stream",
     "text": [
      "  9%|▉         | 269/2911 [01:16<10:33,  4.17it/s]"
     ]
    },
    {
     "name": "stdout",
     "output_type": "stream",
     "text": [
      "passed data have 51439 rows\n",
      "used data have 33839 rows after dropna\n",
      "Optimization terminated successfully.\n",
      "         Current function value: 0.237045\n",
      "         Iterations 8\n"
     ]
    },
    {
     "name": "stderr",
     "output_type": "stream",
     "text": [
      "  9%|▉         | 271/2911 [01:16<09:11,  4.78it/s]"
     ]
    },
    {
     "name": "stdout",
     "output_type": "stream",
     "text": [
      "passed data have 51439 rows\n",
      "used data have 33839 rows after dropna\n",
      "Optimization terminated successfully.\n",
      "         Current function value: 0.237061\n",
      "         Iterations 8\n",
      "passed data have 51439 rows\n",
      "used data have 33839 rows after dropna\n"
     ]
    },
    {
     "name": "stderr",
     "output_type": "stream",
     "text": [
      "  9%|▉         | 272/2911 [01:16<08:29,  5.18it/s]"
     ]
    },
    {
     "name": "stdout",
     "output_type": "stream",
     "text": [
      "Optimization terminated successfully.\n",
      "         Current function value: 0.237063\n",
      "         Iterations 8\n",
      "passed data have 51439 rows\n",
      "used data have 33839 rows after dropna\n",
      "Optimization terminated successfully.\n",
      "         Current function value: 0.236958\n",
      "         Iterations 8\n"
     ]
    },
    {
     "name": "stderr",
     "output_type": "stream",
     "text": [
      "  9%|▉         | 274/2911 [01:17<08:05,  5.43it/s]"
     ]
    },
    {
     "name": "stdout",
     "output_type": "stream",
     "text": [
      "passed data have 51439 rows\n",
      "used data have 33839 rows after dropna\n",
      "Optimization terminated successfully.\n",
      "         Current function value: 0.237063\n",
      "         Iterations 8\n",
      "passed data have 51439 rows\n",
      "used data have 33839 rows after dropna\n",
      "Optimization terminated successfully.\n",
      "         Current function value: 0.237063\n",
      "         Iterations 8\n"
     ]
    },
    {
     "name": "stderr",
     "output_type": "stream",
     "text": [
      "  9%|▉         | 275/2911 [01:17<10:51,  4.05it/s]"
     ]
    },
    {
     "name": "stdout",
     "output_type": "stream",
     "text": [
      "passed data have 51439 rows\n",
      "used data have 33839 rows after dropna\n",
      "Optimization terminated successfully.\n",
      "         Current function value: 0.237060\n",
      "         Iterations 8\n"
     ]
    },
    {
     "name": "stderr",
     "output_type": "stream",
     "text": [
      "  9%|▉         | 276/2911 [01:17<12:09,  3.61it/s]"
     ]
    }
   ],
   "source": [
    "# res_dict = {}\n",
    "from ppp_prediction.corr import cal_corr\n",
    "\n",
    "res = []\n",
    "for disease_name in disease_list:\n",
    "    cofounders = RF\n",
    "    E = disease_name\n",
    "    protein_cols = proteomics\n",
    "\n",
    "    single_association_proteins_result_df = cal_corr(\n",
    "        data, protein_cols, y=E, cofounders=cofounders, model_type=\"logit\"\n",
    "    )  # 使用原始没有imputated版本\n",
    "    single_association_proteins_result_df[\"disease\"] = E\n",
    "    single_association_proteins_result_df.to_csv(\n",
    "        f\"{association_analysis_output_path}/{E}.csv\", index=False\n",
    "    )\n",
    "    print(f\"save {E}.csv\")\n",
    "    res.append(single_association_proteins_result_df)\n",
    "res_df = pd.concat(res)"
   ]
  },
  {
   "cell_type": "code",
   "execution_count": null,
   "metadata": {},
   "outputs": [],
   "source": []
  }
 ],
 "metadata": {
  "kernelspec": {
   "display_name": "rapids-24.02",
   "language": "python",
   "name": "python3"
  },
  "language_info": {
   "codemirror_mode": {
    "name": "ipython",
    "version": 3
   },
   "file_extension": ".py",
   "mimetype": "text/x-python",
   "name": "python",
   "nbconvert_exporter": "python",
   "pygments_lexer": "ipython3",
   "version": "3.10.14"
  }
 },
 "nbformat": 4,
 "nbformat_minor": 2
}
