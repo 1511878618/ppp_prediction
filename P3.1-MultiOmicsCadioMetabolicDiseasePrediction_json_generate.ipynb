{
 "cells": [
  {
   "cell_type": "code",
   "execution_count": 2,
   "metadata": {},
   "outputs": [],
   "source": [
    "import json\n",
    "import pandas as pd\n",
    "\n",
    "ukbData = \"MulitOmicsDisease/\""
   ]
  },
  {
   "cell_type": "markdown",
   "metadata": {},
   "source": [
    "## JSON生成"
   ]
  },
  {
   "cell_type": "code",
   "execution_count": 3,
   "metadata": {},
   "outputs": [],
   "source": [
    "ukbData = \"MulitOmicsDisease/\"\n",
    "\n",
    "from pathlib import Path\n",
    "\n",
    "json_save_folder = \"MulitOmicsDisease/jsonData\"\n",
    "Path(json_save_folder).mkdir(parents=True, exist_ok=True)"
   ]
  },
  {
   "cell_type": "code",
   "execution_count": null,
   "metadata": {},
   "outputs": [],
   "source": []
  },
  {
   "cell_type": "code",
   "execution_count": 9,
   "metadata": {},
   "outputs": [],
   "source": [
    "n_bootstrap = 500\n",
    "\n",
    "# defined in the json\n",
    "for disease_file_name in Path(\"MulitOmicsDisease/disease\").rglob(\"*\"):\n",
    "    disease_file_name = disease_file_name.name\n",
    "    ProtTrainDir = f\"{ukbData}/traindata/Prot.feather\"\n",
    "    MetaTrainDir = f\"{ukbData}/traindata/Meta.feather\"\n",
    "    RFTrainDir = f\"{ukbData}/traindata/RF.feather\"\n",
    "    heldOutDataDir = f\"{ukbData}/traindata/heldout.feather\"\n",
    "\n",
    "    phenoDataDir = f\"{ukbData}/omicsData/phenos.feather\"\n",
    "    diseaseDataDir = f\"{ukbData}/disease/{disease_file_name}\"\n",
    "\n",
    "    AgeSex = [\n",
    "        \"age\",\n",
    "        \"sex\",\n",
    "    ]\n",
    "    cov = [\"age\", \"sex\"]\n",
    "\n",
    "    params_json = {\n",
    "        \"omicsData\": {\n",
    "            \"Prot\": {\n",
    "                \"name\": \"Prot\",\n",
    "                \"path\": ProtTrainDir,\n",
    "                \"feature\": None,\n",
    "            },\n",
    "            \"Meta\": {\n",
    "                \"name\": \"Meta\",\n",
    "                \"path\": MetaTrainDir,\n",
    "                \"feature\": None,\n",
    "            },\n",
    "            \"AgeSex\": {\n",
    "                \"name\": \"AgeSex\",\n",
    "                \"path\": RFTrainDir,\n",
    "                \"feature\": None,  # None is ok\n",
    "            },\n",
    "        },\n",
    "        \"heldOutData\": {\n",
    "            \"name\": \"heldOut\",\n",
    "            \"path\": heldOutDataDir,\n",
    "        },\n",
    "        \"diseaseData\": {\n",
    "            \"path\": diseaseDataDir,\n",
    "            \"label\": \"event\",\n",
    "            \"date\": \"date\",\n",
    "        },\n",
    "        \"phenosData\": {\n",
    "            \"name\": \"phenos\",\n",
    "            \"path\": phenoDataDir,\n",
    "        },\n",
    "        \"modelConfig\": {\n",
    "            \"Prot\": {\n",
    "                \"name\": \"Prot\",  # name of the model for save\n",
    "                \"model\": [\"lasso\"],  # not work now\n",
    "                \"feature\": None,  # feature to use, None is all\n",
    "                \"cov\": cov,  # covariate to use\n",
    "                \"cv\": 10,  # cv\n",
    "                \"n_bootstrap\": n_bootstrap,\n",
    "            },\n",
    "            \"Meta\": {\n",
    "                \"name\": \"Meta\",\n",
    "                \"model\": [\"lasso\"],\n",
    "                \"feature\": None,\n",
    "                \"cov\": cov,\n",
    "                \"cv\": 10,\n",
    "                \"n_bootstrap\": n_bootstrap,\n",
    "            },\n",
    "            \"AgeSex\": {\n",
    "                \"name\": \"AgeSex\",\n",
    "                \"model\": [\"lasso\"],\n",
    "                \"feature\": AgeSex,\n",
    "                \"cov\": None,\n",
    "                \"cv\": 10,\n",
    "                \"n_bootstrap\": None,\n",
    "            },\n",
    "        },\n",
    "    }\n",
    "    json.dump(\n",
    "        params_json,\n",
    "        open(f\"{json_save_folder}/{Path(disease_file_name).stem}.json\", \"w\"),\n",
    "        indent=4,\n",
    "    )"
   ]
  },
  {
   "cell_type": "code",
   "execution_count": null,
   "metadata": {},
   "outputs": [],
   "source": []
  }
 ],
 "metadata": {
  "kernelspec": {
   "display_name": "rapids-24.02",
   "language": "python",
   "name": "python3"
  },
  "language_info": {
   "codemirror_mode": {
    "name": "ipython",
    "version": 3
   },
   "file_extension": ".py",
   "mimetype": "text/x-python",
   "name": "python",
   "nbconvert_exporter": "python",
   "pygments_lexer": "ipython3",
   "version": "3.10.14"
  }
 },
 "nbformat": 4,
 "nbformat_minor": 2
}
