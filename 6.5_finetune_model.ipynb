{
 "cells": [
  {
   "cell_type": "code",
   "execution_count": 1,
   "metadata": {},
   "outputs": [
    {
     "name": "stderr",
     "output_type": "stream",
     "text": [
      "2024-04-18 15:33:30.512000: I tensorflow/core/platform/cpu_feature_guard.cc:210] This TensorFlow binary is optimized to use available CPU instructions in performance-critical operations.\n",
      "To enable the following instructions: AVX2 FMA, in other operations, rebuild TensorFlow with the appropriate compiler flags.\n",
      "2024-04-18 15:33:31.890986: W tensorflow/compiler/tf2tensorrt/utils/py_utils.cc:38] TF-TRT Warning: Could not find TensorRT\n",
      "/home/xutingfeng/ukb/project/ppp_prediction/ppp_prediction/geneformer/perturber_utils.py:153: SyntaxWarning: invalid escape sequence '\\('\n",
      "  return int(re.split(\"\\(|,\", str(model.bert.embeddings.position_embeddings))[1])\n"
     ]
    }
   ],
   "source": [
    "import ppp_prediction.geneformer.perturber_utils as pu"
   ]
  },
  {
   "cell_type": "code",
   "execution_count": 3,
   "metadata": {},
   "outputs": [
    {
     "data": {
      "text/plain": [
       "BertForSequenceClassification(\n",
       "  (bert): BertModel(\n",
       "    (embeddings): BertEmbeddings(\n",
       "      (word_embeddings): Embedding(25426, 256, padding_idx=0)\n",
       "      (position_embeddings): Embedding(2048, 256)\n",
       "      (token_type_embeddings): Embedding(2, 256)\n",
       "      (LayerNorm): LayerNorm((256,), eps=1e-12, elementwise_affine=True)\n",
       "      (dropout): Dropout(p=0.02, inplace=False)\n",
       "    )\n",
       "    (encoder): BertEncoder(\n",
       "      (layer): ModuleList(\n",
       "        (0-5): 6 x BertLayer(\n",
       "          (attention): BertAttention(\n",
       "            (self): BertSelfAttention(\n",
       "              (query): Linear(in_features=256, out_features=256, bias=True)\n",
       "              (key): Linear(in_features=256, out_features=256, bias=True)\n",
       "              (value): Linear(in_features=256, out_features=256, bias=True)\n",
       "              (dropout): Dropout(p=0.02, inplace=False)\n",
       "            )\n",
       "            (output): BertSelfOutput(\n",
       "              (dense): Linear(in_features=256, out_features=256, bias=True)\n",
       "              (LayerNorm): LayerNorm((256,), eps=1e-12, elementwise_affine=True)\n",
       "              (dropout): Dropout(p=0.02, inplace=False)\n",
       "            )\n",
       "          )\n",
       "          (intermediate): BertIntermediate(\n",
       "            (dense): Linear(in_features=256, out_features=512, bias=True)\n",
       "            (intermediate_act_fn): ReLU()\n",
       "          )\n",
       "          (output): BertOutput(\n",
       "            (dense): Linear(in_features=512, out_features=256, bias=True)\n",
       "            (LayerNorm): LayerNorm((256,), eps=1e-12, elementwise_affine=True)\n",
       "            (dropout): Dropout(p=0.02, inplace=False)\n",
       "          )\n",
       "        )\n",
       "      )\n",
       "    )\n",
       "    (pooler): BertPooler(\n",
       "      (dense): Linear(in_features=256, out_features=256, bias=True)\n",
       "      (activation): Tanh()\n",
       "    )\n",
       "  )\n",
       "  (dropout): Dropout(p=0.02, inplace=False)\n",
       "  (classifier): Linear(in_features=256, out_features=2, bias=True)\n",
       ")"
      ]
     },
     "execution_count": 3,
     "metadata": {},
     "output_type": "execute_result"
    }
   ],
   "source": [
    "model = pu.load_model(\"CellClassifier\", 2, \"finetune_geneformer\", \"eval\")\n",
    "model"
   ]
  },
  {
   "cell_type": "code",
   "execution_count": 4,
   "metadata": {},
   "outputs": [],
   "source": [
    "import datasets\n",
    "\n",
    "test_dataset = datasets.load_from_disk(\"tmp/imputed_200/test\")"
   ]
  },
  {
   "cell_type": "code",
   "execution_count": 19,
   "metadata": {},
   "outputs": [],
   "source": [
    "from torch.utils.data import DataLoader\n",
    "\n",
    "test_dataloader = DataLoader(\n",
    "    test_dataset.select_columns([\"input_ids\", \"eid\"]).with_format(\"torch\"),\n",
    "    batch_size=32,\n",
    ")"
   ]
  },
  {
   "cell_type": "code",
   "execution_count": 31,
   "metadata": {},
   "outputs": [],
   "source": [
    "import torch\n",
    "\n",
    "model.eval()\n",
    "pred = []\n",
    "\n",
    "with torch.no_grad():\n",
    "\n",
    "    for batch in test_dataloader:\n",
    "        o = model(batch[\"input_ids\"].cuda())\n",
    "        o = torch.nn.functional.softmax(o.logits, dim=-1)[:, 1]\n",
    "        pred.append(o.cpu())\n",
    "\n",
    "pred = torch.cat(pred).numpy()"
   ]
  },
  {
   "cell_type": "code",
   "execution_count": 35,
   "metadata": {},
   "outputs": [
    {
     "data": {
      "text/html": [
       "<div>\n",
       "<style scoped>\n",
       "    .dataframe tbody tr th:only-of-type {\n",
       "        vertical-align: middle;\n",
       "    }\n",
       "\n",
       "    .dataframe tbody tr th {\n",
       "        vertical-align: top;\n",
       "    }\n",
       "\n",
       "    .dataframe thead th {\n",
       "        text-align: right;\n",
       "    }\n",
       "</style>\n",
       "<table border=\"1\" class=\"dataframe\">\n",
       "  <thead>\n",
       "    <tr style=\"text-align: right;\">\n",
       "      <th></th>\n",
       "      <th>eid</th>\n",
       "      <th>incident_cad</th>\n",
       "      <th>pred</th>\n",
       "    </tr>\n",
       "  </thead>\n",
       "  <tbody>\n",
       "    <tr>\n",
       "      <th>0</th>\n",
       "      <td>2883530.0</td>\n",
       "      <td>0</td>\n",
       "      <td>0.013248</td>\n",
       "    </tr>\n",
       "    <tr>\n",
       "      <th>1</th>\n",
       "      <td>2867444.0</td>\n",
       "      <td>0</td>\n",
       "      <td>0.037029</td>\n",
       "    </tr>\n",
       "    <tr>\n",
       "      <th>2</th>\n",
       "      <td>5869793.0</td>\n",
       "      <td>0</td>\n",
       "      <td>0.042655</td>\n",
       "    </tr>\n",
       "    <tr>\n",
       "      <th>3</th>\n",
       "      <td>4880838.0</td>\n",
       "      <td>0</td>\n",
       "      <td>0.037637</td>\n",
       "    </tr>\n",
       "    <tr>\n",
       "      <th>4</th>\n",
       "      <td>3987428.0</td>\n",
       "      <td>0</td>\n",
       "      <td>0.032466</td>\n",
       "    </tr>\n",
       "    <tr>\n",
       "      <th>...</th>\n",
       "      <td>...</td>\n",
       "      <td>...</td>\n",
       "      <td>...</td>\n",
       "    </tr>\n",
       "    <tr>\n",
       "      <th>15427</th>\n",
       "      <td>5241912.0</td>\n",
       "      <td>1</td>\n",
       "      <td>0.084166</td>\n",
       "    </tr>\n",
       "    <tr>\n",
       "      <th>15428</th>\n",
       "      <td>3851862.0</td>\n",
       "      <td>1</td>\n",
       "      <td>0.011440</td>\n",
       "    </tr>\n",
       "    <tr>\n",
       "      <th>15429</th>\n",
       "      <td>1144512.0</td>\n",
       "      <td>0</td>\n",
       "      <td>0.055816</td>\n",
       "    </tr>\n",
       "    <tr>\n",
       "      <th>15430</th>\n",
       "      <td>1177099.0</td>\n",
       "      <td>0</td>\n",
       "      <td>0.031597</td>\n",
       "    </tr>\n",
       "    <tr>\n",
       "      <th>15431</th>\n",
       "      <td>3881441.0</td>\n",
       "      <td>0</td>\n",
       "      <td>0.021634</td>\n",
       "    </tr>\n",
       "  </tbody>\n",
       "</table>\n",
       "<p>15432 rows × 3 columns</p>\n",
       "</div>"
      ],
      "text/plain": [
       "             eid  incident_cad      pred\n",
       "0      2883530.0             0  0.013248\n",
       "1      2867444.0             0  0.037029\n",
       "2      5869793.0             0  0.042655\n",
       "3      4880838.0             0  0.037637\n",
       "4      3987428.0             0  0.032466\n",
       "...          ...           ...       ...\n",
       "15427  5241912.0             1  0.084166\n",
       "15428  3851862.0             1  0.011440\n",
       "15429  1144512.0             0  0.055816\n",
       "15430  1177099.0             0  0.031597\n",
       "15431  3881441.0             0  0.021634\n",
       "\n",
       "[15432 rows x 3 columns]"
      ]
     },
     "execution_count": 35,
     "metadata": {},
     "output_type": "execute_result"
    }
   ],
   "source": [
    "test_score = (\n",
    "    test_dataset.select_columns([\"eid\", \"incident_cad\"]).to_pandas().assign(pred=pred)\n",
    ")\n",
    "test_score"
   ]
  },
  {
   "cell_type": "code",
   "execution_count": 36,
   "metadata": {},
   "outputs": [
    {
     "data": {
      "text/plain": [
       "<Axes: xlabel='pred', ylabel='Density'>"
      ]
     },
     "execution_count": 36,
     "metadata": {},
     "output_type": "execute_result"
    },
    {
     "data": {
      "image/png": "[encoded data removed]",
      "text/plain": [
       "<Figure size 432x288 with 1 Axes>"
      ]
     },
     "metadata": {
      "needs_background": "light"
     },
     "output_type": "display_data"
    }
   ],
   "source": [
    "import seaborn as sns\n",
    "\n",
    "sns.kdeplot(data=test_score, x=\"pred\", hue=\"incident_cad\", common_norm=False, fill=True)"
   ]
  },
  {
   "cell_type": "code",
   "execution_count": 37,
   "metadata": {},
   "outputs": [],
   "source": [
    "import pandas as pd\n",
    "from sklearn.metrics import (\n",
    "    roc_auc_score,\n",
    "    accuracy_score,\n",
    "    f1_score,\n",
    "    roc_curve,\n",
    "    precision_recall_curve,\n",
    "    auc,\n",
    ")\n",
    "\n",
    "\n",
    "from tqdm.rich import tqdm\n",
    "import numpy as np\n",
    "\n",
    "from statsmodels.stats.multitest import multipletests\n",
    "\n",
    "\n",
    "import statsmodels.api as sm\n",
    "\n",
    "from sklearn.metrics import (\n",
    "    roc_auc_score,\n",
    "    accuracy_score,\n",
    ")\n",
    "from scipy.stats import pearsonr, spearmanr\n",
    "\n",
    "\n",
    "def generate_multipletests_result(df, pvalue_col=\"pvalue\", alpha=0.05, method=\"fdr_bh\"):\n",
    "    df = df.copy()\n",
    "    pvalue_series = df[pvalue_col]\n",
    "    reject, pvals_corrected, _, _ = multipletests(\n",
    "        pvalue_series, alpha=alpha, method=\"fdr_bh\"\n",
    "    )\n",
    "    df[\"pval_corrected\"] = pvals_corrected\n",
    "    df[\"reject\"] = reject\n",
    "    return df\n",
    "\n",
    "\n",
    "def find_best_cutoff(fpr, tpr, thresholds):\n",
    "    diff = tpr - fpr\n",
    "    Youden_index = np.argmax(diff)\n",
    "    optimal_threshold = thresholds[Youden_index]\n",
    "    optimal_FPR, optimal_TPR = fpr[Youden_index], tpr[Youden_index]\n",
    "    return optimal_threshold, optimal_FPR, optimal_TPR\n",
    "\n",
    "\n",
    "def cal_binary_metrics(y, y_pred):\n",
    "    fpr, tpr, thresholds = roc_curve(y, y_pred)\n",
    "    AUC = roc_auc_score(y, y_pred)\n",
    "    # by best youden\n",
    "\n",
    "    optim_threshold, optim_fpr, optim_tpr = find_best_cutoff(fpr, tpr, thresholds)\n",
    "    y_pred_binary = (y_pred > optim_threshold).astype(int)\n",
    "    ACC = accuracy_score(y, y_pred_binary)\n",
    "    macro_f1 = f1_score(y, y_pred_binary, average=\"macro\")\n",
    "    sensitivity = optim_tpr\n",
    "    specificity = 1 - optim_fpr\n",
    "    precision, recall, _ = precision_recall_curve(y, y_pred)\n",
    "    APR = auc(recall, precision)\n",
    "\n",
    "    return {\n",
    "        \"AUC\": AUC,\n",
    "        \"ACC\": ACC,\n",
    "        \"Macro_F1\": macro_f1,\n",
    "        \"Sensitivity\": sensitivity,\n",
    "        \"Specificity\": specificity,\n",
    "        \"APR\": APR,\n",
    "    }"
   ]
  },
  {
   "cell_type": "code",
   "execution_count": 38,
   "metadata": {},
   "outputs": [
    {
     "data": {
      "text/plain": [
       "{'AUC': 0.6285703266853697,\n",
       " 'ACC': 0.6671850699844479,\n",
       " 'Macro_F1': 0.47085560857556946,\n",
       " 'Sensitivity': 0.539015606242497,\n",
       " 'Specificity': 0.6745667511473389,\n",
       " 'APR': 0.09274996784703754}"
      ]
     },
     "execution_count": 38,
     "metadata": {},
     "output_type": "execute_result"
    }
   ],
   "source": [
    "cal_binary_metrics(test_score.incident_cad, test_score.pred)"
   ]
  },
  {
   "cell_type": "code",
   "execution_count": null,
   "metadata": {},
   "outputs": [],
   "source": []
  }
 ],
 "metadata": {
  "kernelspec": {
   "display_name": "rapids-24.02",
   "language": "python",
   "name": "python3"
  },
  "language_info": {
   "codemirror_mode": {
    "name": "ipython",
    "version": 3
   },
   "file_extension": ".py",
   "mimetype": "text/x-python",
   "name": "python",
   "nbconvert_exporter": "python",
   "pygments_lexer": "ipython3",
   "version": "3.12.1"
  }
 },
 "nbformat": 4,
 "nbformat_minor": 2
}
